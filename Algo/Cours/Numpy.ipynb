{
  "nbformat": 4,
  "nbformat_minor": 0,
  "metadata": {
    "kernelspec": {
      "display_name": "Python 3",
      "language": "python",
      "name": "python3"
    },
    "language_info": {
      "codemirror_mode": {
        "name": "ipython",
        "version": 3
      },
      "file_extension": ".py",
      "mimetype": "text/x-python",
      "name": "python",
      "nbconvert_exporter": "python",
      "pygments_lexer": "ipython3",
      "version": "3.8.3"
    },
    "colab": {
      "name": "Numpy.ipynb",
      "provenance": [],
      "include_colab_link": true
    }
  },
  "cells": [
    {
      "cell_type": "markdown",
      "metadata": {
        "id": "view-in-github",
        "colab_type": "text"
      },
      "source": [
        "<a href=\"https://colab.research.google.com/github/AureohDev/Tech_Lead_Exos/blob/main/Algo/Cours/Numpy.ipynb\" target=\"_parent\"><img src=\"https://colab.research.google.com/assets/colab-badge.svg\" alt=\"Open In Colab\"/></a>"
      ]
    },
    {
      "cell_type": "markdown",
      "metadata": {
        "id": "0ZZmwc-LEYF8"
      },
      "source": [
        "# Numpy  \n",
        "\n",
        "_________________________________\n",
        "\n",
        "## Durée du cours  \n",
        "**1h**\n",
        "\n",
        "_________________________________\n",
        "\n",
        "## Contexte\n",
        "### Pré-requis\n",
        "- Connaissance de la syntaxe Python \n",
        "- Connaissance de la programmation orientée objet en Python \n",
        "- Mathématique niveau lycée \n",
        "- De la bonne humeur et de la motivation 🚀\n",
        "\n",
        "\n",
        "NumPy est une extension du langage de programmation Python, **destinée à manipuler des matrices ou tableaux multidimensionnels ainsi que des fonctions mathématiques opérant sur ces tableaux.**\n",
        "Plus précisément, cette bibliothèque logicielle libre et open source fournit de multiples fonctions permettant notamment de créer des vecteurs, matrices et polynômes.\n",
        "NumPy est la base de SciPy, un regroupement de bibliothèques Python autour du calcul scientifique. \n",
        "\n",
        "_________________________________\n",
        "\n",
        "## Sommaire \n",
        "* [Installer numpy](#install)\n",
        "* [La gestion des tableaux](#tab)\n",
        "* [Les opérations et fonctions principales de la librairie](#functions)\n",
        "* [Les statistiques de base](#stats)\n",
        "\n",
        "\n",
        "\n",
        "## <a id=#install>Installer numpy()</a>\n",
        "\n",
        "### Vérifier déjà que vous n'avez pas numpy avec `pip list` : \n",
        "Avant d'installer numpy, on peut vérifier si il est présent sur votre machine avec la commande suivante :\n",
        "```\n",
        "pip list \n",
        "```\n",
        "Si numpy ne s'affiche pas c'est qu'il n'est pas installé. \n",
        "\n",
        "### Installation avec `pip`\n",
        "\n",
        "Vous pouvez installer numpy de plusieurs manières. \n",
        "\n",
        "Manuellement depuis votre terminal lancer la commande suivante :  \n",
        "```bash \n",
        "pip install numpy\n",
        "```\n",
        "ou si vous êtes dans un notebook \n",
        "```python \n",
        "!pip install numpy \n",
        "```\n",
        "Vous pouvez vérifier votre installation en tapant dans votre notebook la ligne de commande : \n",
        "```python\n",
        "import numpy as np\n",
        "```\n",
        "\n",
        "Si la cellule s'execute et passe à la suivante c'est que numpy est bien présent sur votre machine. Dans le cas contraire vous allez avoir une erreur du type `Not Found`. "
      ]
    },
    {
      "cell_type": "code",
      "metadata": {
        "id": "fVflNvdwEYF9"
      },
      "source": [
        "import numpy as np "
      ],
      "execution_count": null,
      "outputs": []
    },
    {
      "cell_type": "markdown",
      "metadata": {
        "id": "IykjJmg3EYGB"
      },
      "source": [
        "## <a id=#tab>La gestion des tableaux avec numpy</a>"
      ]
    },
    {
      "cell_type": "code",
      "metadata": {
        "id": "-GfG3cVREYGB",
        "outputId": "1aa0472f-b1d8-4d9a-ae61-d5b6dd0c2b80"
      },
      "source": [
        "a = np.array([1.7,2.8,3])\n",
        "a"
      ],
      "execution_count": null,
      "outputs": [
        {
          "output_type": "execute_result",
          "data": {
            "text/plain": [
              "array([1.7, 2.8, 3. ])"
            ]
          },
          "metadata": {
            "tags": []
          },
          "execution_count": 15
        }
      ]
    },
    {
      "cell_type": "code",
      "metadata": {
        "id": "1YfAnznrEYGF",
        "outputId": "d3144663-29e5-4308-c3ce-adb504d3ca6f"
      },
      "source": [
        "a.dtype"
      ],
      "execution_count": null,
      "outputs": [
        {
          "output_type": "execute_result",
          "data": {
            "text/plain": [
              "dtype('float64')"
            ]
          },
          "metadata": {
            "tags": []
          },
          "execution_count": 16
        }
      ]
    },
    {
      "cell_type": "code",
      "metadata": {
        "id": "xhG72WYiEYGI",
        "outputId": "bee4aeda-9809-4d58-bfb8-1ef9268d66e8"
      },
      "source": [
        "a = np.array([1,2.8,3,'s'])\n",
        "a"
      ],
      "execution_count": null,
      "outputs": [
        {
          "output_type": "execute_result",
          "data": {
            "text/plain": [
              "array(['1', '2.8', '3', 's'], dtype='<U32')"
            ]
          },
          "metadata": {
            "tags": []
          },
          "execution_count": 17
        }
      ]
    },
    {
      "cell_type": "code",
      "metadata": {
        "id": "b1w9dRWiEYGL",
        "outputId": "d6dc74d4-277b-4aae-f322-184210fca46f"
      },
      "source": [
        "a.dtype"
      ],
      "execution_count": null,
      "outputs": [
        {
          "output_type": "execute_result",
          "data": {
            "text/plain": [
              "dtype('<U32')"
            ]
          },
          "metadata": {
            "tags": []
          },
          "execution_count": 18
        }
      ]
    },
    {
      "cell_type": "markdown",
      "metadata": {
        "id": "Zifo4YG6EYGN"
      },
      "source": [
        "Le caractère `U` est l'abréviation de *Unicode String* 🤓"
      ]
    },
    {
      "cell_type": "code",
      "metadata": {
        "id": "gO0_kE0uEYGO",
        "outputId": "f43cc1f3-37d1-460a-989c-25f48899701e"
      },
      "source": [
        "m = np.array([[1, 2], [3, 4]])\n",
        "m"
      ],
      "execution_count": null,
      "outputs": [
        {
          "output_type": "execute_result",
          "data": {
            "text/plain": [
              "array([[1, 2],\n",
              "       [3, 4]])"
            ]
          },
          "metadata": {
            "tags": []
          },
          "execution_count": 19
        }
      ]
    },
    {
      "cell_type": "code",
      "metadata": {
        "id": "ixMiIfsgEYGQ",
        "outputId": "00635d48-cc05-47cd-dd0c-21a5a2fb4c57"
      },
      "source": [
        "#array avec une dimension minimum \n",
        "m2 = np.array([1, 2, 3,4,5], ndmin = 2) \n",
        "m2"
      ],
      "execution_count": null,
      "outputs": [
        {
          "output_type": "execute_result",
          "data": {
            "text/plain": [
              "array([[1, 2, 3, 4, 5]])"
            ]
          },
          "metadata": {
            "tags": []
          },
          "execution_count": 20
        }
      ]
    },
    {
      "cell_type": "code",
      "metadata": {
        "id": "j7vTC55EEYGU",
        "outputId": "7bbc2c6b-5167-46da-b31a-3d59423f952a"
      },
      "source": [
        "#array[ligne][col]\n",
        "m[0][1]"
      ],
      "execution_count": null,
      "outputs": [
        {
          "output_type": "execute_result",
          "data": {
            "text/plain": [
              "2"
            ]
          },
          "metadata": {
            "tags": []
          },
          "execution_count": 21
        }
      ]
    },
    {
      "cell_type": "code",
      "metadata": {
        "id": "Vs_u8a7HEYGW",
        "outputId": "84ea019c-c12c-4072-ca7d-2065adfc9d01"
      },
      "source": [
        "#modif\n",
        "print (\"Avant {}\".format(m))\n",
        "m[0][1] = 9\n",
        "print (\"Après {}\".format(m))"
      ],
      "execution_count": null,
      "outputs": [
        {
          "output_type": "stream",
          "text": [
            "Avant [[1 2]\n",
            " [3 4]]\n",
            "Après [[1 9]\n",
            " [3 4]]\n"
          ],
          "name": "stdout"
        }
      ]
    },
    {
      "cell_type": "code",
      "metadata": {
        "id": "T5ksXYCPEYGY",
        "outputId": "4b948e59-af52-41a0-cb95-e1524a7e3c57"
      },
      "source": [
        "m.shape"
      ],
      "execution_count": null,
      "outputs": [
        {
          "output_type": "execute_result",
          "data": {
            "text/plain": [
              "(2, 2)"
            ]
          },
          "metadata": {
            "tags": []
          },
          "execution_count": 23
        }
      ]
    },
    {
      "cell_type": "code",
      "metadata": {
        "id": "MIVLINvpEYGb",
        "outputId": "da018a01-884c-4ef3-c580-d31efba9287f"
      },
      "source": [
        "m2.shape = (5,1)\n",
        "m2"
      ],
      "execution_count": null,
      "outputs": [
        {
          "output_type": "execute_result",
          "data": {
            "text/plain": [
              "array([[1],\n",
              "       [2],\n",
              "       [3],\n",
              "       [4],\n",
              "       [5]])"
            ]
          },
          "metadata": {
            "tags": []
          },
          "execution_count": 24
        }
      ]
    },
    {
      "cell_type": "code",
      "metadata": {
        "id": "1DL2ypRjEYGe",
        "outputId": "ee6f9b63-eeb9-43e0-c282-6419d6de73f6"
      },
      "source": [
        "m2.reshape(1,5)"
      ],
      "execution_count": null,
      "outputs": [
        {
          "output_type": "execute_result",
          "data": {
            "text/plain": [
              "array([[1, 2, 3, 4, 5]])"
            ]
          },
          "metadata": {
            "tags": []
          },
          "execution_count": 25
        }
      ]
    },
    {
      "cell_type": "code",
      "metadata": {
        "id": "Idw_ESNDEYGg",
        "outputId": "dda1676f-ad7a-453f-c7c8-1abcc69c112f"
      },
      "source": [
        "#3d\n",
        "c = np.arange(24).reshape(2,3,4); c"
      ],
      "execution_count": null,
      "outputs": [
        {
          "output_type": "execute_result",
          "data": {
            "text/plain": [
              "array([[[ 0,  1,  2,  3],\n",
              "        [ 4,  5,  6,  7],\n",
              "        [ 8,  9, 10, 11]],\n",
              "\n",
              "       [[12, 13, 14, 15],\n",
              "        [16, 17, 18, 19],\n",
              "        [20, 21, 22, 23]]])"
            ]
          },
          "metadata": {
            "tags": []
          },
          "execution_count": 26
        }
      ]
    },
    {
      "cell_type": "code",
      "metadata": {
        "id": "piJYLc3PEYGj",
        "outputId": "c4d060c6-8c61-4c21-f3ba-2ec4526f6b33"
      },
      "source": [
        "#dimension de l'array\n",
        "c.ndim, m.ndim"
      ],
      "execution_count": null,
      "outputs": [
        {
          "output_type": "execute_result",
          "data": {
            "text/plain": [
              "(3, 2)"
            ]
          },
          "metadata": {
            "tags": []
          },
          "execution_count": 27
        }
      ]
    },
    {
      "cell_type": "markdown",
      "metadata": {
        "id": "yq3FuFIAEYGl"
      },
      "source": [
        "### Sélection d'une partie d'un array \n",
        "\n",
        "Soit `ar` un array 2d tel que :\n",
        "```python\n",
        "ar = numpy.array([[1, 2, 3], [4, 5, 6], [7, 8, 9]])\n",
        "```\n",
        "alors : \n",
        "- `ar[1:3,0:2]` : récupère le sous-array des lignes 2 et 3, et des colonnes 1 et 2.\n",
        "- `ar[1,:]` : renvoie la 2ème ligne, mais l'array renvoyée n'a plus qu'une seule dimension \n",
        "- `ar[1:2,:]` : renvoie aussi la 2ème ligne, mais en conservant les 2 dimensions)\n",
        "- `ar[:,-1]` : renvoie la dernière colonne"
      ]
    },
    {
      "cell_type": "code",
      "metadata": {
        "id": "D9gwczcuEYGm",
        "outputId": "ef461d21-4c58-4d09-ecaa-bec7388d55ce"
      },
      "source": [
        "a = np.array([[1, 2, 3], [4, 5, 6]])\n",
        "a[0:2]"
      ],
      "execution_count": null,
      "outputs": [
        {
          "output_type": "execute_result",
          "data": {
            "text/plain": [
              "array([[1, 2, 3],\n",
              "       [4, 5, 6]])"
            ]
          },
          "metadata": {
            "tags": []
          },
          "execution_count": 28
        }
      ]
    },
    {
      "cell_type": "code",
      "metadata": {
        "id": "K2N-Ca8iEYGo",
        "outputId": "0c255ef2-5cb8-4b5c-cb57-3d0123f160dd"
      },
      "source": [
        "a[-1]"
      ],
      "execution_count": null,
      "outputs": [
        {
          "output_type": "execute_result",
          "data": {
            "text/plain": [
              "array([4, 5, 6])"
            ]
          },
          "metadata": {
            "tags": []
          },
          "execution_count": 29
        }
      ]
    },
    {
      "cell_type": "code",
      "metadata": {
        "id": "Z2eoyZowEYGq",
        "outputId": "67184070-3334-4caf-a739-5fa6072f5497"
      },
      "source": [
        "a[:]"
      ],
      "execution_count": null,
      "outputs": [
        {
          "output_type": "execute_result",
          "data": {
            "text/plain": [
              "array([[1, 2, 3],\n",
              "       [4, 5, 6]])"
            ]
          },
          "metadata": {
            "tags": []
          },
          "execution_count": 30
        }
      ]
    },
    {
      "cell_type": "code",
      "metadata": {
        "id": "9NfQjuHpEYGu",
        "outputId": "4004b96c-fda8-457e-9d9c-0b04d70e051e"
      },
      "source": [
        "#sous-array 2d des 2 premières lignes et 2 premières colonne\n",
        "a[0:2,0:2] "
      ],
      "execution_count": null,
      "outputs": [
        {
          "output_type": "execute_result",
          "data": {
            "text/plain": [
              "array([[1, 2],\n",
              "       [4, 5]])"
            ]
          },
          "metadata": {
            "tags": []
          },
          "execution_count": 31
        }
      ]
    },
    {
      "cell_type": "code",
      "metadata": {
        "scrolled": true,
        "id": "Cn2T3PqxEYGx",
        "outputId": "24ce7510-826f-4c67-cc72-65825bc27b08"
      },
      "source": [
        "#on peut filtrer par valeur \n",
        "a == 2"
      ],
      "execution_count": null,
      "outputs": [
        {
          "output_type": "execute_result",
          "data": {
            "text/plain": [
              "array([[False,  True, False],\n",
              "       [False, False, False]])"
            ]
          },
          "metadata": {
            "tags": []
          },
          "execution_count": 32
        }
      ]
    },
    {
      "cell_type": "markdown",
      "metadata": {
        "id": "jWyLwsoREYGz"
      },
      "source": [
        "### Opérations sur les tableaux \n",
        "\n",
        "⚠️ shape de vos tableaux ⚠️"
      ]
    },
    {
      "cell_type": "code",
      "metadata": {
        "id": "QfBiYOQtEYG0",
        "outputId": "87756775-9517-4123-f49b-5844de31b48d"
      },
      "source": [
        "A = np.array([[1,1],[0,1]])\n",
        "B = np.array([[2,0],[3,4]])\n",
        "A,B"
      ],
      "execution_count": null,
      "outputs": [
        {
          "output_type": "execute_result",
          "data": {
            "text/plain": [
              "(array([[1, 1],\n",
              "        [0, 1]]),\n",
              " array([[2, 0],\n",
              "        [3, 4]]))"
            ]
          },
          "metadata": {
            "tags": []
          },
          "execution_count": 33
        }
      ]
    },
    {
      "cell_type": "code",
      "metadata": {
        "id": "nDWa50ckEYG2",
        "outputId": "45d5e137-17bf-4991-9875-1ca6a6717a2b"
      },
      "source": [
        "A+B"
      ],
      "execution_count": null,
      "outputs": [
        {
          "output_type": "execute_result",
          "data": {
            "text/plain": [
              "array([[3, 1],\n",
              "       [3, 5]])"
            ]
          },
          "metadata": {
            "tags": []
          },
          "execution_count": 34
        }
      ]
    },
    {
      "cell_type": "code",
      "metadata": {
        "id": "QZ505fk_EYG5",
        "outputId": "b9938372-3f07-4809-c531-b7beeb2f27e2"
      },
      "source": [
        "A-B"
      ],
      "execution_count": null,
      "outputs": [
        {
          "output_type": "execute_result",
          "data": {
            "text/plain": [
              "array([[-1,  1],\n",
              "       [-3, -3]])"
            ]
          },
          "metadata": {
            "tags": []
          },
          "execution_count": 35
        }
      ]
    },
    {
      "cell_type": "code",
      "metadata": {
        "id": "XhpbFsqAEYG7",
        "outputId": "aab891ca-8cd6-42dd-a6b3-3f33dc446973"
      },
      "source": [
        "A*B"
      ],
      "execution_count": null,
      "outputs": [
        {
          "output_type": "execute_result",
          "data": {
            "text/plain": [
              "array([[2, 0],\n",
              "       [0, 4]])"
            ]
          },
          "metadata": {
            "tags": []
          },
          "execution_count": 36
        }
      ]
    },
    {
      "cell_type": "code",
      "metadata": {
        "id": "OMuIpryCEYG-",
        "outputId": "3a9591f2-5ac7-4bf9-cb9e-61afd979c7b7"
      },
      "source": [
        "A/B"
      ],
      "execution_count": null,
      "outputs": [
        {
          "output_type": "stream",
          "text": [
            "<ipython-input-37-5d618eb3152c>:1: RuntimeWarning: divide by zero encountered in true_divide\n",
            "  A/B\n"
          ],
          "name": "stderr"
        },
        {
          "output_type": "execute_result",
          "data": {
            "text/plain": [
              "array([[0.5 ,  inf],\n",
              "       [0.  , 0.25]])"
            ]
          },
          "metadata": {
            "tags": []
          },
          "execution_count": 37
        }
      ]
    },
    {
      "cell_type": "code",
      "metadata": {
        "id": "Z688VQKvEYHA",
        "outputId": "23e71e29-78c7-4d0f-dd0d-112aed7bae54"
      },
      "source": [
        "#produit matricielle\n",
        "A.dot(B)"
      ],
      "execution_count": null,
      "outputs": [
        {
          "output_type": "execute_result",
          "data": {
            "text/plain": [
              "array([[5, 4],\n",
              "       [3, 4]])"
            ]
          },
          "metadata": {
            "tags": []
          },
          "execution_count": 38
        }
      ]
    },
    {
      "cell_type": "markdown",
      "metadata": {
        "id": "mtC-6ry-EYHC"
      },
      "source": [
        "### Les fonctions mathématiques de base \n",
        "La plupart des méthodes numpy s'opérant sur des tableaux, elles partagent souvent l'argument `axis` où `axis=1` fait référence aux lignes et `axis=0` aux colonnes. "
      ]
    },
    {
      "cell_type": "code",
      "metadata": {
        "id": "u3Hj3wClEYHD",
        "outputId": "d85bec8e-2aa3-474a-9252-9f8486a9a137"
      },
      "source": [
        "#min et max \n",
        "a = np.array([1.7,2.8,3])\n",
        "a.min(), a.max()"
      ],
      "execution_count": null,
      "outputs": [
        {
          "output_type": "execute_result",
          "data": {
            "text/plain": [
              "(1.7, 3.0)"
            ]
          },
          "metadata": {
            "tags": []
          },
          "execution_count": 39
        }
      ]
    },
    {
      "cell_type": "code",
      "metadata": {
        "id": "W79XRYIMEYHK",
        "outputId": "bf8cebf7-280a-4029-d805-1fe606bd3ea9"
      },
      "source": [
        "a.argmax(),a.argmin()"
      ],
      "execution_count": null,
      "outputs": [
        {
          "output_type": "execute_result",
          "data": {
            "text/plain": [
              "(2, 0)"
            ]
          },
          "metadata": {
            "tags": []
          },
          "execution_count": 40
        }
      ]
    },
    {
      "cell_type": "code",
      "metadata": {
        "id": "fC-eaOmXEYHN",
        "outputId": "fcffe5fa-6ddc-41f5-bec7-3b1a38da47be"
      },
      "source": [
        "#moyenne \n",
        "a.mean()"
      ],
      "execution_count": null,
      "outputs": [
        {
          "output_type": "execute_result",
          "data": {
            "text/plain": [
              "2.5"
            ]
          },
          "metadata": {
            "tags": []
          },
          "execution_count": 41
        }
      ]
    },
    {
      "cell_type": "code",
      "metadata": {
        "id": "1tCgI2UaEYHP",
        "outputId": "f09ac216-cbf0-4236-91b0-7ff91859f71f"
      },
      "source": [
        "#somme\n",
        "b=np.array([[1, 2], [3, 4]])\n",
        "b.sum(axis=0)"
      ],
      "execution_count": null,
      "outputs": [
        {
          "output_type": "execute_result",
          "data": {
            "text/plain": [
              "array([4, 6])"
            ]
          },
          "metadata": {
            "tags": []
          },
          "execution_count": 42
        }
      ]
    },
    {
      "cell_type": "code",
      "metadata": {
        "id": "gi7usSAnEYHR",
        "outputId": "b675353e-5096-44a4-8f73-4f2661adba2c"
      },
      "source": [
        "b.sum(axis=1)"
      ],
      "execution_count": null,
      "outputs": [
        {
          "output_type": "execute_result",
          "data": {
            "text/plain": [
              "array([3, 7])"
            ]
          },
          "metadata": {
            "tags": []
          },
          "execution_count": 43
        }
      ]
    },
    {
      "cell_type": "code",
      "metadata": {
        "id": "-tTrSpCdEYHU",
        "outputId": "7221d680-ec43-4f0e-8c88-4f2229ecd399"
      },
      "source": [
        "#somme cumulée\n",
        "np.array([1,2,3,4]).cumsum() "
      ],
      "execution_count": null,
      "outputs": [
        {
          "output_type": "execute_result",
          "data": {
            "text/plain": [
              "array([ 1,  3,  6, 10], dtype=int32)"
            ]
          },
          "metadata": {
            "tags": []
          },
          "execution_count": 44
        }
      ]
    },
    {
      "cell_type": "code",
      "metadata": {
        "id": "QVuNa-yDEYHW",
        "outputId": "2d0fe603-6721-49e1-b177-b4eeac0e39d8"
      },
      "source": [
        "b.cumsum(axis=1)"
      ],
      "execution_count": null,
      "outputs": [
        {
          "output_type": "execute_result",
          "data": {
            "text/plain": [
              "array([[1, 3],\n",
              "       [3, 7]], dtype=int32)"
            ]
          },
          "metadata": {
            "tags": []
          },
          "execution_count": 45
        }
      ]
    },
    {
      "cell_type": "code",
      "metadata": {
        "id": "QVC1y0NXEYHZ",
        "outputId": "93f003dd-4ccc-44cf-cb5a-35330a7d1f22"
      },
      "source": [
        "#position du max\n",
        "np.argmax(b,axis=1)"
      ],
      "execution_count": null,
      "outputs": [
        {
          "output_type": "execute_result",
          "data": {
            "text/plain": [
              "array([1, 1], dtype=int64)"
            ]
          },
          "metadata": {
            "tags": []
          },
          "execution_count": 46
        }
      ]
    },
    {
      "cell_type": "markdown",
      "metadata": {
        "id": "qLf37dr4EYHc"
      },
      "source": [
        "#### Plus de fonctions mathématiques \n",
        "- `np.exp`, `np.log` : exponentielle, logarithme (base e)\n",
        "- `np.log10` : logarithme en base 10\n",
        "- `np.sqrt` : racine carrée\n",
        "- `np.square` : carrés\n",
        "- `np.sin`, `np.cos` et `np.tan` : les fonctions trigonométriques classiques, avec un argument en radians\n",
        "- [Encore pleins de choses](https://docs.scipy.org/doc/numpy-1.13.0/reference/routines.math.html) 👀"
      ]
    },
    {
      "cell_type": "markdown",
      "metadata": {
        "id": "OQxNLWU5EYHc"
      },
      "source": [
        "## <a id=\"functions\">Les fonctions principales de la librairie </a>"
      ]
    },
    {
      "cell_type": "code",
      "metadata": {
        "id": "mzG42reQEYHd",
        "outputId": "2e994f77-0316-4aa6-ad4d-2b54a9ac6f91"
      },
      "source": [
        "np.arange(10)"
      ],
      "execution_count": null,
      "outputs": [
        {
          "output_type": "execute_result",
          "data": {
            "text/plain": [
              "array([0, 1, 2, 3, 4, 5, 6, 7, 8, 9])"
            ]
          },
          "metadata": {
            "tags": []
          },
          "execution_count": 47
        }
      ]
    },
    {
      "cell_type": "code",
      "metadata": {
        "id": "yvihms6BEYHf",
        "outputId": "84bfe993-bbf8-426e-dd0d-f09cc78e131f"
      },
      "source": [
        "np.arange( 0, 2, 0.3 )"
      ],
      "execution_count": null,
      "outputs": [
        {
          "output_type": "execute_result",
          "data": {
            "text/plain": [
              "array([0. , 0.3, 0.6, 0.9, 1.2, 1.5, 1.8])"
            ]
          },
          "metadata": {
            "tags": []
          },
          "execution_count": 48
        }
      ]
    },
    {
      "cell_type": "code",
      "metadata": {
        "scrolled": true,
        "id": "43XOTrapEYHh",
        "outputId": "aeb7ece2-dab9-4ace-ae13-d6a49709d77a"
      },
      "source": [
        "np.arange(10).reshape(5,2)"
      ],
      "execution_count": null,
      "outputs": [
        {
          "output_type": "execute_result",
          "data": {
            "text/plain": [
              "array([[0, 1],\n",
              "       [2, 3],\n",
              "       [4, 5],\n",
              "       [6, 7],\n",
              "       [8, 9]])"
            ]
          },
          "metadata": {
            "tags": []
          },
          "execution_count": 49
        }
      ]
    },
    {
      "cell_type": "code",
      "metadata": {
        "id": "VIl0EJcFEYHj",
        "outputId": "a7e097e5-fdcc-4e54-f7c9-c0bd7dc48e0c"
      },
      "source": [
        "#permet de construire des array répétés :\n",
        "np.tile(7, 3)"
      ],
      "execution_count": null,
      "outputs": [
        {
          "output_type": "execute_result",
          "data": {
            "text/plain": [
              "array([7, 7, 7])"
            ]
          },
          "metadata": {
            "tags": []
          },
          "execution_count": 50
        }
      ]
    },
    {
      "cell_type": "code",
      "metadata": {
        "id": "IO-P6RxXEYHm",
        "outputId": "7392dcde-e3eb-4aaa-e69a-038cfd4658c6"
      },
      "source": [
        "np.zeros((3,4))"
      ],
      "execution_count": null,
      "outputs": [
        {
          "output_type": "execute_result",
          "data": {
            "text/plain": [
              "array([[0., 0., 0., 0.],\n",
              "       [0., 0., 0., 0.],\n",
              "       [0., 0., 0., 0.]])"
            ]
          },
          "metadata": {
            "tags": []
          },
          "execution_count": 51
        }
      ]
    },
    {
      "cell_type": "code",
      "metadata": {
        "id": "l39iv6WNEYHo",
        "outputId": "999bd1c4-c43f-47b3-c0c3-96cd23dd6056"
      },
      "source": [
        "np.ones((2,3,4), dtype='int8')"
      ],
      "execution_count": null,
      "outputs": [
        {
          "output_type": "execute_result",
          "data": {
            "text/plain": [
              "array([[[1, 1, 1, 1],\n",
              "        [1, 1, 1, 1],\n",
              "        [1, 1, 1, 1]],\n",
              "\n",
              "       [[1, 1, 1, 1],\n",
              "        [1, 1, 1, 1],\n",
              "        [1, 1, 1, 1]]], dtype=int8)"
            ]
          },
          "metadata": {
            "tags": []
          },
          "execution_count": 52
        }
      ]
    },
    {
      "cell_type": "code",
      "metadata": {
        "id": "7dPBi05ZEYHq",
        "outputId": "9c563567-a574-4658-a93e-416fb862d33e"
      },
      "source": [
        "#numpy.eye permet aussi de faire des diagonales autre que la diagonale principale \n",
        "np.eye(3, 3, 1)\n",
        "#avec numpy.eye(3, 3, -1), on aurait la sous-diagonale\n",
        "#avec numpy.eye(3, 3, 2), on aurait un 1 en haut à droite"
      ],
      "execution_count": null,
      "outputs": [
        {
          "output_type": "execute_result",
          "data": {
            "text/plain": [
              "array([[0., 1., 0.],\n",
              "       [0., 0., 1.],\n",
              "       [0., 0., 0.]])"
            ]
          },
          "metadata": {
            "tags": []
          },
          "execution_count": 53
        }
      ]
    },
    {
      "cell_type": "code",
      "metadata": {
        "id": "ZM_GT6VhEYHt",
        "outputId": "2d57bba4-24e0-4b4d-dd14-e0c8328e4834"
      },
      "source": [
        "np.diag(np.array([1, 4])) #crée une matrice diagonale avec la diagonale indiquée en array "
      ],
      "execution_count": null,
      "outputs": [
        {
          "output_type": "execute_result",
          "data": {
            "text/plain": [
              "array([[1, 0],\n",
              "       [0, 4]])"
            ]
          },
          "metadata": {
            "tags": []
          },
          "execution_count": 54
        }
      ]
    },
    {
      "cell_type": "code",
      "metadata": {
        "id": "9oG6Yi4xEYHz",
        "outputId": "192ea199-2f27-4e47-adad-90c9b15d23bb"
      },
      "source": [
        "np.linspace(0, 2, 9)"
      ],
      "execution_count": null,
      "outputs": [
        {
          "output_type": "execute_result",
          "data": {
            "text/plain": [
              "array([0.  , 0.25, 0.5 , 0.75, 1.  , 1.25, 1.5 , 1.75, 2.  ])"
            ]
          },
          "metadata": {
            "tags": []
          },
          "execution_count": 55
        }
      ]
    },
    {
      "cell_type": "code",
      "metadata": {
        "id": "OU0eEfeLEYH3",
        "outputId": "e8c320e0-2268-4878-941b-cde0a5015018"
      },
      "source": [
        "x = np.linspace(0, 2*np.pi, 100)\n",
        "#exemple avec la fonction sinus\n",
        "f = lambda x : np.sin(x)\n",
        "f(x)"
      ],
      "execution_count": null,
      "outputs": [
        {
          "output_type": "execute_result",
          "data": {
            "text/plain": [
              "array([ 0.00000000e+00,  6.34239197e-02,  1.26592454e-01,  1.89251244e-01,\n",
              "        2.51147987e-01,  3.12033446e-01,  3.71662456e-01,  4.29794912e-01,\n",
              "        4.86196736e-01,  5.40640817e-01,  5.92907929e-01,  6.42787610e-01,\n",
              "        6.90079011e-01,  7.34591709e-01,  7.76146464e-01,  8.14575952e-01,\n",
              "        8.49725430e-01,  8.81453363e-01,  9.09631995e-01,  9.34147860e-01,\n",
              "        9.54902241e-01,  9.71811568e-01,  9.84807753e-01,  9.93838464e-01,\n",
              "        9.98867339e-01,  9.99874128e-01,  9.96854776e-01,  9.89821442e-01,\n",
              "        9.78802446e-01,  9.63842159e-01,  9.45000819e-01,  9.22354294e-01,\n",
              "        8.95993774e-01,  8.66025404e-01,  8.32569855e-01,  7.95761841e-01,\n",
              "        7.55749574e-01,  7.12694171e-01,  6.66769001e-01,  6.18158986e-01,\n",
              "        5.67059864e-01,  5.13677392e-01,  4.58226522e-01,  4.00930535e-01,\n",
              "        3.42020143e-01,  2.81732557e-01,  2.20310533e-01,  1.58001396e-01,\n",
              "        9.50560433e-02,  3.17279335e-02, -3.17279335e-02, -9.50560433e-02,\n",
              "       -1.58001396e-01, -2.20310533e-01, -2.81732557e-01, -3.42020143e-01,\n",
              "       -4.00930535e-01, -4.58226522e-01, -5.13677392e-01, -5.67059864e-01,\n",
              "       -6.18158986e-01, -6.66769001e-01, -7.12694171e-01, -7.55749574e-01,\n",
              "       -7.95761841e-01, -8.32569855e-01, -8.66025404e-01, -8.95993774e-01,\n",
              "       -9.22354294e-01, -9.45000819e-01, -9.63842159e-01, -9.78802446e-01,\n",
              "       -9.89821442e-01, -9.96854776e-01, -9.99874128e-01, -9.98867339e-01,\n",
              "       -9.93838464e-01, -9.84807753e-01, -9.71811568e-01, -9.54902241e-01,\n",
              "       -9.34147860e-01, -9.09631995e-01, -8.81453363e-01, -8.49725430e-01,\n",
              "       -8.14575952e-01, -7.76146464e-01, -7.34591709e-01, -6.90079011e-01,\n",
              "       -6.42787610e-01, -5.92907929e-01, -5.40640817e-01, -4.86196736e-01,\n",
              "       -4.29794912e-01, -3.71662456e-01, -3.12033446e-01, -2.51147987e-01,\n",
              "       -1.89251244e-01, -1.26592454e-01, -6.34239197e-02, -2.44929360e-16])"
            ]
          },
          "metadata": {
            "tags": []
          },
          "execution_count": 56
        }
      ]
    },
    {
      "cell_type": "markdown",
      "metadata": {
        "id": "kKc3B2g6EYH5"
      },
      "source": [
        "#### La copie et concaténation de tableaux avec `copy()` et `stack()`"
      ]
    },
    {
      "cell_type": "code",
      "metadata": {
        "id": "v5-StgT1EYH6"
      },
      "source": [
        "#copy \n",
        "cop = x.copy()"
      ],
      "execution_count": null,
      "outputs": []
    },
    {
      "cell_type": "code",
      "metadata": {
        "id": "XBain3vJEYH7",
        "outputId": "d1da848d-e68b-4e89-cd52-001852258aef"
      },
      "source": [
        "#concatenation \n",
        "np.stack([x[0:10],x[-10:]])"
      ],
      "execution_count": null,
      "outputs": [
        {
          "output_type": "execute_result",
          "data": {
            "text/plain": [
              "array([[0.        , 0.06346652, 0.12693304, 0.19039955, 0.25386607,\n",
              "        0.31733259, 0.38079911, 0.44426563, 0.50773215, 0.57119866],\n",
              "       [5.71198664, 5.77545316, 5.83891968, 5.9023862 , 5.96585272,\n",
              "        6.02931923, 6.09278575, 6.15625227, 6.21971879, 6.28318531]])"
            ]
          },
          "metadata": {
            "tags": []
          },
          "execution_count": 58
        }
      ]
    },
    {
      "cell_type": "markdown",
      "metadata": {
        "id": "i4o_m5ZdEYIA"
      },
      "source": [
        "### La génération de nombre aléatoire \n",
        "\n",
        "La production de nombre aléatoire est un vaste sujet, je vous renvoie à l'excellent [article wikipedia](https://fr.wikipedia.org/wiki/Générateur_de_nombres_aléatoires) sur les générateurs de nombre aléatoire. On utilisera comme générateur de nombre aléatoire [numpy.random](https://docs.scipy.org/doc/numpy-1.15.0/reference/routines.random.html) 🤓\n"
      ]
    },
    {
      "cell_type": "code",
      "metadata": {
        "id": "LX-EViZyEYIB",
        "outputId": "19bcc134-13cd-4932-fd37-23863b262df0"
      },
      "source": [
        "rd = np.random\n",
        "#array 1d de 4 nombres d'une distribution gaussienne normalisée\n",
        "rd.rand(4)"
      ],
      "execution_count": null,
      "outputs": [
        {
          "output_type": "execute_result",
          "data": {
            "text/plain": [
              "array([0.61438786, 0.91253404, 0.13496974, 0.81508519])"
            ]
          },
          "metadata": {
            "tags": []
          },
          "execution_count": 59
        }
      ]
    },
    {
      "cell_type": "code",
      "metadata": {
        "id": "rsTIQUI6EYID",
        "outputId": "c2b75e92-366f-4ac4-f6e4-9f3d7fcd2a65"
      },
      "source": [
        "#array 2d de 4 x 2 nombres d'une distribution gaussienne standard\n",
        "rd.randn(4,2)"
      ],
      "execution_count": null,
      "outputs": [
        {
          "output_type": "execute_result",
          "data": {
            "text/plain": [
              "array([[ 0.0537792 ,  1.06549928],\n",
              "       [-1.76982395,  0.88402037],\n",
              "       [ 0.43927112,  0.25510008],\n",
              "       [-0.5763851 , -0.13300346]])"
            ]
          },
          "metadata": {
            "tags": []
          },
          "execution_count": 60
        }
      ]
    },
    {
      "cell_type": "code",
      "metadata": {
        "id": "1yns3aGTEYIF",
        "outputId": "8b12b210-eaef-4b73-a924-0e34e9135a7c"
      },
      "source": [
        "#array 1d de 10 nombres entiers entre 1 et 5, 5 exclus\n",
        "rd.randint(0,5,10)"
      ],
      "execution_count": null,
      "outputs": [
        {
          "output_type": "execute_result",
          "data": {
            "text/plain": [
              "array([2, 2, 0, 1, 2, 1, 1, 1, 2, 0])"
            ]
          },
          "metadata": {
            "tags": []
          },
          "execution_count": 61
        }
      ]
    },
    {
      "cell_type": "code",
      "metadata": {
        "id": "Pt6tx6GCEYIH",
        "outputId": "bb2fa6d7-bb58-4c80-8f0e-41d1383c065b"
      },
      "source": [
        "#renvoie 4 valeurs aléatoires dans l'intervalle [0;1[ \n",
        "rd.ranf(4)"
      ],
      "execution_count": null,
      "outputs": [
        {
          "output_type": "execute_result",
          "data": {
            "text/plain": [
              "array([0.29876581, 0.54563206, 0.61221037, 0.83226819])"
            ]
          },
          "metadata": {
            "tags": []
          },
          "execution_count": 62
        }
      ]
    },
    {
      "cell_type": "markdown",
      "metadata": {
        "id": "6sNCJjWgEYIL"
      },
      "source": [
        "## <a id=\"stats\">Les statistiques de base</a>\n",
        "\n",
        "La statistique est une branche des mathématiques qui consiste à étudier des phénomènes par la collecte de données, leur traitement, leur analyse, l'interprétation des résultats et leur présentation afin de rendre les données compréhensibles par tous. C'est à la fois une science, une méthode et un ensemble de techniques.\n",
        "Comme beaucoup de Sciences, elle possède une composante théorique ainsi qu'une composante appliquée. La composante théorique s'appuie sur la théorie des probabilités et forme avec cette dernière, les sciences de l'aléatoire. La statistique appliquée est utilisée dans presque tous les domaines aujourd'hui : ingénierie, management, économie, politique, biologie, informatique, etc. \n",
        "Définition de [wikipedia](https://fr.wikipedia.org/wiki/Statistique)\n",
        "\n",
        "**« Parmi les thèmes à propos desquels les statisticiens ne sont pas d'accord, se trouve la définition de leur science.»**\n",
        ", *Maurice Kendall* \n",
        "\n",
        "Avant de se lancer nous devons fixer quelques mots de vocabulaire. En effet, il est nécessaire de bien formaliser notre vocabulaire au début afin de ne pas se retrouver bloqué sur des \"*termes techniques*\".\n",
        "\n",
        "\n",
        "### Vocabulaire \n",
        "\n",
        "\n",
        "#### La population et les individus  \n",
        "La population est l’ensemble des individus (ou un individu est une unité statistique) auxquels on décide de sintériser. Sa taille, habituellement désignée par `N`, est grande, ou même infinie. Le choix de la population étudiée dépend du problème qui est à l’origine de la démarche statistique, et de la façon dont on décide de le traiter.\n",
        "Définition de [wikipedia](https://fr.wikipedia.org/wiki/Population).\n",
        "\n",
        "\n",
        "#### Statistique   \n",
        "Une statistique est un nombre, un chiffre calculé à partir d’une population dans l'optique de rendre compte d'un certain aspect de cette même population est une statistique. La moyenne et la variance sont des statistiques. \n",
        "\n",
        "\n",
        "#### Les variables \n",
        "\n",
        "Dans les mathématiques supérieures et en logique, une variable est un symbole représentant, a priori, un objet indéterminé. On peut cependant ajouter des conditions sur cet objet, tel que l'ensemble ou la collection le contenant. On peut alors utiliser une variable pour marquer un rôle dans un prédicat, une formule ou un algorithme, ou bien résoudre des équations et d'autres problèmes. En statistique une variable peut aussi représenter une qualité. Elle peut être quantitative ou qualitative.\n",
        "Définition de [wikipedia](https://fr.wikipedia.org/wiki/Variable_(mathématiques)).\n",
        "\n",
        "* Une variable **quantitative** est une variable Ce lien renvoie vers une page d'homonymie qui reflète une notion de grandeur, c'est-à-dire si les valeurs qu'elle peut prendre sont des nombres. Une grandeur quantitative est souvent exprimée avec une unité de mesure qui sert de référence. Définition de [wikipedia](https://fr.wikipedia.org/wiki/Variable_quantitative).\n",
        "\n",
        "* Une variable **qualitative**, une variable catégorielle, ou bien un facteur est une variable qui prend pour valeur des modalités, des catégories ou bien des niveaux, par opposition aux variables quantitatives qui mesurent sur chaque individu une quantité. Définition de [wikipedia](https://fr.wikipedia.org/wiki/Variable_catégorielle).\n",
        "\n",
        "\n",
        "#### Médiane \n",
        "En théorie des probabilités et en statistiques, la médiane d'un ensemble de valeurs (échantillon, population, distribution de probabilités) est une valeur x qui permet de couper l'ensemble des valeurs en deux parties égales : mettant d'un côté une moitié des valeurs, qui sont toutes inférieures ou égales à x et de l'autre côté l'autre moitié des valeurs, qui sont toutes supérieures ou égales à x (s'il y a un nombre impair de valeurs, la valeur centrale sera mise des deux côtés). Définition de [wikipedia](https://fr.wikipedia.org/wiki/Médiane_(statistiques)).\n",
        "\n",
        "#### Quantiles\n",
        "En statistiques et en théorie des probabilités, les quantiles sont les valeurs qui divisent un jeu de données en intervalles contenant le même nombre de données. Définition de [wikipedia](https://fr.wikipedia.org/wiki/Quantile).\n",
        "\n",
        "\n",
        "#### La variance $V(X)$ et sa racine carrée, l’écart-type $\\sigma(X)$ \n",
        "En statistique et en théorie des probabilités, la variance est une mesure de la dispersion des valeurs d'un échantillon ou d'une distribution de probabilité. L’écart-type est sa racine carrée, il est souvent noté $\\sigma$ *(la lettre grec sigma)*. Ce sont des statistiques de dispersion. On appelle $\\sigma(X)$ la variance du vecteur $X=(x_1,...,x_i,...x_n)$ elle s'écrit de la façon suivante : \n",
        "\n",
        "$${\\sigma(X)}=\\frac1n\\sum_{i=1}^n(x_i-m)^2$$\n",
        "\n",
        "Définition de [wikipedia](https://fr.wikipedia.org/wiki/Variance_(mathématiques)).\n",
        "Elle se calcule avec la fonction `std(X)`.\n",
        "\n",
        "\n",
        "#### Espérance mathématique\n",
        "En théorie des probabilités, l'espérance mathématique d'une variable aléatoire réelle est, intuitivement, la valeur que l'on s'attend à trouver, en moyenne, si l'on répète un grand nombre de fois la même expérience aléatoire. Elle se note pour une variable X : $$\\operatorname {E}(X)$$\n",
        "\n",
        "Définition de [wikipedia](https://fr.wikipedia.org/wiki/Espérance_mathématique). \n",
        "Elle se calcule avec la fonction `mean(X)`.\n",
        "\n",
        "\n",
        "#### La covariance \n",
        "La covariance entre deux variables $X$ et $Y$ est un nombre (une statistique) permettant de quantifier leurs écarts conjoints par rapport à leurs espérances respectives. Elle s'écrit $\\operatorname {cov}(X,Y)$\n",
        "\n",
        "$$\\operatorname {cov}(X,Y)\\equiv \\operatorname {E}[(X-\\operatorname {E}[X])\\,(Y-\\operatorname {E}[Y])]$$\n",
        "\n",
        "Définition de [wikipedia](https://fr.wikipedia.org/wiki/Covariance).\n",
        "Elle se calcule avec la fonction `cov(X,Y)`.\n",
        "\n",
        "#### La corrélation \n",
        "En probabilités et en statistique, la corrélation entre plusieurs variables aléatoires ou statistiques est une notion de liaison qui contredit leur indépendance.\n",
        "\n",
        "Elle s'écrit tel que : \n",
        "\n",
        "$$cor(X, X) = \\frac{cov(X, Y)}{\\sigma(X)\\sigma(X)}$$\n",
        "\n",
        "Définition de [wikipedia](https://fr.wikipedia.org/wiki/Corrélation_(statistiques)).\n",
        "Elle se calcule avec la fonction `correlate(X,Y)`. "
      ]
    },
    {
      "cell_type": "markdown",
      "metadata": {
        "id": "c2hgEwepEYIL"
      },
      "source": [
        "## Ressources en +\n",
        "\n",
        "- La [documentation officielle](https://docs.scipy.org/doc/numpy-1.13.0/reference/) \n",
        "- Le cours très complet des écoles [EPFL-ENAC](https://enacit.epfl.ch/cours/python/scientifique/numpy.html)\n",
        "- Portail wikipedia des mathématiques [ici](https://fr.wikipedia.org/wiki/Portail:Mathématiques) \n",
        "- Résumé synthétique wiki sur les statistiques de base avec Numpy [ici](https://fr.wikibooks.org/wiki/Python_pour_le_calcul_scientifique/Statistiques) "
      ]
    },
    {
      "cell_type": "code",
      "metadata": {
        "id": "OH1qVfVzEYIL"
      },
      "source": [
        ""
      ],
      "execution_count": null,
      "outputs": []
    }
  ]
}