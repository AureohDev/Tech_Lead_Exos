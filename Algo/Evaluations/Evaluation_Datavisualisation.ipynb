{
  "nbformat": 4,
  "nbformat_minor": 0,
  "metadata": {
    "colab": {
      "name": "Evaluation_Datavisualisation.ipynb",
      "provenance": [],
      "collapsed_sections": [],
      "authorship_tag": "ABX9TyM1p8OtLaYfTNGEDAjXlpAX",
      "include_colab_link": true
    },
    "kernelspec": {
      "name": "python3",
      "display_name": "Python 3"
    }
  },
  "cells": [
    {
      "cell_type": "markdown",
      "metadata": {
        "id": "view-in-github",
        "colab_type": "text"
      },
      "source": [
        "<a href=\"https://colab.research.google.com/github/AureohDev/Tech_Lead_Exos/blob/main/Algo/Evaluations/Evaluation_Datavisualisation.ipynb\" target=\"_parent\"><img src=\"https://colab.research.google.com/assets/colab-badge.svg\" alt=\"Open In Colab\"/></a>"
      ]
    },
    {
      "cell_type": "markdown",
      "metadata": {
        "id": "NbD7921RnaNf"
      },
      "source": [
        "# Evaluation sur la datavisualisation \n",
        "\n",
        "Nom : Aurélien Crapart\n",
        "\n",
        "## Problème 1 : Carré "
      ]
    },
    {
      "cell_type": "code",
      "metadata": {
        "id": "wK6ABCpKoX3Q",
        "outputId": "6f3d22f4-d297-4dcf-c541-cb0ce64a7058",
        "colab": {
          "base_uri": "https://localhost:8080/"
        }
      },
      "source": [
        "x = int(input('Valeur de X : '))\n",
        "\n",
        "print('Le Carré de X est '+str(x*x))"
      ],
      "execution_count": 4,
      "outputs": [
        {
          "output_type": "stream",
          "text": [
            "Valeur de X : 10\n",
            "Le Carré de X est 100\n"
          ],
          "name": "stdout"
        }
      ]
    },
    {
      "cell_type": "markdown",
      "metadata": {
        "id": "mzJUILuMo-zV"
      },
      "source": [
        "## Problème 2 : Produit\n"
      ]
    },
    {
      "cell_type": "code",
      "metadata": {
        "id": "z2Dp2_PDpCbk",
        "outputId": "7d629460-365d-4adc-8014-78697bf341a3",
        "colab": {
          "base_uri": "https://localhost:8080/"
        }
      },
      "source": [
        "def product_sign(a,b):\n",
        "  print(str(a)+' * '+str(b))\n",
        "  if a == 0 or b == 0:\n",
        "    print('Le produit est nul')\n",
        "  else :\n",
        "    if (a > 0 and b < 0) or (a < 0 and b > 0) :\n",
        "      print('Le produit est négatif')\n",
        "    else :\n",
        "      print('Le produit est positif')\n",
        "\n",
        "#Test unitaires \n",
        "\n",
        "A = 0\n",
        "B = 5\n",
        "C = -5\n",
        "product_sign(A,A)\n",
        "product_sign(A,B)\n",
        "product_sign(A,C)\n",
        "product_sign(B,B)\n",
        "product_sign(B,C)\n",
        "product_sign(C,C)"
      ],
      "execution_count": 3,
      "outputs": [
        {
          "output_type": "stream",
          "text": [
            "0 * 0\n",
            "Le produit est nul\n",
            "0 * 5\n",
            "Le produit est nul\n",
            "0 * -5\n",
            "Le produit est nul\n",
            "5 * 5\n",
            "Le produit est positif\n",
            "5 * -5\n",
            "Le produit est négatif\n",
            "-5 * -5\n",
            "Le produit est positif\n"
          ],
          "name": "stdout"
        }
      ]
    },
    {
      "cell_type": "markdown",
      "metadata": {
        "id": "uu3NoLekq4Eo"
      },
      "source": [
        "## Problème 3 : Somme "
      ]
    },
    {
      "cell_type": "code",
      "metadata": {
        "id": "nWXb8Owwq7p2",
        "outputId": "f943d643-5a4f-441d-a6ac-a53fad8e3b96",
        "colab": {
          "base_uri": "https://localhost:8080/"
        }
      },
      "source": [
        "from random import randint\n",
        "\n",
        "def int_sum(k):\n",
        "  i = 0\n",
        "  j = 0 \n",
        "\n",
        "  while i <= k :\n",
        "    j = j + i\n",
        "    i += 1 \n",
        "  print('La somme de '+str(k)+' est de '+str(j))\n",
        "\n",
        "k = randint(1,10)\n",
        "int_sum(k)\n",
        "\n"
      ],
      "execution_count": 9,
      "outputs": [
        {
          "output_type": "stream",
          "text": [
            "La somme de 3 est de 6\n"
          ],
          "name": "stdout"
        }
      ]
    },
    {
      "cell_type": "markdown",
      "metadata": {
        "id": "OHIe0qVysS6I"
      },
      "source": [
        "## Problème 4 : FacProduct"
      ]
    },
    {
      "cell_type": "code",
      "metadata": {
        "id": "eb7_pnmvseua",
        "outputId": "6c0f05cb-f020-4b8b-deab-2e3565076d3a",
        "colab": {
          "base_uri": "https://localhost:8080/"
        }
      },
      "source": [
        "from random import randint\n",
        "\n",
        "n = randint(1,10)\n",
        "a = [randint(1,10) for _ in range(n)]\n",
        "b = [randint(1,10) for _ in range(n)]\n",
        "i = 0\n",
        "j = 0\n",
        "\n",
        "while i < n :\n",
        "  for e in b :\n",
        "    j = j + (a[i] * e)\n",
        "  i += 1\n",
        "\n",
        "print(a)\n",
        "print(b)\n",
        "print('La FacProduct est de '+str(j))"
      ],
      "execution_count": 11,
      "outputs": [
        {
          "output_type": "stream",
          "text": [
            "[2, 9, 7, 7, 6, 2, 3]\n",
            "[7, 2, 8, 8, 8, 2, 9]\n",
            "La FacProduct est de 1584\n"
          ],
          "name": "stdout"
        }
      ]
    },
    {
      "cell_type": "markdown",
      "metadata": {
        "id": "R_G4VSTnswsV"
      },
      "source": [
        "## Problème 5 : Minimum"
      ]
    },
    {
      "cell_type": "code",
      "metadata": {
        "id": "0IdeoXOzszpM",
        "outputId": "cd5a1a2d-7fea-4504-8019-5fee88cee31c",
        "colab": {
          "base_uri": "https://localhost:8080/"
        }
      },
      "source": [
        "from random import randint\n",
        "\n",
        "n = randint(1,10)\n",
        "a = [randint(1,10) for _ in range(n)]\n",
        "print(a)\n",
        "min = a[0]\n",
        "min_pos = 0\n",
        "\n",
        "for e in a :\n",
        "  if e < min :\n",
        "    min = e\n",
        "    min_pos = a.index(e)\n",
        "\n",
        "print(\"La valeur minimal du tableau est \"+str(min)+\" d'index \"+str(min_pos))\n",
        "\n"
      ],
      "execution_count": 13,
      "outputs": [
        {
          "output_type": "stream",
          "text": [
            "[4, 3, 7, 4, 9, 9, 5]\n",
            "La valeur minimal du tableau est 3 d'index 1\n"
          ],
          "name": "stdout"
        }
      ]
    },
    {
      "cell_type": "markdown",
      "metadata": {
        "id": "AP0KsQeCtlhL"
      },
      "source": [
        "## Problème 6 : Tri"
      ]
    },
    {
      "cell_type": "code",
      "metadata": {
        "id": "vcejZa93tpbS",
        "outputId": "9274aaff-cbb4-4c7d-ee65-34820f7ce1b0",
        "colab": {
          "base_uri": "https://localhost:8080/"
        }
      },
      "source": [
        "from random import randint\n",
        "\n",
        "n = randint(1,10)\n",
        "A = [randint(1,10) for _ in range(n)]\n",
        "print(A)\n",
        "\n",
        "for i in range(len(A)):\n",
        "  min = i\n",
        "  for j in range(i+1, len(A)):\n",
        "    if A[min] > A[j]:\n",
        "      min = j\n",
        "  tmp = A[i]\n",
        "  A[i] = A[min]\n",
        "  A[min] = tmp\n",
        "\n",
        "print(A)\n"
      ],
      "execution_count": 14,
      "outputs": [
        {
          "output_type": "stream",
          "text": [
            "[10, 4, 2]\n",
            "[2, 4, 10]\n"
          ],
          "name": "stdout"
        }
      ]
    },
    {
      "cell_type": "markdown",
      "metadata": {
        "id": "4EFIWSnFuBhF"
      },
      "source": [
        "## Problème 7 : Carré et listes\n"
      ]
    },
    {
      "cell_type": "code",
      "metadata": {
        "id": "iex8vhJmuwuB",
        "outputId": "5581d853-117f-4b6b-9375-6d9217ee6eea",
        "colab": {
          "base_uri": "https://localhost:8080/"
        }
      },
      "source": [
        "from random import randint\n",
        "\n",
        "n = randint(1,10)\n",
        "A = [randint(1,10) for _ in range(n)]\n",
        "print(A)\n",
        "i = 0\n",
        "\n",
        "for e in A :\n",
        "  A[i] = e*e\n",
        "  i = i + 1\n",
        "\n",
        "print(A)"
      ],
      "execution_count": 21,
      "outputs": [
        {
          "output_type": "stream",
          "text": [
            "[4, 8, 10, 3, 9, 6, 3]\n",
            "[16, 64, 100, 9, 81, 36, 9]\n"
          ],
          "name": "stdout"
        }
      ]
    },
    {
      "cell_type": "markdown",
      "metadata": {
        "id": "PQtbR8vquzgI"
      },
      "source": [
        "## Problème 8 : Valeur du plus petit doublon"
      ]
    },
    {
      "cell_type": "code",
      "metadata": {
        "id": "2cuejRubwUyA",
        "outputId": "ddf3ff99-12cc-4f3f-da74-f37dce5a9414",
        "colab": {
          "base_uri": "https://localhost:8080/"
        }
      },
      "source": [
        "from random import randint\n",
        "\n",
        "n = randint(1,10)\n",
        "A = [randint(1,10) for _ in range(n)]\n",
        "print(A)\n",
        "min = A[0]\n",
        "min_pos = 0\n",
        "\n",
        "\n"
      ],
      "execution_count": 19,
      "outputs": [
        {
          "output_type": "stream",
          "text": [
            "[5, 8, 7, 8, 5, 1]\n"
          ],
          "name": "stdout"
        }
      ]
    },
    {
      "cell_type": "markdown",
      "metadata": {
        "id": "elQ2-5X9u6qv"
      },
      "source": [
        "## Problème 9 : Multiplication matricielle"
      ]
    },
    {
      "cell_type": "code",
      "metadata": {
        "id": "eKKuZqh-wVND",
        "outputId": "71185b9e-5017-46f9-f6ed-46eec8099e85",
        "colab": {
          "base_uri": "https://localhost:8080/"
        }
      },
      "source": [
        "import numpy as np\n",
        "\n",
        "print('1ere Matrice : ')\n",
        "\n",
        "matrice1 = []\n",
        "rows = int(input(\"Lignes : \"))\n",
        "columns = int(input(\"Colonnes : \"))\n",
        "matrice1 = np.zeros((rows,columns))\n",
        "\n",
        "for j in range(0, columns):\n",
        "  for i in range(0,rows):\n",
        "    matrice1[i,j] = input(\"Valeur de coordonnées \"+str(i)+\";\"+str(j)+\": \")\n",
        "\n",
        "\n",
        "print('2ème Matrice : ')\n",
        "\n",
        "matrice2 = []\n",
        "rows = int(input(\"Lignes : \"))\n",
        "columns = int(input(\"Colonnes : \"))\n",
        "matrice2 = np.zeros((rows,columns))\n",
        "\n",
        "for j in range(0, columns):\n",
        "  for i in range(0,rows):\n",
        "    matrice2[i,j] = input(\"Valeur de coordonnées \"+str(i)+\";\"+str(j)+\": \")\n",
        "\n",
        "print(np.dot(matrice1, matrice2))"
      ],
      "execution_count": 18,
      "outputs": [
        {
          "output_type": "stream",
          "text": [
            "1ere Matrice : \n",
            "Lignes : 1\n",
            "Colonnes : 2\n",
            "Valeur de coordonnées 0;0: 1\n",
            "Valeur de coordonnées 0;1: 2\n",
            "2ème Matrice : \n",
            "Lignes : 2\n",
            "Colonnes : 1\n",
            "Valeur de coordonnées 0;0: 3\n",
            "Valeur de coordonnées 1;0: 4\n",
            "[[11.]]\n"
          ],
          "name": "stdout"
        }
      ]
    },
    {
      "cell_type": "markdown",
      "metadata": {
        "id": "BTsikLknu_EX"
      },
      "source": [
        "## Problème 10 : POO\n",
        "\n",
        "Un language de programmation est dit Orientée Objet (POO) lorsque ce dernier se base sur un système de classes Objets pouvant être manipulé (Ex : un String est un objet)\n",
        "\n",
        "De plus, il est possible de faire de l'héritage c'est à dire qu'une classe parent peut avoir des classes enfants qui pourront conserver certaines variables ou fonctions de la classe parent dont ils héritent. \n",
        "\n",
        "Avec le polymorphisme, il est possible d'avoir deux fonctions avec la meme nomenclature mais selon si c'est une classe parent ou enfant, les fonctions peuvent effectué des taches différentes."
      ]
    },
    {
      "cell_type": "code",
      "metadata": {
        "id": "btPsogd4wlXc"
      },
      "source": [
        ""
      ],
      "execution_count": null,
      "outputs": []
    }
  ]
}