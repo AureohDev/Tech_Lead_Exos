{
  "nbformat": 4,
  "nbformat_minor": 0,
  "metadata": {
    "colab": {
      "name": "TP_DataVisualisation_Smartphone_Price_classification.ipynb",
      "provenance": [],
      "collapsed_sections": [],
      "authorship_tag": "ABX9TyMIYClPo7BmljNH/KJLYTfM",
      "include_colab_link": true
    },
    "kernelspec": {
      "name": "python3",
      "display_name": "Python 3"
    }
  },
  "cells": [
    {
      "cell_type": "markdown",
      "metadata": {
        "id": "view-in-github",
        "colab_type": "text"
      },
      "source": [
        "<a href=\"https://colab.research.google.com/github/AureohDev/Tech_Lead_Exos/blob/main/Algo/Evaluations/TP_DataVisualisation_Smartphone_Price_classification.ipynb\" target=\"_parent\"><img src=\"https://colab.research.google.com/assets/colab-badge.svg\" alt=\"Open In Colab\"/></a>"
      ]
    },
    {
      "cell_type": "markdown",
      "metadata": {
        "id": "40TpMW1quhlE"
      },
      "source": [
        "# TP : Mobile Price Classification\n",
        "\n",
        "![](https://cdn.dribbble.com/users/1206328/screenshots/8502788/media/849733c31aa3bcf3ff8ac8271932d492.png)\n",
        "\n",
        "## Analyse des prix des smartphone\n",
        "\n",
        "Dans ce TP, nous allons réaliser une analyse graphique de données financières sur les classifications de smartphones.\n",
        "L'objectif est de réaliser un Jupyter Notebook présentant les caractéristiques des données.\n",
        "\n",
        "lien du dataset : https://www.kaggle.com/iabhishekofficial/mobile-price-classification\n",
        "\n",
        "train.csv est le dataset séléctionné et les données sont datées de 2017.\n",
        "\n",
        "## Import des librairies et chargement des données\n",
        "\n",
        "Dans cette partie, nous allons charger les librairies utilisées pour un usage classique. On affiche les 5 premiers résulats du fichier pour vérifier que le dataset est bien chargé."
      ]
    },
    {
      "cell_type": "code",
      "metadata": {
        "id": "MFnGOASMCVPa",
        "outputId": "7d448b64-a348-40d5-9fc4-948fb110efe6",
        "colab": {
          "base_uri": "https://localhost:8080/",
          "height": 221
        }
      },
      "source": [
        "import numpy as np\n",
        "import pandas as pd\n",
        "import seaborn as sns\n",
        "import matplotlib.pyplot as plt\n",
        "%matplotlib inline   \n",
        "\n",
        "from google.colab import drive\n",
        "drive.mount('/content/gdrive')\n",
        "root_path = 'gdrive/My Drive/Colab Notebooks/Sources/'\n",
        "data = pd.read_csv(root_path+'mobile_price_classification.csv', sep = ',')\n",
        "\n",
        "data.head()"
      ],
      "execution_count": 2,
      "outputs": [
        {
          "output_type": "stream",
          "text": [
            "Mounted at /content/gdrive\n"
          ],
          "name": "stdout"
        },
        {
          "output_type": "execute_result",
          "data": {
            "text/html": [
              "<div>\n",
              "<style scoped>\n",
              "    .dataframe tbody tr th:only-of-type {\n",
              "        vertical-align: middle;\n",
              "    }\n",
              "\n",
              "    .dataframe tbody tr th {\n",
              "        vertical-align: top;\n",
              "    }\n",
              "\n",
              "    .dataframe thead th {\n",
              "        text-align: right;\n",
              "    }\n",
              "</style>\n",
              "<table border=\"1\" class=\"dataframe\">\n",
              "  <thead>\n",
              "    <tr style=\"text-align: right;\">\n",
              "      <th></th>\n",
              "      <th>battery_power</th>\n",
              "      <th>blue</th>\n",
              "      <th>clock_speed</th>\n",
              "      <th>dual_sim</th>\n",
              "      <th>fc</th>\n",
              "      <th>four_g</th>\n",
              "      <th>int_memory</th>\n",
              "      <th>m_dep</th>\n",
              "      <th>mobile_wt</th>\n",
              "      <th>n_cores</th>\n",
              "      <th>pc</th>\n",
              "      <th>px_height</th>\n",
              "      <th>px_width</th>\n",
              "      <th>ram</th>\n",
              "      <th>sc_h</th>\n",
              "      <th>sc_w</th>\n",
              "      <th>talk_time</th>\n",
              "      <th>three_g</th>\n",
              "      <th>touch_screen</th>\n",
              "      <th>wifi</th>\n",
              "      <th>price_range</th>\n",
              "    </tr>\n",
              "  </thead>\n",
              "  <tbody>\n",
              "    <tr>\n",
              "      <th>0</th>\n",
              "      <td>842</td>\n",
              "      <td>0</td>\n",
              "      <td>2.2</td>\n",
              "      <td>0</td>\n",
              "      <td>1</td>\n",
              "      <td>0</td>\n",
              "      <td>7</td>\n",
              "      <td>0.6</td>\n",
              "      <td>188</td>\n",
              "      <td>2</td>\n",
              "      <td>2</td>\n",
              "      <td>20</td>\n",
              "      <td>756</td>\n",
              "      <td>2549</td>\n",
              "      <td>9</td>\n",
              "      <td>7</td>\n",
              "      <td>19</td>\n",
              "      <td>0</td>\n",
              "      <td>0</td>\n",
              "      <td>1</td>\n",
              "      <td>1</td>\n",
              "    </tr>\n",
              "    <tr>\n",
              "      <th>1</th>\n",
              "      <td>1021</td>\n",
              "      <td>1</td>\n",
              "      <td>0.5</td>\n",
              "      <td>1</td>\n",
              "      <td>0</td>\n",
              "      <td>1</td>\n",
              "      <td>53</td>\n",
              "      <td>0.7</td>\n",
              "      <td>136</td>\n",
              "      <td>3</td>\n",
              "      <td>6</td>\n",
              "      <td>905</td>\n",
              "      <td>1988</td>\n",
              "      <td>2631</td>\n",
              "      <td>17</td>\n",
              "      <td>3</td>\n",
              "      <td>7</td>\n",
              "      <td>1</td>\n",
              "      <td>1</td>\n",
              "      <td>0</td>\n",
              "      <td>2</td>\n",
              "    </tr>\n",
              "    <tr>\n",
              "      <th>2</th>\n",
              "      <td>563</td>\n",
              "      <td>1</td>\n",
              "      <td>0.5</td>\n",
              "      <td>1</td>\n",
              "      <td>2</td>\n",
              "      <td>1</td>\n",
              "      <td>41</td>\n",
              "      <td>0.9</td>\n",
              "      <td>145</td>\n",
              "      <td>5</td>\n",
              "      <td>6</td>\n",
              "      <td>1263</td>\n",
              "      <td>1716</td>\n",
              "      <td>2603</td>\n",
              "      <td>11</td>\n",
              "      <td>2</td>\n",
              "      <td>9</td>\n",
              "      <td>1</td>\n",
              "      <td>1</td>\n",
              "      <td>0</td>\n",
              "      <td>2</td>\n",
              "    </tr>\n",
              "    <tr>\n",
              "      <th>3</th>\n",
              "      <td>615</td>\n",
              "      <td>1</td>\n",
              "      <td>2.5</td>\n",
              "      <td>0</td>\n",
              "      <td>0</td>\n",
              "      <td>0</td>\n",
              "      <td>10</td>\n",
              "      <td>0.8</td>\n",
              "      <td>131</td>\n",
              "      <td>6</td>\n",
              "      <td>9</td>\n",
              "      <td>1216</td>\n",
              "      <td>1786</td>\n",
              "      <td>2769</td>\n",
              "      <td>16</td>\n",
              "      <td>8</td>\n",
              "      <td>11</td>\n",
              "      <td>1</td>\n",
              "      <td>0</td>\n",
              "      <td>0</td>\n",
              "      <td>2</td>\n",
              "    </tr>\n",
              "    <tr>\n",
              "      <th>4</th>\n",
              "      <td>1821</td>\n",
              "      <td>1</td>\n",
              "      <td>1.2</td>\n",
              "      <td>0</td>\n",
              "      <td>13</td>\n",
              "      <td>1</td>\n",
              "      <td>44</td>\n",
              "      <td>0.6</td>\n",
              "      <td>141</td>\n",
              "      <td>2</td>\n",
              "      <td>14</td>\n",
              "      <td>1208</td>\n",
              "      <td>1212</td>\n",
              "      <td>1411</td>\n",
              "      <td>8</td>\n",
              "      <td>2</td>\n",
              "      <td>15</td>\n",
              "      <td>1</td>\n",
              "      <td>1</td>\n",
              "      <td>0</td>\n",
              "      <td>1</td>\n",
              "    </tr>\n",
              "  </tbody>\n",
              "</table>\n",
              "</div>"
            ],
            "text/plain": [
              "   battery_power  blue  clock_speed  ...  touch_screen  wifi  price_range\n",
              "0            842     0          2.2  ...             0     1            1\n",
              "1           1021     1          0.5  ...             1     0            2\n",
              "2            563     1          0.5  ...             1     0            2\n",
              "3            615     1          2.5  ...             0     0            2\n",
              "4           1821     1          1.2  ...             1     0            1\n",
              "\n",
              "[5 rows x 21 columns]"
            ]
          },
          "metadata": {
            "tags": []
          },
          "execution_count": 2
        }
      ]
    },
    {
      "cell_type": "markdown",
      "metadata": {
        "id": "_hPggnPMEREk"
      },
      "source": [
        "## Affichage des données et commentaires sur le dataset\n",
        "\n",
        "On affiche les différentes colonnes du dataset dont voici l'explication :\n",
        "\n",
        ">**id** : Clé d'indexation (Int)  \n",
        ">**battery_power** : Capacité de la batterie en mAh (Int)  \n",
        ">**blue** : Supporte le bluetooth (Bool)  \n",
        ">**clock_speed** : Fréquence du microprocesseur en GHz (Float)  \n",
        ">**dual_sim** : Supporte le \"Dual Sim\" (Bool)  \n",
        ">**fc** : Mégapixels de la caméra frontale (Int)  \n",
        ">**four_g** : Supporte la norme 4G (Bool)  \n",
        ">**int_memory** : Stockage de l'appareil en Go (Int)  \n",
        ">**m_dep** : Epaisseur en cm (Float)  \n",
        ">**mobile_wt** : Poids du téléphone en grammes (Int)  \n",
        ">**n_cores** : Nombre de coeurs du processeur (Int)  \n",
        ">**pc** : Mégapixels de la caméra principale (Int)  \n",
        ">**px_height** : Hauteur de la résolution d'écran en pixel (Int)  \n",
        ">**px_width** : Largeur de la résolution d'écran en pixel (Int)  \n",
        ">**ram** : Mémoire vive en Mo (Int)  \n",
        ">**sc_h** : Hauteur de l'écran en cm (Int)  \n",
        ">**sc_w** : Largeur de l'écran en cm (Int)  \n",
        ">**talk_time** : Durée la plus longue d'appel en une seule charge (Int)    \n",
        ">**three_g** : Supporte la norme 3G (Bool)  \n",
        ">**touch_screen** : Possède un écran tactile (Bool)  \n",
        ">**price_range** : Gamme de prix (Int)\n",
        "\n",
        "Pour cette dernière colonne, les valeurs numériques correspondent à une gamme de prix particulière :\n",
        "\n",
        ">**0** : Low Cost / Entrée de Gamme  \n",
        ">**1** : Medium Cost / Moyen de Gamme  \n",
        ">**2** : High Cost / Haut de Gamme  \n",
        ">**3** : Very High Cost / Très Haut de Gamme\n"
      ]
    },
    {
      "cell_type": "code",
      "metadata": {
        "id": "fLTEb8HDDAHc",
        "outputId": "7dbeae70-ceef-4021-fe24-ca0e6cb6c032",
        "colab": {
          "base_uri": "https://localhost:8080/"
        }
      },
      "source": [
        "data.info()"
      ],
      "execution_count": 3,
      "outputs": [
        {
          "output_type": "stream",
          "text": [
            "<class 'pandas.core.frame.DataFrame'>\n",
            "RangeIndex: 2000 entries, 0 to 1999\n",
            "Data columns (total 21 columns):\n",
            " #   Column         Non-Null Count  Dtype  \n",
            "---  ------         --------------  -----  \n",
            " 0   battery_power  2000 non-null   int64  \n",
            " 1   blue           2000 non-null   int64  \n",
            " 2   clock_speed    2000 non-null   float64\n",
            " 3   dual_sim       2000 non-null   int64  \n",
            " 4   fc             2000 non-null   int64  \n",
            " 5   four_g         2000 non-null   int64  \n",
            " 6   int_memory     2000 non-null   int64  \n",
            " 7   m_dep          2000 non-null   float64\n",
            " 8   mobile_wt      2000 non-null   int64  \n",
            " 9   n_cores        2000 non-null   int64  \n",
            " 10  pc             2000 non-null   int64  \n",
            " 11  px_height      2000 non-null   int64  \n",
            " 12  px_width       2000 non-null   int64  \n",
            " 13  ram            2000 non-null   int64  \n",
            " 14  sc_h           2000 non-null   int64  \n",
            " 15  sc_w           2000 non-null   int64  \n",
            " 16  talk_time      2000 non-null   int64  \n",
            " 17  three_g        2000 non-null   int64  \n",
            " 18  touch_screen   2000 non-null   int64  \n",
            " 19  wifi           2000 non-null   int64  \n",
            " 20  price_range    2000 non-null   int64  \n",
            "dtypes: float64(2), int64(19)\n",
            "memory usage: 328.2 KB\n"
          ],
          "name": "stdout"
        }
      ]
    },
    {
      "cell_type": "code",
      "metadata": {
        "id": "wFtNdsRqEZP_",
        "outputId": "791a5596-c83d-4574-b028-009f14ce176b",
        "colab": {
          "base_uri": "https://localhost:8080/",
          "height": 419
        }
      },
      "source": [
        "data"
      ],
      "execution_count": 4,
      "outputs": [
        {
          "output_type": "execute_result",
          "data": {
            "text/html": [
              "<div>\n",
              "<style scoped>\n",
              "    .dataframe tbody tr th:only-of-type {\n",
              "        vertical-align: middle;\n",
              "    }\n",
              "\n",
              "    .dataframe tbody tr th {\n",
              "        vertical-align: top;\n",
              "    }\n",
              "\n",
              "    .dataframe thead th {\n",
              "        text-align: right;\n",
              "    }\n",
              "</style>\n",
              "<table border=\"1\" class=\"dataframe\">\n",
              "  <thead>\n",
              "    <tr style=\"text-align: right;\">\n",
              "      <th></th>\n",
              "      <th>battery_power</th>\n",
              "      <th>blue</th>\n",
              "      <th>clock_speed</th>\n",
              "      <th>dual_sim</th>\n",
              "      <th>fc</th>\n",
              "      <th>four_g</th>\n",
              "      <th>int_memory</th>\n",
              "      <th>m_dep</th>\n",
              "      <th>mobile_wt</th>\n",
              "      <th>n_cores</th>\n",
              "      <th>pc</th>\n",
              "      <th>px_height</th>\n",
              "      <th>px_width</th>\n",
              "      <th>ram</th>\n",
              "      <th>sc_h</th>\n",
              "      <th>sc_w</th>\n",
              "      <th>talk_time</th>\n",
              "      <th>three_g</th>\n",
              "      <th>touch_screen</th>\n",
              "      <th>wifi</th>\n",
              "      <th>price_range</th>\n",
              "    </tr>\n",
              "  </thead>\n",
              "  <tbody>\n",
              "    <tr>\n",
              "      <th>0</th>\n",
              "      <td>842</td>\n",
              "      <td>0</td>\n",
              "      <td>2.2</td>\n",
              "      <td>0</td>\n",
              "      <td>1</td>\n",
              "      <td>0</td>\n",
              "      <td>7</td>\n",
              "      <td>0.6</td>\n",
              "      <td>188</td>\n",
              "      <td>2</td>\n",
              "      <td>2</td>\n",
              "      <td>20</td>\n",
              "      <td>756</td>\n",
              "      <td>2549</td>\n",
              "      <td>9</td>\n",
              "      <td>7</td>\n",
              "      <td>19</td>\n",
              "      <td>0</td>\n",
              "      <td>0</td>\n",
              "      <td>1</td>\n",
              "      <td>1</td>\n",
              "    </tr>\n",
              "    <tr>\n",
              "      <th>1</th>\n",
              "      <td>1021</td>\n",
              "      <td>1</td>\n",
              "      <td>0.5</td>\n",
              "      <td>1</td>\n",
              "      <td>0</td>\n",
              "      <td>1</td>\n",
              "      <td>53</td>\n",
              "      <td>0.7</td>\n",
              "      <td>136</td>\n",
              "      <td>3</td>\n",
              "      <td>6</td>\n",
              "      <td>905</td>\n",
              "      <td>1988</td>\n",
              "      <td>2631</td>\n",
              "      <td>17</td>\n",
              "      <td>3</td>\n",
              "      <td>7</td>\n",
              "      <td>1</td>\n",
              "      <td>1</td>\n",
              "      <td>0</td>\n",
              "      <td>2</td>\n",
              "    </tr>\n",
              "    <tr>\n",
              "      <th>2</th>\n",
              "      <td>563</td>\n",
              "      <td>1</td>\n",
              "      <td>0.5</td>\n",
              "      <td>1</td>\n",
              "      <td>2</td>\n",
              "      <td>1</td>\n",
              "      <td>41</td>\n",
              "      <td>0.9</td>\n",
              "      <td>145</td>\n",
              "      <td>5</td>\n",
              "      <td>6</td>\n",
              "      <td>1263</td>\n",
              "      <td>1716</td>\n",
              "      <td>2603</td>\n",
              "      <td>11</td>\n",
              "      <td>2</td>\n",
              "      <td>9</td>\n",
              "      <td>1</td>\n",
              "      <td>1</td>\n",
              "      <td>0</td>\n",
              "      <td>2</td>\n",
              "    </tr>\n",
              "    <tr>\n",
              "      <th>3</th>\n",
              "      <td>615</td>\n",
              "      <td>1</td>\n",
              "      <td>2.5</td>\n",
              "      <td>0</td>\n",
              "      <td>0</td>\n",
              "      <td>0</td>\n",
              "      <td>10</td>\n",
              "      <td>0.8</td>\n",
              "      <td>131</td>\n",
              "      <td>6</td>\n",
              "      <td>9</td>\n",
              "      <td>1216</td>\n",
              "      <td>1786</td>\n",
              "      <td>2769</td>\n",
              "      <td>16</td>\n",
              "      <td>8</td>\n",
              "      <td>11</td>\n",
              "      <td>1</td>\n",
              "      <td>0</td>\n",
              "      <td>0</td>\n",
              "      <td>2</td>\n",
              "    </tr>\n",
              "    <tr>\n",
              "      <th>4</th>\n",
              "      <td>1821</td>\n",
              "      <td>1</td>\n",
              "      <td>1.2</td>\n",
              "      <td>0</td>\n",
              "      <td>13</td>\n",
              "      <td>1</td>\n",
              "      <td>44</td>\n",
              "      <td>0.6</td>\n",
              "      <td>141</td>\n",
              "      <td>2</td>\n",
              "      <td>14</td>\n",
              "      <td>1208</td>\n",
              "      <td>1212</td>\n",
              "      <td>1411</td>\n",
              "      <td>8</td>\n",
              "      <td>2</td>\n",
              "      <td>15</td>\n",
              "      <td>1</td>\n",
              "      <td>1</td>\n",
              "      <td>0</td>\n",
              "      <td>1</td>\n",
              "    </tr>\n",
              "    <tr>\n",
              "      <th>...</th>\n",
              "      <td>...</td>\n",
              "      <td>...</td>\n",
              "      <td>...</td>\n",
              "      <td>...</td>\n",
              "      <td>...</td>\n",
              "      <td>...</td>\n",
              "      <td>...</td>\n",
              "      <td>...</td>\n",
              "      <td>...</td>\n",
              "      <td>...</td>\n",
              "      <td>...</td>\n",
              "      <td>...</td>\n",
              "      <td>...</td>\n",
              "      <td>...</td>\n",
              "      <td>...</td>\n",
              "      <td>...</td>\n",
              "      <td>...</td>\n",
              "      <td>...</td>\n",
              "      <td>...</td>\n",
              "      <td>...</td>\n",
              "      <td>...</td>\n",
              "    </tr>\n",
              "    <tr>\n",
              "      <th>1995</th>\n",
              "      <td>794</td>\n",
              "      <td>1</td>\n",
              "      <td>0.5</td>\n",
              "      <td>1</td>\n",
              "      <td>0</td>\n",
              "      <td>1</td>\n",
              "      <td>2</td>\n",
              "      <td>0.8</td>\n",
              "      <td>106</td>\n",
              "      <td>6</td>\n",
              "      <td>14</td>\n",
              "      <td>1222</td>\n",
              "      <td>1890</td>\n",
              "      <td>668</td>\n",
              "      <td>13</td>\n",
              "      <td>4</td>\n",
              "      <td>19</td>\n",
              "      <td>1</td>\n",
              "      <td>1</td>\n",
              "      <td>0</td>\n",
              "      <td>0</td>\n",
              "    </tr>\n",
              "    <tr>\n",
              "      <th>1996</th>\n",
              "      <td>1965</td>\n",
              "      <td>1</td>\n",
              "      <td>2.6</td>\n",
              "      <td>1</td>\n",
              "      <td>0</td>\n",
              "      <td>0</td>\n",
              "      <td>39</td>\n",
              "      <td>0.2</td>\n",
              "      <td>187</td>\n",
              "      <td>4</td>\n",
              "      <td>3</td>\n",
              "      <td>915</td>\n",
              "      <td>1965</td>\n",
              "      <td>2032</td>\n",
              "      <td>11</td>\n",
              "      <td>10</td>\n",
              "      <td>16</td>\n",
              "      <td>1</td>\n",
              "      <td>1</td>\n",
              "      <td>1</td>\n",
              "      <td>2</td>\n",
              "    </tr>\n",
              "    <tr>\n",
              "      <th>1997</th>\n",
              "      <td>1911</td>\n",
              "      <td>0</td>\n",
              "      <td>0.9</td>\n",
              "      <td>1</td>\n",
              "      <td>1</td>\n",
              "      <td>1</td>\n",
              "      <td>36</td>\n",
              "      <td>0.7</td>\n",
              "      <td>108</td>\n",
              "      <td>8</td>\n",
              "      <td>3</td>\n",
              "      <td>868</td>\n",
              "      <td>1632</td>\n",
              "      <td>3057</td>\n",
              "      <td>9</td>\n",
              "      <td>1</td>\n",
              "      <td>5</td>\n",
              "      <td>1</td>\n",
              "      <td>1</td>\n",
              "      <td>0</td>\n",
              "      <td>3</td>\n",
              "    </tr>\n",
              "    <tr>\n",
              "      <th>1998</th>\n",
              "      <td>1512</td>\n",
              "      <td>0</td>\n",
              "      <td>0.9</td>\n",
              "      <td>0</td>\n",
              "      <td>4</td>\n",
              "      <td>1</td>\n",
              "      <td>46</td>\n",
              "      <td>0.1</td>\n",
              "      <td>145</td>\n",
              "      <td>5</td>\n",
              "      <td>5</td>\n",
              "      <td>336</td>\n",
              "      <td>670</td>\n",
              "      <td>869</td>\n",
              "      <td>18</td>\n",
              "      <td>10</td>\n",
              "      <td>19</td>\n",
              "      <td>1</td>\n",
              "      <td>1</td>\n",
              "      <td>1</td>\n",
              "      <td>0</td>\n",
              "    </tr>\n",
              "    <tr>\n",
              "      <th>1999</th>\n",
              "      <td>510</td>\n",
              "      <td>1</td>\n",
              "      <td>2.0</td>\n",
              "      <td>1</td>\n",
              "      <td>5</td>\n",
              "      <td>1</td>\n",
              "      <td>45</td>\n",
              "      <td>0.9</td>\n",
              "      <td>168</td>\n",
              "      <td>6</td>\n",
              "      <td>16</td>\n",
              "      <td>483</td>\n",
              "      <td>754</td>\n",
              "      <td>3919</td>\n",
              "      <td>19</td>\n",
              "      <td>4</td>\n",
              "      <td>2</td>\n",
              "      <td>1</td>\n",
              "      <td>1</td>\n",
              "      <td>1</td>\n",
              "      <td>3</td>\n",
              "    </tr>\n",
              "  </tbody>\n",
              "</table>\n",
              "<p>2000 rows × 21 columns</p>\n",
              "</div>"
            ],
            "text/plain": [
              "      battery_power  blue  clock_speed  ...  touch_screen  wifi  price_range\n",
              "0               842     0          2.2  ...             0     1            1\n",
              "1              1021     1          0.5  ...             1     0            2\n",
              "2               563     1          0.5  ...             1     0            2\n",
              "3               615     1          2.5  ...             0     0            2\n",
              "4              1821     1          1.2  ...             1     0            1\n",
              "...             ...   ...          ...  ...           ...   ...          ...\n",
              "1995            794     1          0.5  ...             1     0            0\n",
              "1996           1965     1          2.6  ...             1     1            2\n",
              "1997           1911     0          0.9  ...             1     0            3\n",
              "1998           1512     0          0.9  ...             1     1            0\n",
              "1999            510     1          2.0  ...             1     1            3\n",
              "\n",
              "[2000 rows x 21 columns]"
            ]
          },
          "metadata": {
            "tags": []
          },
          "execution_count": 4
        }
      ]
    },
    {
      "cell_type": "markdown",
      "metadata": {
        "id": "QkSNAk5YQZzT"
      },
      "source": [
        "Le Dataset comporte **2000 lignes**. Le nombre est assez important en termes de données pour être étudié et il n'est pas nécéssaire de traiter les données avec un nombre réduit.\n",
        "\n",
        "## Données manquantes \n",
        "\n",
        "Le dataset est **complet** et ne possède aucune données qui ne sont pas numériques."
      ]
    },
    {
      "cell_type": "code",
      "metadata": {
        "id": "0LHLP-mUYVlM",
        "outputId": "55431f71-a47b-4d6a-ecb3-99309de159e5",
        "colab": {
          "base_uri": "https://localhost:8080/"
        }
      },
      "source": [
        "data.isna().sum()"
      ],
      "execution_count": null,
      "outputs": [
        {
          "output_type": "execute_result",
          "data": {
            "text/plain": [
              "battery_power    0\n",
              "blue             0\n",
              "clock_speed      0\n",
              "dual_sim         0\n",
              "fc               0\n",
              "four_g           0\n",
              "int_memory       0\n",
              "m_dep            0\n",
              "mobile_wt        0\n",
              "n_cores          0\n",
              "pc               0\n",
              "px_height        0\n",
              "px_width         0\n",
              "ram              0\n",
              "sc_h             0\n",
              "sc_w             0\n",
              "talk_time        0\n",
              "three_g          0\n",
              "touch_screen     0\n",
              "wifi             0\n",
              "price_range      0\n",
              "dtype: int64"
            ]
          },
          "metadata": {
            "tags": []
          },
          "execution_count": 4
        }
      ]
    },
    {
      "cell_type": "markdown",
      "metadata": {
        "id": "bmL3uEZ-ZnTs"
      },
      "source": [
        "## Objectif de l'exploitation des données\n",
        "\n",
        "Ici, l'objectif principale de ce dataset est d'exploiter ses données pour permettre à une nouvelle entreprise de smartphone de se positionner sur le marché en terme de gamme par rapport aux caractéristiques les plus pertinantes sur le marché.\n",
        "\n",
        "### Etudes des facteurs de prix d'un smartphone\n",
        "\n",
        "Premièrement nous allons analyser si les performances d'un smartphone sont un facteur important dans la tarification d'un smartphone.\n",
        "\n"
      ]
    },
    {
      "cell_type": "code",
      "metadata": {
        "id": "TL-xCU-mePVz",
        "outputId": "7dbf1625-ef70-4edb-f9d8-7fa6dd914094",
        "colab": {
          "base_uri": "https://localhost:8080/",
          "height": 342
        }
      },
      "source": [
        "# dataset sur les performances de tous les smartphone\n",
        "\n",
        "data_perf = data[['clock_speed','int_memory','n_cores','ram','price_range']].copy()\n",
        "\n",
        "\n",
        "f, ax = plt.subplots(figsize=(20,5))\n",
        "sns.heatmap(data = data_perf.corr()[['price_range']].sort_values('price_range',ascending=False),annot=True, ax=ax)"
      ],
      "execution_count": 21,
      "outputs": [
        {
          "output_type": "execute_result",
          "data": {
            "text/plain": [
              "<matplotlib.axes._subplots.AxesSubplot at 0x7f920cae6f28>"
            ]
          },
          "metadata": {
            "tags": []
          },
          "execution_count": 21
        },
        {
          "output_type": "display_data",
          "data": {
            "image/png": "[encoded data removed]",
            "text/plain": [
              "<Figure size 1440x360 with 2 Axes>"
            ]
          },
          "metadata": {
            "tags": [],
            "needs_background": "light"
          }
        }
      ]
    },
    {
      "cell_type": "markdown",
      "metadata": {
        "id": "5c8QEyhNeUPV"
      },
      "source": [
        "On remarque que la **Ram** présente dans un smartphone est un facteur très important sur le prix ! Le stockage et la puissance du processeur ne sont pas des facteurs déterminants.\n",
        "\n",
        "Nous allons maintenant voir si l'autonomie d'un smartphone est un facteur important dans la tarification :"
      ]
    },
    {
      "cell_type": "code",
      "metadata": {
        "id": "tgzrQkTLfSIl",
        "outputId": "60128932-ef66-4782-c301-233434d2cd4e",
        "colab": {
          "base_uri": "https://localhost:8080/",
          "height": 342
        }
      },
      "source": [
        "# dataset sur l'autonomie des smartphone\n",
        "\n",
        "data_auto = data[['battery_power','talk_time','price_range']].copy()\n",
        "\n",
        "\n",
        "f, ax = plt.subplots(figsize=(20,5))\n",
        "sns.heatmap(data = data_auto.corr()[['price_range']].sort_values('price_range',ascending=False), annot=True, ax=ax)"
      ],
      "execution_count": 22,
      "outputs": [
        {
          "output_type": "execute_result",
          "data": {
            "text/plain": [
              "<matplotlib.axes._subplots.AxesSubplot at 0x7f920cb961d0>"
            ]
          },
          "metadata": {
            "tags": []
          },
          "execution_count": 22
        },
        {
          "output_type": "display_data",
          "data": {
            "image/png": "[encoded data removed]",
            "text/plain": [
              "<Figure size 1440x360 with 2 Axes>"
            ]
          },
          "metadata": {
            "tags": [],
            "needs_background": "light"
          }
        }
      ]
    },
    {
      "cell_type": "markdown",
      "metadata": {
        "id": "8gymHMUqlw6s"
      },
      "source": [
        "On remarque que la **capacité de la batterie** est un facteur qui peut influer sur la tranche de prix d'un smartphone. \n",
        "\n",
        "Nous allons maintenant voir si l'aspect physique des smartphones peut être un facteur sur son prix :\n"
      ]
    },
    {
      "cell_type": "code",
      "metadata": {
        "id": "p1sUsvwipYuL",
        "outputId": "4d0182fe-a39e-4481-f763-997195780a2e",
        "colab": {
          "base_uri": "https://localhost:8080/",
          "height": 342
        }
      },
      "source": [
        "# dataset sur l'aspect physique des smartphone\n",
        "\n",
        "data_aspect = data[['fc','m_dep','mobile_wt','pc','px_height','px_width','sc_h','sc_w','touch_screen','price_range']].copy()\n",
        "\n",
        "f, ax = plt.subplots(figsize=(20,5))\n",
        "sns.heatmap(data = data_aspect.corr()[['price_range']].sort_values('price_range',ascending=False), annot=True, ax=ax)"
      ],
      "execution_count": 23,
      "outputs": [
        {
          "output_type": "execute_result",
          "data": {
            "text/plain": [
              "<matplotlib.axes._subplots.AxesSubplot at 0x7f920c859ef0>"
            ]
          },
          "metadata": {
            "tags": []
          },
          "execution_count": 23
        },
        {
          "output_type": "display_data",
          "data": {
            "image/png": "[encoded data removed]",
            "text/plain": [
              "<Figure size 1440x360 with 2 Axes>"
            ]
          },
          "metadata": {
            "tags": [],
            "needs_background": "light"
          }
        }
      ]
    },
    {
      "cell_type": "markdown",
      "metadata": {
        "id": "mqbF9Qe0pY-C"
      },
      "source": [
        "On peut remarquer que la **resolution** (px_height et px_width) est un léger facteur pour le prix du smartphone.\n",
        "\n",
        "\n",
        "Nous allons maintenant voir si la connectivité des smartphones peut influé sur son prix "
      ]
    },
    {
      "cell_type": "code",
      "metadata": {
        "id": "NxNAe5iwnkad",
        "outputId": "343b51f1-3b91-47e8-89e9-19dd5f0208b5",
        "colab": {
          "base_uri": "https://localhost:8080/",
          "height": 342
        }
      },
      "source": [
        "# dataset sur la connectivité des smartphone\n",
        "\n",
        "data_network = data[['blue','dual_sim','four_g','three_g','wifi','price_range']].copy()\n",
        "\n",
        "\n",
        "f, ax = plt.subplots(figsize=(20,5))\n",
        "sns.heatmap(data = data_network.corr()[['price_range']].sort_values('price_range',ascending=False), annot=True, ax=ax)"
      ],
      "execution_count": 24,
      "outputs": [
        {
          "output_type": "execute_result",
          "data": {
            "text/plain": [
              "<matplotlib.axes._subplots.AxesSubplot at 0x7f920c782e10>"
            ]
          },
          "metadata": {
            "tags": []
          },
          "execution_count": 24
        },
        {
          "output_type": "display_data",
          "data": {
            "image/png": "[encoded data removed]",
            "text/plain": [
              "<Figure size 1440x360 with 2 Axes>"
            ]
          },
          "metadata": {
            "tags": [],
            "needs_background": "light"
          }
        }
      ]
    },
    {
      "cell_type": "markdown",
      "metadata": {
        "id": "DyXueV0koy6J"
      },
      "source": [
        "On remarque que la connectivité n'est pas un facteur dans le prix du téléphone, cependant la connectivité est un facteur pour déterminer une certaine récence des produits ceux possédant une 3G et une 4G sont les plus utilisés aujourd'hui.\n",
        "\n",
        "\n",
        "## Etude pour un smartphone professionnel\n",
        "\n",
        "Souhaitant fabriquer un smartphone dédié aux professionnels et bon marché, l'entreprise souhaiterais analyser le marché des smartphones à ce sujet.\n",
        "\n",
        "Il est pertinant de filtrer le dataset en ne séléctionnant que les smartphones 4G et wifi pour usage professionel. De plus, on prend que les plus economiques (low and medium cost)"
      ]
    },
    {
      "cell_type": "code",
      "metadata": {
        "id": "_ijWDLRbsjCJ",
        "outputId": "b7aaea0d-2b17-4b8e-a324-acf40fbb8853",
        "colab": {
          "base_uri": "https://localhost:8080/"
        }
      },
      "source": [
        "#Dataset avec des smartphones uniquements 4G et Wifi ainsi que bon marché\n",
        "data_pro = data[(data['four_g'] == 1) & (data['wifi'] == 1) & (data['price_range'] < 2)].copy()\n",
        "\n",
        "data_pro.info()"
      ],
      "execution_count": 30,
      "outputs": [
        {
          "output_type": "stream",
          "text": [
            "<class 'pandas.core.frame.DataFrame'>\n",
            "Int64Index: 252 entries, 14 to 1998\n",
            "Data columns (total 21 columns):\n",
            " #   Column         Non-Null Count  Dtype  \n",
            "---  ------         --------------  -----  \n",
            " 0   battery_power  252 non-null    int64  \n",
            " 1   blue           252 non-null    int64  \n",
            " 2   clock_speed    252 non-null    float64\n",
            " 3   dual_sim       252 non-null    int64  \n",
            " 4   fc             252 non-null    int64  \n",
            " 5   four_g         252 non-null    int64  \n",
            " 6   int_memory     252 non-null    int64  \n",
            " 7   m_dep          252 non-null    float64\n",
            " 8   mobile_wt      252 non-null    int64  \n",
            " 9   n_cores        252 non-null    int64  \n",
            " 10  pc             252 non-null    int64  \n",
            " 11  px_height      252 non-null    int64  \n",
            " 12  px_width       252 non-null    int64  \n",
            " 13  ram            252 non-null    int64  \n",
            " 14  sc_h           252 non-null    int64  \n",
            " 15  sc_w           252 non-null    int64  \n",
            " 16  talk_time      252 non-null    int64  \n",
            " 17  three_g        252 non-null    int64  \n",
            " 18  touch_screen   252 non-null    int64  \n",
            " 19  wifi           252 non-null    int64  \n",
            " 20  price_range    252 non-null    int64  \n",
            "dtypes: float64(2), int64(19)\n",
            "memory usage: 43.3 KB\n"
          ],
          "name": "stdout"
        }
      ]
    },
    {
      "cell_type": "markdown",
      "metadata": {
        "id": "qrg3X7vLvMJn"
      },
      "source": [
        "On remarque qu'il n'y a plus que **252 entrées** au lieu de 2000. Nous allons donc pouvoir étudier ce nouveau dataset qui nous donnera permettra de mieux comprendre quelles seraient les caractéristiques pertinantes à mettre en place."
      ]
    },
    {
      "cell_type": "code",
      "metadata": {
        "id": "cMDSlsfvzScB",
        "outputId": "c63ddcdd-e363-46e8-b6f3-8fe1d015e2d7",
        "colab": {
          "base_uri": "https://localhost:8080/",
          "height": 342
        }
      },
      "source": [
        "f, ax = plt.subplots(figsize=(20,5))\n",
        "sns.heatmap(data = data_pro.corr()[['price_range']].sort_values('price_range',ascending=False), annot=True, ax=ax)"
      ],
      "execution_count": 31,
      "outputs": [
        {
          "output_type": "execute_result",
          "data": {
            "text/plain": [
              "<matplotlib.axes._subplots.AxesSubplot at 0x7f920c618e48>"
            ]
          },
          "metadata": {
            "tags": []
          },
          "execution_count": 31
        },
        {
          "output_type": "display_data",
          "data": {
            "image/png": "[encoded data removed]",
            "text/plain": [
              "<Figure size 1440x360 with 2 Axes>"
            ]
          },
          "metadata": {
            "tags": [],
            "needs_background": "light"
          }
        }
      ]
    },
    {
      "cell_type": "markdown",
      "metadata": {
        "id": "_FlqJt9S3Rx6"
      },
      "source": [
        "On remarque que pour les smartphone d'entrées et moyen de gamme les facteurs les plus importants sur le prix sont la **ram**, la **batterie**, le **temps d'appel** en une charge et la resolution en mégapixel de la **caméra frontal**.\n",
        "\n",
        "Nous allons donc regarder quelles sont les valeurs moyennes sur la ram, la batterie et le temps d'appel pour concevoir un smartphone compétitif."
      ]
    },
    {
      "cell_type": "code",
      "metadata": {
        "id": "HhbFTt8fGg0z",
        "outputId": "988e3ded-266b-4065-d785-20acfafe7d00",
        "colab": {
          "base_uri": "https://localhost:8080/"
        }
      },
      "source": [
        "#smartphones low cost\n",
        "data_pro_low = data_pro[data['price_range'] == 0]\n",
        "#smartphones medium cost\n",
        "data_pro_med = data_pro[data['price_range'] == 1]"
      ],
      "execution_count": 47,
      "outputs": [
        {
          "output_type": "stream",
          "text": [
            "/usr/local/lib/python3.6/dist-packages/ipykernel_launcher.py:2: UserWarning: Boolean Series key will be reindexed to match DataFrame index.\n",
            "  \n",
            "/usr/local/lib/python3.6/dist-packages/ipykernel_launcher.py:4: UserWarning: Boolean Series key will be reindexed to match DataFrame index.\n",
            "  after removing the cwd from sys.path.\n"
          ],
          "name": "stderr"
        }
      ]
    },
    {
      "cell_type": "code",
      "metadata": {
        "id": "RaxyXz2q4PyI",
        "outputId": "557cb1d8-2a01-45ae-b8f1-9a8df2ff7092",
        "colab": {
          "base_uri": "https://localhost:8080/",
          "height": 403
        }
      },
      "source": [
        "sns.displot(x=data_pro.ram, col=data_pro.price_range, kde=True)\n",
        "\n",
        "print('Moyenne pour les low cost : '+str(data_pro_low['ram'].mean()))\n",
        "print('Moyenne pour les medium cost : '+str(data_pro_med['ram'].mean()))"
      ],
      "execution_count": 50,
      "outputs": [
        {
          "output_type": "stream",
          "text": [
            "Moyenne pour les low cost : 771.7350427350427\n",
            "Moyenne pour les medium cost : 1707.1333333333334\n"
          ],
          "name": "stdout"
        },
        {
          "output_type": "display_data",
          "data": {
            "image/png": "[encoded data removed]",
            "text/plain": [
              "<Figure size 720x360 with 2 Axes>"
            ]
          },
          "metadata": {
            "tags": [],
            "needs_background": "light"
          }
        }
      ]
    },
    {
      "cell_type": "markdown",
      "metadata": {
        "id": "NRuZl7hLx9C2"
      },
      "source": [
        "On peut constater sur ce graphique que les smartphones d'entrées de gamme sont équipés d'une mémoire vive de **500mo**.\n",
        "Pour les smartphones de gamme intermédiaire, ils sont généralement équipé d'une mémoire vive entre **1,5go et 2go**."
      ]
    },
    {
      "cell_type": "code",
      "metadata": {
        "id": "XwPKtIYm_Mr_",
        "outputId": "95570477-ec83-42fa-96b7-cbc999df7136",
        "colab": {
          "base_uri": "https://localhost:8080/",
          "height": 403
        }
      },
      "source": [
        "sns.displot(x=data_pro.battery_power, col=data_pro.price_range, kde=True)\n",
        "print('Moyenne pour les low cost : '+str(data_pro_low['battery_power'].mean()))\n",
        "print('Moyenne pour les medium cost : '+str(data_pro_med['battery_power'].mean()))\n"
      ],
      "execution_count": 51,
      "outputs": [
        {
          "output_type": "stream",
          "text": [
            "Moyenne pour les low cost : 1054.5555555555557\n",
            "Moyenne pour les medium cost : 1212.9259259259259\n"
          ],
          "name": "stdout"
        },
        {
          "output_type": "display_data",
          "data": {
            "image/png": "[encoded data removed]",
            "text/plain": [
              "<Figure size 720x360 with 2 Axes>"
            ]
          },
          "metadata": {
            "tags": [],
            "needs_background": "light"
          }
        }
      ]
    },
    {
      "cell_type": "markdown",
      "metadata": {
        "id": "PSWpSMXay9qt"
      },
      "source": [
        "On peut constater sur ce graphique que les smartphones d'entrées de gamme sont équipés d'une batterie avec une **capacité de 1050mAh**.\n",
        "Pour les smartphones de gamme intermédiaire, ils sont généralement équipé d'une batterie avec une **capacité de 1200mAh**."
      ]
    },
    {
      "cell_type": "code",
      "metadata": {
        "id": "ffcA15Bl_gtR",
        "outputId": "3c08088f-512c-41a0-8bcf-c812f34709ac",
        "colab": {
          "base_uri": "https://localhost:8080/",
          "height": 403
        }
      },
      "source": [
        "sns.displot(x=data_pro.talk_time, col=data_pro.price_range, kde=True)\n",
        "print('Moyenne pour les low cost : '+str(data_pro_low['talk_time'].mean()))\n",
        "print('Moyenne pour les medium cost : '+str(data_pro_med['talk_time'].mean()))"
      ],
      "execution_count": 52,
      "outputs": [
        {
          "output_type": "stream",
          "text": [
            "Moyenne pour les low cost : 9.350427350427351\n",
            "Moyenne pour les medium cost : 11.237037037037037\n"
          ],
          "name": "stdout"
        },
        {
          "output_type": "display_data",
          "data": {
            "image/png": "[encoded data removed]",
            "text/plain": [
              "<Figure size 720x360 with 2 Axes>"
            ]
          },
          "metadata": {
            "tags": [],
            "needs_background": "light"
          }
        }
      ]
    },
    {
      "cell_type": "markdown",
      "metadata": {
        "id": "Z792Norwz4ah"
      },
      "source": [
        "On peut constater sur ce graphique que les smartphones d'entrées de gamme possèdent une durée d'utilisation en **appel de 9h**.\n",
        "Pour les smartphones de gamme intermédiaire, ils sont généralement possèdent une durée d'utilisation en **appel de 11h**.\n",
        "\n",
        "\n",
        "La batterie et le temps d'appel en une seule charge sont des valeurs qui sont complémentaires. Il est donc intéressant de voir si le fait qu'un téléphone ai plus de batteries qu'un autre téléphone soit un facteur majeur sur la durée d'appel ?"
      ]
    },
    {
      "cell_type": "code",
      "metadata": {
        "id": "2T-PG7YDJBW_",
        "outputId": "7f584162-8ac1-4516-bd85-a6b70fc223ab",
        "colab": {
          "base_uri": "https://localhost:8080/",
          "height": 689
        }
      },
      "source": [
        "sns.catplot(y=\"battery_power\", x=\"talk_time\", data=data_pro, kind=\"box\", height=9)"
      ],
      "execution_count": 80,
      "outputs": [
        {
          "output_type": "execute_result",
          "data": {
            "text/plain": [
              "<seaborn.axisgrid.FacetGrid at 0x7f9209434e48>"
            ]
          },
          "metadata": {
            "tags": []
          },
          "execution_count": 80
        },
        {
          "output_type": "display_data",
          "data": {
            "image/png": "[encoded data removed]",
            "text/plain": [
              "<Figure size 648x648 with 1 Axes>"
            ]
          },
          "metadata": {
            "tags": [],
            "needs_background": "light"
          }
        }
      ]
    },
    {
      "cell_type": "markdown",
      "metadata": {
        "id": "fy5YQ90R1eJl"
      },
      "source": [
        "On se rend compte que parmis les téléphones bons marchés, il n'y a pas de rapports majeurs entre les deux.\n",
        "\n",
        "On cherche donc a voir quelles peuvent êtres les éléments qui jouent en faveur d'une plus forte autonomie."
      ]
    },
    {
      "cell_type": "code",
      "metadata": {
        "id": "UQk-qr0bST3_",
        "outputId": "bf2f8377-df78-4560-ba3e-1397de98604f",
        "colab": {
          "base_uri": "https://localhost:8080/",
          "height": 342
        }
      },
      "source": [
        "f, ax = plt.subplots(figsize=(20,5))\n",
        "sns.heatmap(data = data_pro[['battery_power','talk_time','n_cores','clock_speed','px_height','px_width','blue']].corr()[['talk_time']].sort_values('talk_time',ascending=False), annot=True, ax=ax)"
      ],
      "execution_count": 91,
      "outputs": [
        {
          "output_type": "execute_result",
          "data": {
            "text/plain": [
              "<matplotlib.axes._subplots.AxesSubplot at 0x7f92013bf048>"
            ]
          },
          "metadata": {
            "tags": []
          },
          "execution_count": 91
        },
        {
          "output_type": "display_data",
          "data": {
            "image/png": "[encoded data removed]",
            "text/plain": [
              "<Figure size 1440x360 with 2 Axes>"
            ]
          },
          "metadata": {
            "tags": [],
            "needs_background": "light"
          }
        }
      ]
    },
    {
      "cell_type": "markdown",
      "metadata": {
        "id": "cKhPxMDv2dx9"
      },
      "source": [
        "On remarque que sur les valeurs de corrélations testés, le facteur de bluetooth est un gros facteur d'autonomie. \n",
        "\n",
        "Sachant que la présence ou non d'un BlueTooth influe sur le temps d'appel, il est donc pertinant de vérifier si il est nécéssaire de posséder un bluetooth ou non."
      ]
    },
    {
      "cell_type": "code",
      "metadata": {
        "id": "kxWoUs5bUpY9",
        "outputId": "ff0b9b26-37c0-45ba-e362-9d95db88e6e5",
        "colab": {
          "base_uri": "https://localhost:8080/",
          "height": 472
        }
      },
      "source": [
        "sns.catplot(x=\"blue\", y=\"talk_time\", data=data_pro, kind=\"box\", height=6)"
      ],
      "execution_count": 95,
      "outputs": [
        {
          "output_type": "execute_result",
          "data": {
            "text/plain": [
              "<seaborn.axisgrid.FacetGrid at 0x7f9201231780>"
            ]
          },
          "metadata": {
            "tags": []
          },
          "execution_count": 95
        },
        {
          "output_type": "display_data",
          "data": {
            "image/png": "[encoded data removed]",
            "text/plain": [
              "<Figure size 432x432 with 1 Axes>"
            ]
          },
          "metadata": {
            "tags": [],
            "needs_background": "light"
          }
        }
      ]
    },
    {
      "cell_type": "markdown",
      "metadata": {
        "id": "-1jGKFye3XM3"
      },
      "source": [
        "De part ce graphique, on peut remarquer que les appareils avec un bluetooth sont généralement plus endurant que ceux qui n'en possèdent pas.\n",
        "\n",
        "\n",
        "###Conclusion\n",
        "\n",
        "Suite à notre étude, si un entrepreneur souhaite proposer un nouveau smartphone professionnel sur le marché des smartphones bon marché, il est important que ce dernier possède les caractéristiques suivantes :\n",
        "\n",
        ">**Connectivités**: 4G, Bluetooth & Wifi  \n",
        ">**Batterie** : Une capacité comprise entre 1050mAh et 1200mAh avec une autonomie de 9h à 11h d'appel\n",
        "\n",
        "Pour les autres caractéristiques, ces dernieres ne sont pas des facteur important pour cette mise en place sur le marché."
      ]
    }
  ]
}