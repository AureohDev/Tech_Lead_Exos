{
  "nbformat": 4,
  "nbformat_minor": 0,
  "metadata": {
    "colab": {
      "name": "Cours-POO.ipynb",
      "provenance": [],
      "include_colab_link": true
    },
    "kernelspec": {
      "display_name": "Python 3",
      "language": "python",
      "name": "python3"
    },
    "language_info": {
      "codemirror_mode": {
        "name": "ipython",
        "version": 3
      },
      "file_extension": ".py",
      "mimetype": "text/x-python",
      "name": "python",
      "nbconvert_exporter": "python",
      "pygments_lexer": "ipython3",
      "version": "3.8.3"
    }
  },
  "cells": [
    {
      "cell_type": "markdown",
      "metadata": {
        "id": "view-in-github",
        "colab_type": "text"
      },
      "source": [
        "<a href=\"https://colab.research.google.com/github/AureohDev/Tech_Lead_Exos/blob/main/Cours_POO.ipynb\" target=\"_parent\"><img src=\"https://colab.research.google.com/assets/colab-badge.svg\" alt=\"Open In Colab\"/></a>"
      ]
    },
    {
      "cell_type": "markdown",
      "metadata": {
        "id": "RNHeKOxTae9X"
      },
      "source": [
        "# Le langage Python \n",
        "\n",
        "\n",
        "Python est un langage de programmation. Il est l'un des langages de programmation les plus intéressants du moment. Les mesures de l’indice PyPL du mois de mai 2018 se caractérisent par l’arrivée de Python, pour la première fois, à la tête du classement des langages de programmation les plus populaires selon le baromètre. L'indice PyPL évalue la popularité des langues en fonction de la fréquence de recherche dans les didacticiels du langage. \n",
        "<https://www.developpez.com>\n",
        "[source : Stéphane le calme Mai 2018]\n",
        "\n",
        "\n",
        "Facile à apprendre, python est souvent utilisé en exemple lors de l'apprentissage de la programmation. Avec les variables, les boucles et les fonctions, on connaît suffisamment d’éléments pour écrire des programmes. Le plus difficile n’est pas forcément de les comprendre mais plutôt d’arriver à découper un algorithme complexe en utilisant ces briques élémentaires. C’est donc l’objectif de ce notebook. \n"
      ]
    },
    {
      "cell_type": "markdown",
      "metadata": {
        "id": "yVrlz7VDae9Z"
      },
      "source": [
        "### Python c'est quoi ? \n",
        "\n",
        "C'est un langage de programmation inventé par Guido van Rossum. La première version de python est sortie en 1991.\n",
        "Python est **un langage de programmation interprété** , c'est à dire qu'il n'est pas nécessaire de le compiler avant de l'exécuter. \n",
        "\n",
        "Python est **à la fois simple et puissant**, il vous permet d'écrire des scripts très simples mais grâce à ses nombreuses bibliothèques, vous pouvez travailler sur des projets plus ambitieux.\n",
        "\n",
        "### Pourquoi Python \n",
        "\n",
        "Python est un langage facile à apprendre et son code est plus lisible, il est donc plus facile à maintenir. Il est parfois **jusqu'à 5 fois plus concis que le langage Java** par exemple, ce qui augmente la productivité du développeur et réduit mécaniquement le nombre de bugs. L'environnement python est notamment très riche en librairies. Vous trouverez toujours des projets open source qui vous faciliteront la vie notamment sur <https://github.com/>.\n",
        "\n",
        "### Installons Python \n",
        "\n",
        "Voir le README à la racine du git. \n",
        "\n",
        "## Quickstart\n",
        "\n",
        "Comme tout langage de programmation, Python a une syntaxe claire : on ne peut pas lui envoyer n'importe quelle information dans n'importe quel ordre. Nous allons voir ici ce que Python mange… et ce qu'il ne mange pas.\n",
        "\n",
        "### Les variables \n",
        "Comme vous le savez, une variable est une donnée de votre programme, stockée dans votre ordinateur. En python **les variables ne sont pas typées\"** on peut donc écrire : "
      ]
    },
    {
      "cell_type": "code",
      "metadata": {
        "id": "X3QF3468QKcj"
      },
      "source": [
        "a = 4012"
      ],
      "execution_count": null,
      "outputs": []
    },
    {
      "cell_type": "code",
      "metadata": {
        "id": "oldonDs6QYdR",
        "outputId": "b0b66dc2-ea07-4949-d7aa-baabcc23ff07",
        "colab": {
          "base_uri": "https://localhost:8080/",
          "height": 54
        }
      },
      "source": [
        "a"
      ],
      "execution_count": null,
      "outputs": [
        {
          "output_type": "execute_result",
          "data": {
            "text/plain": [
              "4012"
            ]
          },
          "metadata": {
            "tags": []
          },
          "execution_count": 2
        }
      ]
    },
    {
      "cell_type": "code",
      "metadata": {
        "id": "Y_Bp1_bwae9b"
      },
      "source": [
        "test = 'test'"
      ],
      "execution_count": null,
      "outputs": []
    },
    {
      "cell_type": "code",
      "metadata": {
        "id": "g1z-QaZsae9i",
        "outputId": "475be51f-4bd1-49bc-c742-a728c3e71f65",
        "colab": {
          "base_uri": "https://localhost:8080/",
          "height": 54
        }
      },
      "source": [
        "age = 30\n",
        "age + 10"
      ],
      "execution_count": null,
      "outputs": [
        {
          "output_type": "execute_result",
          "data": {
            "text/plain": [
              "40"
            ]
          },
          "metadata": {
            "tags": []
          },
          "execution_count": 4
        }
      ]
    },
    {
      "cell_type": "code",
      "metadata": {
        "id": "t4kE1_CAae9q",
        "outputId": "fab28cb3-8b2d-49df-cb06-f4e3a954a5b8",
        "colab": {
          "base_uri": "https://localhost:8080/",
          "height": 58
        }
      },
      "source": [
        "#ou bien \n",
        "age = \"J'ai 30 ans\"\n",
        "age = age + \" et je suis encore jeune!\"\n",
        "age "
      ],
      "execution_count": null,
      "outputs": [
        {
          "output_type": "execute_result",
          "data": {
            "text/plain": [
              "\"J'ai 30 ans et je suis encore jeune!\""
            ]
          },
          "metadata": {
            "tags": []
          },
          "execution_count": 5
        }
      ]
    },
    {
      "cell_type": "code",
      "metadata": {
        "id": "rZWlWjq3QgbF"
      },
      "source": [
        "destest=\"destest\""
      ],
      "execution_count": null,
      "outputs": []
    },
    {
      "cell_type": "code",
      "metadata": {
        "id": "hAdKyr-YQgmx"
      },
      "source": [
        ""
      ],
      "execution_count": null,
      "outputs": []
    },
    {
      "cell_type": "code",
      "metadata": {
        "id": "o3rHAk1BQg1o"
      },
      "source": [
        ""
      ],
      "execution_count": null,
      "outputs": []
    },
    {
      "cell_type": "code",
      "metadata": {
        "id": "STOj7aaDQgz1"
      },
      "source": [
        ""
      ],
      "execution_count": null,
      "outputs": []
    },
    {
      "cell_type": "markdown",
      "metadata": {
        "id": "ZCoSF5Mlae9t"
      },
      "source": [
        "### Les structures conditionnelles et les boucles \n",
        "\n",
        "Les conditions permettent d'exécuter une ou plusieurs instructions dans un cas, d'autres instructions dans un autre cas. Nous allons passer rapidement en revue les différentes structures en python. "
      ]
    },
    {
      "cell_type": "code",
      "metadata": {
        "id": "XYujU_1Eae9u",
        "outputId": "6695663c-eef5-4068-f701-f2439f06ba8b",
        "colab": {
          "base_uri": "https://localhost:8080/",
          "height": 34
        }
      },
      "source": [
        "# IF \n",
        "a = 5\n",
        "b = 8\n",
        "if a > 0:\n",
        "    # On incrémente la valeur de b\n",
        "    b += 1\n",
        "    # On affiche les valeurs des variables\n",
        "    print(\"a =\",a,\"et b =\",b)"
      ],
      "execution_count": null,
      "outputs": [
        {
          "output_type": "stream",
          "text": [
            "a = 5 et b = 9\n"
          ],
          "name": "stdout"
        }
      ]
    },
    {
      "cell_type": "code",
      "metadata": {
        "id": "xZ0gt94sae90",
        "outputId": "e53a3cc2-5ec2-4a5a-f3b4-58d7221ea95d"
      },
      "source": [
        "if a > 0: # Positif\n",
        "    print(\"a est positif.\")\n",
        "elif a < 0: # Négatif\n",
        "    print(\"a est négatif.\")\n",
        "else: # Nul\n",
        "    print(\"a est nul.\")"
      ],
      "execution_count": null,
      "outputs": [
        {
          "output_type": "stream",
          "text": [
            "a est positif.\n"
          ],
          "name": "stdout"
        }
      ]
    },
    {
      "cell_type": "code",
      "metadata": {
        "id": "tKON-83oae93",
        "outputId": "4b8aa71b-fda7-4200-bb04-8a8b52a8b81b"
      },
      "source": [
        "# WHILE \n",
        "nb = 7 # On garde la variable contenant le nombre dont on veut la table de multiplication\n",
        "i = 0 # C'est notre variable compteur que nous allons incrémenter dans la boucle\n",
        "\n",
        "while i < 10: # Tant que i est strictement inférieure à 10\n",
        "    print(i + 1, \"*\", nb, \"=\", (i + 1) * nb)\n",
        "    i += 1 # On incrémente i de 1 à chaque tour de boucle\n",
        "    "
      ],
      "execution_count": null,
      "outputs": [
        {
          "output_type": "stream",
          "text": [
            "1 * 7 = 7\n",
            "2 * 7 = 14\n",
            "3 * 7 = 21\n",
            "4 * 7 = 28\n",
            "5 * 7 = 35\n",
            "6 * 7 = 42\n",
            "7 * 7 = 49\n",
            "8 * 7 = 56\n",
            "9 * 7 = 63\n",
            "10 * 7 = 70\n"
          ],
          "name": "stdout"
        }
      ]
    },
    {
      "cell_type": "code",
      "metadata": {
        "id": "v4xEdhFgae9_",
        "outputId": "4ea418f3-3b05-4430-97b2-eb964082b322"
      },
      "source": [
        "# FOR \n",
        "chaine = \"Bonjour les ZER0S\"\n",
        "for lettre in chaine:\n",
        "    print(lettre)"
      ],
      "execution_count": null,
      "outputs": [
        {
          "output_type": "stream",
          "text": [
            "B\n",
            "o\n",
            "n\n",
            "j\n",
            "o\n",
            "u\n",
            "r\n",
            " \n",
            "l\n",
            "e\n",
            "s\n",
            " \n",
            "Z\n",
            "E\n",
            "R\n",
            "0\n",
            "S\n"
          ],
          "name": "stdout"
        }
      ]
    },
    {
      "cell_type": "code",
      "metadata": {
        "id": "fCRa_nt1ae-C",
        "outputId": "928c00b4-78aa-4400-fc4e-137d207ea9a8"
      },
      "source": [
        "# BREAK \n",
        "while 1: # 1 est toujours vrai -> boucle infinie\n",
        "    lettre = input(\"Tapez 'Q' pour quitter : \")\n",
        "    if lettre == \"Q\":\n",
        "        print(\"Fin de la boucle\")\n",
        "        break"
      ],
      "execution_count": null,
      "outputs": [
        {
          "output_type": "stream",
          "text": [
            "Tapez 'Q' pour quitter : Q\n",
            "Fin de la boucle\n"
          ],
          "name": "stdout"
        }
      ]
    },
    {
      "cell_type": "markdown",
      "metadata": {
        "id": "hd1M6Vs8ae-F"
      },
      "source": [
        "### Les fonctions"
      ]
    },
    {
      "cell_type": "code",
      "metadata": {
        "id": "hvEoYTByae-F",
        "outputId": "fc881d34-914b-47d4-f55b-997cce85e6ea"
      },
      "source": [
        "def table(nb, max=10):\n",
        "    \"\"\"Fonction affichant la table de multiplication par nb\n",
        "    de 1*nb à max*nb\n",
        "    \n",
        "    (max >= 0)\"\"\"\n",
        "    i = 0\n",
        "    while i < max:\n",
        "        print(i + 1, \"*\", nb, \"=\", (i + 1) * nb)\n",
        "        i += 1\n",
        "        \n",
        "table(3,10) "
      ],
      "execution_count": null,
      "outputs": [
        {
          "output_type": "stream",
          "text": [
            "1 * 3 = 3\n",
            "2 * 3 = 6\n",
            "3 * 3 = 9\n",
            "4 * 3 = 12\n",
            "5 * 3 = 15\n",
            "6 * 3 = 18\n",
            "7 * 3 = 21\n",
            "8 * 3 = 24\n",
            "9 * 3 = 27\n",
            "10 * 3 = 30\n"
          ],
          "name": "stdout"
        }
      ]
    },
    {
      "cell_type": "markdown",
      "metadata": {
        "id": "3dUOuLeXae-H"
      },
      "source": [
        "### Les objets \n",
        "\n",
        "Comme vous le savez, en informatique, l'objet est un **conteneur symbolique et autonome qui contient des informations et des mécanismes concernant un sujet**, manipulés dans un programme.\n",
        "\n",
        "#### Les chaine de caractères "
      ]
    },
    {
      "cell_type": "code",
      "metadata": {
        "id": "r2Kk51FSae-I",
        "outputId": "0c477545-acc8-466c-f211-0694bcdf5b24"
      },
      "source": [
        "chaine = \"Salut\"\n",
        "len(chaine)"
      ],
      "execution_count": null,
      "outputs": [
        {
          "output_type": "execute_result",
          "data": {
            "text/plain": [
              "5"
            ]
          },
          "metadata": {
            "tags": []
          },
          "execution_count": 13
        }
      ]
    },
    {
      "cell_type": "code",
      "metadata": {
        "id": "Y9Uh-fErae-K",
        "outputId": "510f4eb8-6edf-4b0e-8926-faa614c5750e"
      },
      "source": [
        "mot = \"lac\"\n",
        "mot = \"b\" + mot[1:]\n",
        "print(mot)"
      ],
      "execution_count": null,
      "outputs": [
        {
          "output_type": "stream",
          "text": [
            "bac\n"
          ],
          "name": "stdout"
        }
      ]
    },
    {
      "cell_type": "code",
      "metadata": {
        "id": "krjes0zSae-S",
        "outputId": "deb195ae-6b62-45fa-89ee-70f6be689f6e"
      },
      "source": [
        "# Les listes \n",
        "ma_liste = [] #liste vide\n",
        "ma_liste = [1, 2, 3, 4, 5] # Une liste avec cinq objets\n",
        "print(ma_liste)\n",
        "ma_liste[0] # On accède au premier élément de la liste"
      ],
      "execution_count": null,
      "outputs": [
        {
          "output_type": "stream",
          "text": [
            "[1, 2, 3, 4, 5]\n"
          ],
          "name": "stdout"
        },
        {
          "output_type": "execute_result",
          "data": {
            "text/plain": [
              "1"
            ]
          },
          "metadata": {
            "tags": []
          },
          "execution_count": 15
        }
      ]
    },
    {
      "cell_type": "code",
      "metadata": {
        "id": "tyQ4K2IYae-U",
        "outputId": "94c995ef-1084-4be8-8eda-a4e3074044cf"
      },
      "source": [
        "ma_liste.insert(2, 'c') # On insère 'c' à l'indice 2\n",
        "ma_liste"
      ],
      "execution_count": null,
      "outputs": [
        {
          "output_type": "execute_result",
          "data": {
            "text/plain": [
              "[1, 2, 'c', 3, 4, 5]"
            ]
          },
          "metadata": {
            "tags": []
          },
          "execution_count": 16
        }
      ]
    },
    {
      "cell_type": "code",
      "metadata": {
        "id": "qRK2Nr9vae-W",
        "outputId": "3e2db7c9-0256-4807-9882-5c4e7408a082"
      },
      "source": [
        "#parcours de liste \n",
        "ma_liste = ['a', 'b', 'c', 'd', 'e', 'f', 'g', 'h']\n",
        "i = 0 # Notre indice pour la boucle while\n",
        "while i < len(ma_liste):\n",
        "    print(ma_liste[i])\n",
        "    i += 1 # On incrémente i, ne pas oublier !"
      ],
      "execution_count": null,
      "outputs": [
        {
          "output_type": "stream",
          "text": [
            "a\n",
            "b\n",
            "c\n",
            "d\n",
            "e\n",
            "f\n",
            "g\n",
            "h\n"
          ],
          "name": "stdout"
        }
      ]
    },
    {
      "cell_type": "code",
      "metadata": {
        "id": "gTMg8UGbae-Y",
        "outputId": "fd0a5032-4b40-4ae1-f70d-99d69ffc2d38"
      },
      "source": [
        "#enumerate prend en paramètre une liste et renvoie un objet qui peut être associé à une liste contenant deux valeurs par élément : l'indice et l'élément de la liste parcouru.\n",
        "for elt in enumerate(ma_liste):\n",
        "    print(elt)"
      ],
      "execution_count": null,
      "outputs": [
        {
          "output_type": "stream",
          "text": [
            "(0, 'a')\n",
            "(1, 'b')\n",
            "(2, 'c')\n",
            "(3, 'd')\n",
            "(4, 'e')\n",
            "(5, 'f')\n",
            "(6, 'g')\n",
            "(7, 'h')\n"
          ],
          "name": "stdout"
        }
      ]
    },
    {
      "cell_type": "code",
      "metadata": {
        "id": "3CrXSZeNae-a",
        "outputId": "393a0b3e-8a25-499e-f493-17bf509df1b5"
      },
      "source": [
        "#les tuples \n",
        "tuple_vide = ()\n",
        "tuple_non_vide = (1,) # est équivalent à ci dessous\n",
        "tuple_non_vide = 1,\n",
        "tuple_avec_plusieurs_valeurs = (1, 2, 5)\n",
        "tuple_avec_plusieurs_valeurs"
      ],
      "execution_count": null,
      "outputs": [
        {
          "output_type": "execute_result",
          "data": {
            "text/plain": [
              "(1, 2, 5)"
            ]
          },
          "metadata": {
            "tags": []
          },
          "execution_count": 19
        }
      ]
    },
    {
      "cell_type": "markdown",
      "metadata": {
        "id": "XwpRpx9Qae-e"
      },
      "source": [
        "Il est assez rare que l'on travaille directement sur des tuples. C'est, après tout, un type que l'on ne peut pas modifier. On ne peut supprimer d'éléments d'un tuple, ni en ajouter. Cela vous paraît peut-être encore assez abstrait mais il peut être utile de travailler sur des données sans pouvoir les modifier."
      ]
    },
    {
      "cell_type": "code",
      "metadata": {
        "id": "IphhLR-Qae-f",
        "outputId": "477c2351-fc70-4879-f2fe-68210146ffce"
      },
      "source": [
        "liste_origine = [0, 1, 2, 3, 4, 5]\n",
        "[nb * nb for nb in liste_origine]\n"
      ],
      "execution_count": null,
      "outputs": [
        {
          "output_type": "execute_result",
          "data": {
            "text/plain": [
              "[0, 1, 4, 9, 16, 25]"
            ]
          },
          "metadata": {
            "tags": []
          },
          "execution_count": 20
        }
      ]
    },
    {
      "cell_type": "markdown",
      "metadata": {
        "id": "Nx6ypbZRae-h"
      },
      "source": [
        "#### Les dictionnaires  \n",
        "\n",
        "Les dictionnaires sont des objets pouvant en contenir d'autres, à l'instar des listes. Cependant, au lieu d'héberger des informations dans un ordre précis, ils associent chaque objet contenu à une clé (la plupart du temps, une chaîne de caractères). "
      ]
    },
    {
      "cell_type": "code",
      "metadata": {
        "id": "bgVtxuJTae-h",
        "outputId": "dc454385-89c5-401e-a0f3-84db1f3b605b",
        "colab": {
          "base_uri": "https://localhost:8080/",
          "height": 35
        }
      },
      "source": [
        "#création du dictionnaire \n",
        "a = {}\n",
        "a[\"nom\"] = \"engel\"\n",
        "a[\"prenom\"] = \"olivier\"\n",
        "a"
      ],
      "execution_count": null,
      "outputs": [
        {
          "output_type": "execute_result",
          "data": {
            "text/plain": [
              "{'nom': 'engel', 'prenom': 'olivier'}"
            ]
          },
          "metadata": {
            "tags": []
          },
          "execution_count": 21
        }
      ]
    },
    {
      "cell_type": "code",
      "metadata": {
        "id": "mgOURPqcae-k",
        "outputId": "22e878cd-4ccd-448e-ad94-d711639a4ffd",
        "colab": {
          "base_uri": "https://localhost:8080/",
          "height": 36
        }
      },
      "source": [
        "#récupération d'une valeur \n",
        "a.get('nom')"
      ],
      "execution_count": null,
      "outputs": [
        {
          "output_type": "execute_result",
          "data": {
            "text/plain": [
              "'engel'"
            ]
          },
          "metadata": {
            "tags": []
          },
          "execution_count": 22
        }
      ]
    },
    {
      "cell_type": "code",
      "metadata": {
        "id": "uGW2UycRae-m",
        "outputId": "070d8e59-39ac-4caf-80f2-f40374698115",
        "colab": {
          "base_uri": "https://localhost:8080/",
          "height": 35
        }
      },
      "source": [
        "#supprimer des valeurs \n",
        "placard = {\"chemise\":3, \"pantalon\":6, \"tee shirt\":7}\n",
        "del placard[\"chemise\"]\n",
        "placard"
      ],
      "execution_count": null,
      "outputs": [
        {
          "output_type": "execute_result",
          "data": {
            "text/plain": [
              "{'pantalon': 6, 'tee shirt': 7}"
            ]
          },
          "metadata": {
            "tags": []
          },
          "execution_count": 23
        }
      ]
    },
    {
      "cell_type": "markdown",
      "metadata": {
        "id": "lH_f5c8Rae-n"
      },
      "source": [
        "**En résumé**\n",
        "\n",
        "- Pour créer un dictionnaire, on utilise la syntaxedictionnaire = {cle1:valeur1, cle2:valeur2, cleN:valeurN}.\n",
        "- On peut ajouter ou remplacer un élément dans un dictionnaire :dictionnaire[cle] = valeur.\n",
        "- On peut supprimer une clé (et sa valeur correspondante) d'un dictionnaire en utilisant, au choix, le mot-clédelou la méthodepop.\n",
        "- On peut parcourir un dictionnaire grâce aux méthodeskeys(parcourt les clés),values(parcourt les valeurs) ouitems(parcourt les couples clé-valeur)."
      ]
    },
    {
      "cell_type": "markdown",
      "metadata": {
        "id": "EdR4XG91ae-o"
      },
      "source": [
        "### Les classes \n",
        "\n",
        "Une classe regroupe des fonctions et des attributs qui définissent un objet. On appelle par ailleurs les fonctions d'une classe des \"méthodes\""
      ]
    },
    {
      "cell_type": "code",
      "metadata": {
        "id": "EjIXGjAmae-o"
      },
      "source": [
        "class Voiture:\n",
        "\n",
        "\tdef __init__(self):\n",
        "\t\tself.nom = \"Ferrari\"\n",
        "\n",
        "\tdef donne_moi_le_modele(self):\n",
        "\t\treturn \"250\""
      ],
      "execution_count": null,
      "outputs": []
    },
    {
      "cell_type": "code",
      "metadata": {
        "id": "t1QReXKHae-q",
        "outputId": "d65e9ed2-5da1-495b-9594-b4f42ecbdbee"
      },
      "source": [
        "#déclaration de l'objet \n",
        "ma_voiture=Voiture()\n",
        "#utilisation de la méthode \n",
        "ma_voiture.donne_moi_le_modele()"
      ],
      "execution_count": null,
      "outputs": [
        {
          "output_type": "execute_result",
          "data": {
            "text/plain": [
              "'250'"
            ]
          },
          "metadata": {
            "tags": []
          },
          "execution_count": 25
        }
      ]
    },
    {
      "cell_type": "markdown",
      "metadata": {
        "id": "gYlgPVQMae-s"
      },
      "source": [
        "#### Les propriétés \n",
        "\n",
        "Quelque soit le langage, pour la programmation orientée objet il est de préférable de passer par des propriétés pour changer les valeurs des attributs. Alors bien que cela ne soit pas obligatoire, il existe une convention de passer par des getter (ou accesseur en francais) et des setter ( mutateurs ) pour changer la valeur d'un attribut. "
      ]
    },
    {
      "cell_type": "code",
      "metadata": {
        "id": "XpdOuzy_ae-s"
      },
      "source": [
        "class Voiture(object):\n",
        "\n",
        "    def __init__(self):\n",
        "        self._roues=4\n",
        "\n",
        "    def _get_roues(self):\n",
        "        print(\"Récupération du nombre de roues\")\n",
        "        return self._roues\n",
        "\n",
        "    def _set_roues(self, v):\n",
        "        print(\"Changement du nombre de roues\")\n",
        "        self._roues  =  v\n",
        "\n",
        "    roues=property(_get_roues, _set_roues)"
      ],
      "execution_count": null,
      "outputs": []
    },
    {
      "cell_type": "code",
      "metadata": {
        "id": "jtb1Ghffae-w",
        "outputId": "b58093e2-63c0-40c1-94c6-75c70d04174a"
      },
      "source": [
        "ma_voiture=Voiture()\n",
        "ma_voiture.roues=5\n",
        "ma_voiture.roues"
      ],
      "execution_count": null,
      "outputs": [
        {
          "output_type": "stream",
          "text": [
            "Changement du nombre de roues\n",
            "Récupération du nombre de roues\n"
          ],
          "name": "stdout"
        },
        {
          "output_type": "execute_result",
          "data": {
            "text/plain": [
              "5"
            ]
          },
          "metadata": {
            "tags": []
          },
          "execution_count": 27
        }
      ]
    },
    {
      "cell_type": "code",
      "metadata": {
        "id": "7-5Ng2gYae-y"
      },
      "source": [
        "#Il existe une autre syntaxe en passant par des décorateurs\n",
        "class Voiture(object):\n",
        "\n",
        "    def __init__(self):\n",
        "        self._roues=4\n",
        "\n",
        "    @property\n",
        "    def roues(self):\n",
        "        print(\"Récupération du nombre de roues\")\n",
        "        return self._roues\n",
        "\n",
        "    @roues.setter\n",
        "    def roues(self, v):\n",
        "        print(\"Changement du nombre de roues\")\n",
        "        self._roues  =  v"
      ],
      "execution_count": null,
      "outputs": []
    },
    {
      "cell_type": "markdown",
      "metadata": {
        "id": "xDXC_4U-ae-0"
      },
      "source": [
        "Un décorateur est une fonction qui modifie le comportement d'autres fonctions. Les décorateurs sont utiles lorsque l'on veut ajouter du même code à plusieurs fonctions existantes.\n",
        "\n",
        "\n",
        "### L'héritage \n",
        "\n",
        "Enfin dernier point intéressant: il est possible d'appeler la méthode du parent puis de faire la spécificité de la méthode. On peut d'ailleurs appeler n'importe quelle autre méthode."
      ]
    },
    {
      "cell_type": "code",
      "metadata": {
        "id": "Dqq6HAOeae-1",
        "outputId": "b96d3b3b-f4d5-4296-daf4-9f8af702ba39"
      },
      "source": [
        "class Voiture:\n",
        "\n",
        "    roues = 4\n",
        "    moteur = 1\n",
        "\n",
        "    def __init__(self):\n",
        "        self.nom = \"A déterminer\"\n",
        "        \n",
        "    def allumer(self):\n",
        "        print(\"La voiture démarre\")\n",
        "\n",
        "class VoitureSport(Voiture):\n",
        "\n",
        "    def __init__(self):\n",
        "        self.nom = \"Ferrari\"\n",
        "        \n",
        "    def allumer(self):\n",
        "        Voiture.allumer(self)\n",
        "        print(\"La voiture de sport démarre\")\n",
        "\n",
        "ma_voiture_sport = VoitureSport()\n",
        "ma_voiture_sport.allumer()"
      ],
      "execution_count": null,
      "outputs": [
        {
          "output_type": "stream",
          "text": [
            "La voiture démarre\n",
            "La voiture de sport démarre\n"
          ],
          "name": "stdout"
        }
      ]
    }
  ]
}