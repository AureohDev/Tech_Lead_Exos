{
  "nbformat": 4,
  "nbformat_minor": 0,
  "metadata": {
    "accelerator": "GPU",
    "colab": {
      "name": "Exos_POO.ipynb",
      "provenance": [],
      "collapsed_sections": [],
      "include_colab_link": true
    },
    "kernelspec": {
      "display_name": "Python 3",
      "language": "python",
      "name": "python3"
    },
    "language_info": {
      "codemirror_mode": {
        "name": "ipython",
        "version": 3
      },
      "file_extension": ".py",
      "mimetype": "text/x-python",
      "name": "python",
      "nbconvert_exporter": "python",
      "pygments_lexer": "ipython3",
      "version": "3.8.3"
    }
  },
  "cells": [
    {
      "cell_type": "markdown",
      "metadata": {
        "id": "view-in-github",
        "colab_type": "text"
      },
      "source": [
        "<a href=\"https://colab.research.google.com/github/AureohDev/Tech_Lead_Exos/blob/main/Exos_POO.ipynb\" target=\"_parent\"><img src=\"https://colab.research.google.com/assets/colab-badge.svg\" alt=\"Open In Colab\"/></a>"
      ]
    },
    {
      "cell_type": "markdown",
      "metadata": {
        "id": "5IBkWv8KdZ0W"
      },
      "source": [
        "# Introduction\n",
        "\n",
        "\n",
        "\n",
        "En Python, à ce stade, nous allons supposer que vous connaissez les bases du langage ainsi que celles des structures de données. Si ce n'est pas le cas je vous renvoie vers le cours *Introduction au python* à la racine. \n",
        "\n",
        "\n"
      ]
    },
    {
      "cell_type": "markdown",
      "metadata": {
        "id": "Mpci0VhGdZ0Z"
      },
      "source": [
        "## Rappels sur la POO\n",
        "\n",
        "La programmation orienté objet, c’est un style de programmation qui permet de regrouper au même endroit le comportement (les fonctions) et les données (les structures) qui sont faites pour aller ensemble.\n",
        "\n",
        "C’est tout. C’est finalement une simple question d’organisation du programme.\n",
        "\n",
        "### Les objets \n",
        "\n",
        "Un objet c'est un… truc. Un machin. Un bidule.\n",
        "\n",
        "Ça peut vous paraître une définition floue, mais c’est parce que c’est exactement ce que peut être un objet: n’importe quoi que vous décidiez de coder. L’objet est un moyen de dire à la machine : “ce *< entrez_ici_un_nom_de_truc > *possède telle donnée, et fait telle chose avec”.\n",
        "\n",
        "Vous le savez, en python absolument tout est un objet ! Une chaîne, un entier, un dictionnaire, une liste, une fonction… Vous avez donc manipulé des objets sans le savoir. Maintenant vous allez créer les vôtres.\n",
        "\n",
        "Créer des objets se fait en deux étapes: décrire à quoi ressemble votre objet, et demander à l’ordinateur d’utiliser cette description pour le fabriquer.\n",
        "\n",
        "Voici un petit exemple simple. "
      ]
    },
    {
      "cell_type": "code",
      "metadata": {
        "id": "7D13dCLDdZ0b"
      },
      "source": [
        "class DescriptionDeLObject : \n",
        "    pass"
      ],
      "execution_count": null,
      "outputs": []
    },
    {
      "cell_type": "code",
      "metadata": {
        "id": "jXB5VLi2dZ1I",
        "outputId": "067f9851-1510-4cd4-eff8-c4550e27447c"
      },
      "source": [
        "#on déclare cet objet afin de l'utiliser\n",
        "MonObjet = DescriptionDeLObject() \n",
        "#on l'affiche \n",
        "print(MonObjet)"
      ],
      "execution_count": null,
      "outputs": [
        {
          "output_type": "stream",
          "text": [
            "<__main__.DescriptionDeLObject object at 0x000001E0420283A0>\n"
          ],
          "name": "stdout"
        }
      ]
    },
    {
      "cell_type": "markdown",
      "metadata": {
        "id": "GplznSufdZ1x"
      },
      "source": [
        "C'est ce qu’on appelle une classe. **La classe est le moyen, en Python, de décrire à quoi va ressembler un objet.**\n",
        "\n",
        "\n",
        "```DescriptionDeLObject()``` \n",
        "**(notez les parenthèses)**, est la syntaxe Python pour dire “fabrique un objet à partir de ce plan”. Le nouvel objet va être retourné, et mis dans la variable *MonObjet* . "
      ]
    },
    {
      "cell_type": "markdown",
      "metadata": {
        "id": "20FWRjqpdZ1y"
      },
      "source": [
        "### Les méthodes \n",
        "\n",
        "Les méthodes sont des fonctions déclarées à l’intérieur de la classe. Méthode est juste un nom pour dire “cette fonction est dans une classe”. On va maintenant créer une méthode très simple. "
      ]
    },
    {
      "cell_type": "code",
      "metadata": {
        "id": "XSt-hk9edZ1z"
      },
      "source": [
        "class DescriptionDeLObject :\n",
        "    #une méthode est une fonction qu'on définie tel que : \n",
        "    def la_methode(objet_en_cours):\n",
        "        print(\"Ceci est une méthode sur un objet : 'tada' \")"
      ],
      "execution_count": null,
      "outputs": []
    },
    {
      "cell_type": "code",
      "metadata": {
        "id": "0_7y9RGHdZ19",
        "outputId": "3b711d27-a47d-46e5-a6b2-1d5836972ff1"
      },
      "source": [
        "#on redéfinit la variable MonObjet \n",
        "MonObjet = DescriptionDeLObject() \n",
        "#on peut maintenant appeler la méthode de notre objet \n",
        "MonObjet.la_methode()"
      ],
      "execution_count": null,
      "outputs": [
        {
          "output_type": "stream",
          "text": [
            "Ceci est une méthode sur un objet : 'tada' \n"
          ],
          "name": "stdout"
        }
      ]
    },
    {
      "cell_type": "markdown",
      "metadata": {
        "id": "0EjE1p4ldZ2T"
      },
      "source": [
        "Vous devez vous demander *“quel est ce objet_en_cours”* qui est défini comme paramètre de la méthode ?\n",
        "\n",
        "C’est une spécificité de Python : quand vous appelez une méthode depuis un objet, l’objet est automatiquement passé en premier paramètre par Python. C’est automatique, et invisible.\n",
        "\n",
        "C’est très facile à comprendre en faisant une méthode qui retourne ```objet_en_cours``` pour voir ce qu’il y a dedans :"
      ]
    },
    {
      "cell_type": "code",
      "metadata": {
        "id": "ghrwsiKCdZ2U"
      },
      "source": [
        "class DescriptionDeLObjectBis : \n",
        "    def une_methode(objet_en_cours):\n",
        "        return objet_en_cours"
      ],
      "execution_count": null,
      "outputs": []
    },
    {
      "cell_type": "code",
      "metadata": {
        "id": "QvXHgRmHdZ2m",
        "outputId": "54037fa0-f9f8-4955-9cf8-790e7427dbbc"
      },
      "source": [
        "ObjetBis = DescriptionDeLObjectBis() \n",
        "ObjetBis.une_methode() "
      ],
      "execution_count": null,
      "outputs": [
        {
          "output_type": "execute_result",
          "data": {
            "text/plain": [
              "<__main__.DescriptionDeLObjectBis at 0x234c45a0e80>"
            ]
          },
          "metadata": {
            "tags": []
          },
          "execution_count": 6
        }
      ]
    },
    {
      "cell_type": "markdown",
      "metadata": {
        "id": "mrCVdiz1dZ2y"
      },
      "source": [
        "### Les conventions \n",
        "\n",
        "En Python, peu de choses sont forcées. La plupart des choses sont des conventions. Mais ce sont des conventions fortes, les gens y tiennent.\n",
        "\n",
        "Parmi ces conventions, il y a les conventions de nommage, à savoir:\n",
        "- on nomme les classes sans espace, avec des majuscules : NomDUneClasse\n",
        "- on nomme le reste en minuscule avec des underscores : nom_de_methode, nom_d_attribut, etc\n",
        "\n",
        "La convention la plus surprenante est celle du premier paramètre des méthodes qui contient *l’objet en cours*. Son nom n’est pas forcé, contrairement aux autres langages (comme this en Java par exemple), en fait c’est un paramètre tout à faire ordinaire. Néanmoins, la (très très forte) convention est de l’appeler ```self``` "
      ]
    },
    {
      "cell_type": "code",
      "metadata": {
        "id": "ZtmWdQ5NdZ2z",
        "outputId": "1778aa62-4fe5-42f9-e5bd-f06dcdb86f19"
      },
      "source": [
        "class UneClasse : \n",
        "    def methode(self): \n",
        "        print('un truc')\n",
        "        \n",
        "ex = UneClasse()\n",
        "ex.methode() "
      ],
      "execution_count": null,
      "outputs": [
        {
          "output_type": "stream",
          "text": [
            "un truc\n"
          ],
          "name": "stdout"
        }
      ]
    },
    {
      "cell_type": "markdown",
      "metadata": {
        "id": "nPk29Ac6dZ25"
      },
      "source": [
        "Enfin, les concepteurs de Python ont ajouté une convention supplémentaire : les méthodes appelées automatiquement dites méthodes spéciales sont appelées ```__nom_de_methode__``` (avec deux underscores de chaque côté)."
      ]
    },
    {
      "cell_type": "markdown",
      "metadata": {
        "id": "vdxmFikmdZ26"
      },
      "source": [
        "### L'initialisation des objets \n",
        "\n",
        "On souhaite généralement donner un état de départ à tout nouvel objet créé. Par exemple, si vous travaillez sur un jeu vidéo de course de voitures, vous voudrez peut-être créer un objet voiture avec du carburant et une couleur de peinture.\n",
        "\n",
        "Il serait contre productif de devoir les spécifier à chaque fois. Pour automatiser le travail, Python met à disposition des méthodes appelées automatiquement quand une condition est remplie. Ce sont **les fameuses méthodes spéciales nommées __methode__**.\n",
        "\n",
        "Dans notre cas, on veut que notre objet ait un état de départ, donc on va utiliser la méthode qui est appelée automatiquement après la création de l’objet. C’est la méthode ```__init__```."
      ]
    },
    {
      "cell_type": "code",
      "metadata": {
        "id": "XbxnK743dZ27",
        "outputId": "0af16aa4-2b92-4f10-cee5-660f310be76f"
      },
      "source": [
        "class UneAutreClass : \n",
        "    def __init__(self) :\n",
        "        print(\"L'objet à bien été crée !\")\n",
        "        print(\"La méthode est appelé automatiquement à la déclaration de l'objet\")\n",
        "\n",
        "x = UneAutreClass()"
      ],
      "execution_count": null,
      "outputs": [
        {
          "output_type": "stream",
          "text": [
            "L'objet à bien été crée !\n",
            "La méthode est appelé automatiquement à la déclaration de l'objet\n"
          ],
          "name": "stdout"
        }
      ]
    },
    {
      "cell_type": "markdown",
      "metadata": {
        "id": "BS7qMsHPrZnS"
      },
      "source": [
        "### L'héritage et le polymorphisme\n",
        "\n",
        "Enfin dernier point intéressant: il est possible d'hériter des propriétés d'une classe.\n",
        "Ainsi la classe \"fille\" récupère l'ensemble des propriétés (attributs, méthodes) de la classe \"mère\".\n",
        "On peut donc appeler n'importe quelle méthode de la classe mère ou des méthodes spécifiques de la classe \"fille\".\n",
        "\n",
        "#### Le polymophisme...\n",
        "C'est la possibilité de redéfinir une méthode dans une classe \"fille\" héritant d'une classe \"mère\"."
      ]
    },
    {
      "cell_type": "code",
      "metadata": {
        "scrolled": true,
        "id": "96NImzatrZnT",
        "outputId": "d4121982-2db2-4903-a43c-eeca4965aff0"
      },
      "source": [
        "class Voiture:\n",
        "\n",
        "    roues = 4\n",
        "    moteur = 1\n",
        "\n",
        "    def __init__(self):\n",
        "        self.nom = \"A déterminer\"\n",
        "        \n",
        "    def allumer(self):\n",
        "        print(\"La voiture démarre\")\n",
        "\n",
        "class VoitureSport(Voiture):\n",
        "\n",
        "    def __init__(self):\n",
        "        self.nom = \"Ferrari\"\n",
        "        \n",
        "    def allumer(self):\n",
        "        Voiture.allumer(self) #super() en Java\n",
        "        print(\"La voiture de sport démarre\")\n",
        "\n",
        "ma_voiture_sport = VoitureSport()\n",
        "print (ma_voiture_sport.nom)\n",
        "ma_voiture_sport.allumer()\n"
      ],
      "execution_count": null,
      "outputs": [
        {
          "output_type": "stream",
          "text": [
            "Ferrari\n",
            "La voiture démarre\n",
            "La voiture de sport démarre\n"
          ],
          "name": "stdout"
        }
      ]
    },
    {
      "cell_type": "markdown",
      "metadata": {
        "id": "aee_oUXadZ3K"
      },
      "source": [
        "## Exercices\n",
        "\n",
        "\n",
        "### Le compte bancaire\n",
        "\n",
        "Écrire un programme python qui permet de définir une classe CompteBancaire(), qui permette d’instancier des objets tels que compte1, compte2, etc. Le constructeur de cette classe **initialisera** deux attributs d’instance nom et solde, avec les valeurs par défaut ’Dupont’ et 1000.\n",
        "\n",
        "Trois autres méthodes seront définies :\n",
        "\n",
        "- depot(somme) permettra d’ajouter une certaine somme au solde ;\n",
        "- retrait(somme) permettra de retirer une certaine somme du solde ;\n",
        "- affiche() permettra d’afficher le nom du titulaire et le solde de son compte.\n",
        "\n",
        "\n",
        "Exemples d’exécution:\n",
        "```\n",
        ">>> compte1 = CompteBancaire(‘Duchmol’, 800)\n",
        ">>> compte1.depot(350)\n",
        ">>> compte1.retrait(200)\n",
        ">>> compte1.affiche()\n",
        "Le solde du compte bancaire de Duchmol est de 950 euros.\n",
        ">>> compte2 = CompteBancaire()\n",
        ">>> compte2.depot(25)\n",
        ">>> compte2.affiche()\n",
        "Le solde du compte bancaire de Dupont est de 1025 euros.\n",
        "\n",
        "```\n",
        "\n",
        "\n",
        "### La surcharge d'opérateur \n",
        "\n",
        "Définir une classe Point avec un constructeur, un point est définit soit par deux coordonnées x et y, s’il s’agit d’une représentation d’un point au plan ou par trois coordonnées x, y et z, s’il s’agit d’une représentation d’un point en espace.\n",
        "\n",
        "La classe Point doit contenir une méthode ToString qui affiche le point.\n",
        "\n",
        "Exemple d’exécution:\n",
        "```\n",
        ">>>P1=Point(2,3)\n",
        ">>>P1.ToString()\n",
        "P(2.00 , 3.00)\n",
        ">>>P2=Point(1,-5,6)\n",
        ">>>P2.ToString()\n",
        "P(1.00 , -5.00 , 6.00)\n",
        "```\n",
        "\n",
        "\n",
        "### L'héritage simple\n",
        "\n",
        "Définir les classes suivantes:\n",
        "\n",
        "- Une classe DateNaissance avec trois attributs, jour, mois, année et une méthode ToString qui convertit la date de naissance en chaine de caractères\n",
        "- Une classe Personne  avec trois attributs, nom, prénom et date de naissance et une méthode polymorphe Afficher pour afficher les données de chaque personne.\n",
        "- Une classe Employé qui dérive de la classe Personne, avec en plus un attribut Salaire et la redéfinition de la méthode Afficher.\n",
        "- Une classe Chef qui dérive de la classe Employé, avec en plus un attribut Service et la redéfinition de la méthode Afficher.\n",
        "\n",
        "Exemple d’exécution:\n",
        "\n",
        "```\n",
        ">>>P=personne(“Ilyass”,”Math”,DateNaissance(1,7,1982))\n",
        ">>>P.afficher()\n",
        "Nom: Ilyass \n",
        "Prénom: Math\n",
        "Date de naissance: 01 / 07 / 1982\n",
        "\n",
        ">>>E=employe(“Ilyass”,”Math”,DateNaissance(1,7,1985),7865.548)\n",
        ">>>E.afficher()\n",
        "Nom: Ilyass \n",
        "Prénom: Math\n",
        "Date de naissance: 01 / 07 / 1985\n",
        "Salaire: 7865.55\n",
        "\n",
        ">>>Ch=chef(“Ilyass”,”Math”,DateNaissance(1,7,1988),7865.548,”Ressource humaine”)\n",
        ">>>Ch.afficher()\n",
        "Nom: Ilyass \n",
        "Prénom: Math\n",
        "Date de naissance: 01 / 07 / 1988\n",
        "Salaire: 7865.55\n",
        "Service: Ressource humaine\n",
        "```\n"
      ]
    },
    {
      "cell_type": "code",
      "metadata": {
        "id": "mPlXRZqdpi5_",
        "outputId": "d5681b8c-6231-4a62-96ec-904042304077",
        "colab": {
          "base_uri": "https://localhost:8080/",
          "height": 51
        }
      },
      "source": [
        "# Le compte bancaire \n",
        "\n",
        "class CompteBancaire():\n",
        "  def __init__(self, nom=\"Dupont\", solde=1000):\n",
        "    self.nom = nom\n",
        "    self.solde = solde\n",
        "  \n",
        "  def depot(self, somme):\n",
        "    self.solde += somme\n",
        "\n",
        "  def retrait(self, somme):\n",
        "    self.solde -= somme\n",
        "  \n",
        "  def affiche(self):\n",
        "    print(\"Le solde du compte bancaire de \"+self.nom+\" est de \"+str(self.solde))\n",
        "\n",
        "compte1 = CompteBancaire('Duchmol',800)\n",
        "compte1.depot(350)\n",
        "compte1.retrait(200)\n",
        "compte1.affiche()\n",
        "compte2 = CompteBancaire()\n",
        "compte2.depot(25)\n",
        "compte2.affiche()"
      ],
      "execution_count": null,
      "outputs": [
        {
          "output_type": "stream",
          "text": [
            "Le solde du compte bancaire de Duchmol est de 950\n",
            "Le solde du compte bancaire de Dupont est de 1025\n"
          ],
          "name": "stdout"
        }
      ]
    },
    {
      "cell_type": "code",
      "metadata": {
        "id": "MmNvEynWuLvD",
        "outputId": "77615482-45bf-4d37-a26b-1915dd548943",
        "colab": {
          "base_uri": "https://localhost:8080/",
          "height": 51
        }
      },
      "source": [
        "# La surcharge d'opérateur\n",
        "\n",
        "class Point():\n",
        "  def __init__(self,x=0,y=0,z=None):\n",
        "    self.x = x\n",
        "    self.y = y\n",
        "    self.z = z\n",
        "\n",
        "  def ToString(self):\n",
        "    if self.z == None:\n",
        "      print(\"P(\"+str(self.x)+\" , \"+str(self.y)+\")\")\n",
        "    else :\n",
        "      print(\"P(\"+str(self.x)+\" , \"+str(self.y)+\" , \"+str(self.z)+\")\")\n",
        "\n",
        "P1=Point(2,3)\n",
        "P1.ToString()\n",
        "P2=Point(1, -5, 6)\n",
        "P2.ToString()"
      ],
      "execution_count": null,
      "outputs": [
        {
          "output_type": "stream",
          "text": [
            "P(2 , 3)\n",
            "P(1 , -5 , 6)\n"
          ],
          "name": "stdout"
        }
      ]
    },
    {
      "cell_type": "code",
      "metadata": {
        "id": "CBkpowSI3Qai"
      },
      "source": [
        "class DateNaissance():\n",
        "  def __init__(self, jour, mois, année):\n",
        "    self.jour = jour\n",
        "    self.mois = mois\n",
        "    self.année = année\n",
        "    if(jour < 10):\n",
        "      nouveau_jour = str(jour)\n",
        "      self.jour =  nouveau_jour.zfill(2)\n",
        "    if(mois < 10):\n",
        "      nouveau_mois = str(mois)\n",
        "      self.mois =  nouveau_mois.zfill(2)\n",
        "  def afficher(self):\n",
        "    date = str(self.jour)+\"/\"+str(self.mois)+\"/\"+str(self.année)\n",
        "    print(\"Date de naissance : \" + date)\n",
        "\n",
        "class Personne():\n",
        "  def __init__(self, nom,prenom,date_naissance):\n",
        "    self.nom = nom\n",
        "    self.prenom = prenom\n",
        "    self.date_naissance = date_naissance\n",
        "\n",
        "  def afficher(self):\n",
        "    print(\"Nom: \" +str(self.nom))\n",
        "    print(\"Prénom: \" +str(self.prenom))\n",
        "    self.date_naissance.afficher()\n",
        "\n",
        "class Employe(Personne):\n",
        "  def __init__(self,nom,prenom, date_naissance,salaire):\n",
        "    Personne.__init__(self,nom,prenom,date_naissance)\n",
        "    self.salaire = salaire\n",
        "\n",
        "  def afficher(self):\n",
        "    Personne.afficher(self)\n",
        "    print('Salaire: ', self.salaire)\n",
        "\n",
        "class Chef(Employe):\n",
        "  def __init__(self,nom,prenom, date_naissance,salaire,service):\n",
        "    Employe.__init__(self,nom,prenom,date_naissance,salaire)\n",
        "    self.service = service\n",
        "\n",
        "  def afficher(self):\n",
        "    Employe.afficher(self)\n",
        "    print('Service: ', self.service)\n",
        "\n",
        "test2 = Chef(\"Dupont\",\"Marc\",DateNaissance(1,9,1999),2500,\"Sécurité\")\n",
        "test2.afficher()"
      ],
      "execution_count": null,
      "outputs": []
    },
    {
      "cell_type": "markdown",
      "metadata": {
        "id": "zK9TRsq5dZ3K"
      },
      "source": [
        "## Exercice sur le polymorphisme\n",
        "\n",
        "### Consignes \n",
        "\n",
        "Une boîtes aux lettres recueille des courrier qui peuvent être des lettres ou des colis.\n",
        "\n",
        "Une lettre est caractérisée par :\n",
        "\n",
        "son poids (en grammes)\n",
        "le mode d’expédition (express ou normal)\n",
        "son adresse de destination\n",
        "son adresse d’expédition\n",
        "son format (“A3” ou “A4”)\n",
        "Un colis est caractérisé par :\n",
        "\n",
        "son poids (en grammes)\n",
        "le mode d’expédition (express ou normal)\n",
        "son adresse de destination\n",
        "son adresse d’expédition\n",
        "son volume (en litres )\n",
        "Il faut donc définir aussi les deux méthodes:\n",
        "\n",
        "calculTimbre: qui calcule le prix du Timbre\n",
        "ToString qui affiche un courrier\n",
        "Règles pour calculer le prix du Timbre :\n",
        "\n",
        "en mode d’expédition normal :\n",
        "\n",
        "Le montant nécessaire pour affranchir une lettre dépend de son format et de son poids : Formule : montant = tarif de base + 1.0 * poids (kilos), où le tarif de base pour une lettre “A4” est de 2.50, et 3.50 pour une lettre “A3”\n",
        "\n",
        "Le montant nécessaire pour affranchir un colis dépend de son poids et de son volume : Formule : montant = 0.25 volume (litres) * poids (kilos) 1.0\n",
        "\n",
        "en mode d’expédition express : les montants précédents sont doublés, quelque soit le type de courrier\n",
        "\n",
        "### Exemple d’exécution :\n",
        "```\n",
        ">>>L1=Lettre(“Lille”,”Paris”,80,”normal”,”A4″)\n",
        ">>>L1.ToString()\n",
        "Lettre:\n",
        "Adresse destination: Lille \n",
        "Adresse expedition: Paris\n",
        "Poids: 80.00 grammes\n",
        "Mode: normal \n",
        "Format:A4\n",
        "Prix du timbre:0.20\n",
        ">>>C1=Colis(“Marrakeche”,”Barcelone “,3500,”expresse”,2.25)\n",
        ">>>C1.ToString()\n",
        "Colis:\n",
        "Adresse destination: Marrakeche \n",
        "Adresse expedition: Barcelone \n",
        "Poids: 3500.00 grammes\n",
        "Mode: expresse \n",
        "Volume: 2.25 litres\n",
        "Prix du timbre:3.93750\n",
        "```"
      ]
    },
    {
      "cell_type": "code",
      "metadata": {
        "id": "Ukho97GddZ3L",
        "outputId": "70e62533-751c-4522-cb4c-29b9651422ca",
        "colab": {
          "base_uri": "https://localhost:8080/",
          "height": 255
        }
      },
      "source": [
        "class Courrier():\n",
        "  def __init__(self,adr_dest,adr_expe,poids,mode_expe):\n",
        "    self.adr_dest = adr_dest\n",
        "    self.adr_expe = adr_expe\n",
        "    self.poids = poids\n",
        "    self.mode_expe = mode_expe\n",
        "  \n",
        "  def ToString(self):\n",
        "    print('Adresse destination: '+self.adr_dest)\n",
        "    print('Adresse expedition: '+self.adr_expe)\n",
        "    print('Poids: '+str(self.poids))\n",
        "    print('Mode: '+self.mode_expe)\n",
        "\n",
        "\n",
        "class Lettre(Courrier):\n",
        "  def __init__(self,adr_dest,adr_expe,poids,mode_expe,format):\n",
        "    Courrier.__init__(self,adr_dest,adr_expe,poids,mode_expe)\n",
        "    self.format = format\n",
        "\n",
        "  def CalculTimbre(self):\n",
        "    if self.format == \"A4\":\n",
        "      montant = 2.50 + 1.0*(self.poids*0.001)\n",
        "    \n",
        "    elif self.format == \"A3\":\n",
        "      montant = 3.50 + 1.0*(self.poids*0.001)\n",
        "\n",
        "    else :\n",
        "      print('Le format n\\'est pas correcte. Veuillez choisir entre le format A3 et A4')  \n",
        "\n",
        "    if self.mode_expe == \"express\":\n",
        "        montant = montant * 2\n",
        "    \n",
        "    return montant\n",
        "\n",
        "  \n",
        "  def ToString(self):\n",
        "    print(\"Lettre :\")\n",
        "    Courrier.ToString(self)\n",
        "    print(\"Format : \"+self.format)\n",
        "    print(\"Prix du timbre : \"+str(self.CalculTimbre()))\n",
        "\n",
        "class Colis(Courrier):\n",
        "  def __init__(self,adr_dest,adr_expe,poids,mode_expe,volume):\n",
        "    Courrier.__init__(self,adr_dest,adr_expe,poids,mode_expe)\n",
        "    self.volume = volume\n",
        "\n",
        "  def CalculTimbre(self):\n",
        "\n",
        "    montant = 0.25*self.volume*self.poids*0.001\n",
        "\n",
        "    if self.mode_expe == \"express\" :\n",
        "      montant = montant*2\n",
        "    \n",
        "    return montant\n",
        "\n",
        "\n",
        "  def ToString(self):\n",
        "    print('Colis :')\n",
        "    Courrier.ToString(self)\n",
        "    print(\"Volume : \"+str(self.volume))\n",
        "    print(\"Prix du timbre : \"+str(self.CalculTimbre()))\n",
        "\n",
        "\n",
        "L1 = Lettre(\"Lille\",\"Paris\",80,\"normal\",\"A4\")\n",
        "L1.ToString()\n",
        "print(\"-----\")\n",
        "C1 = Colis(\"Marrakeche\",\"Barcelone\",3500,\"express\",2.25)\n",
        "C1.ToString()\n"
      ],
      "execution_count": null,
      "outputs": [
        {
          "output_type": "stream",
          "text": [
            "Lettre :\n",
            "Adresse destination: Lille\n",
            "Adresse expedition: Paris\n",
            "Poids: 80\n",
            "Mode: normal\n",
            "Format : A4\n",
            "Prix du timbre : 2.58\n",
            "Colis :\n",
            "Adresse destination: Marrakeche\n",
            "Adresse expedition: Barcelone\n",
            "Poids: 3500\n",
            "Mode: express\n",
            "Volume : 2.25\n",
            "Prix du timbre : 3.9375\n"
          ],
          "name": "stdout"
        }
      ]
    }
  ]
}