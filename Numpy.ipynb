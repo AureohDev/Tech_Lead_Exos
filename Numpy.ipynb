{
  "nbformat": 4,
  "nbformat_minor": 0,
  "metadata": {
    "kernelspec": {
      "display_name": "Python 3",
      "language": "python",
      "name": "python3"
    },
    "language_info": {
      "codemirror_mode": {
        "name": "ipython",
        "version": 3
      },
      "file_extension": ".py",
      "mimetype": "text/x-python",
      "name": "python",
      "nbconvert_exporter": "python",
      "pygments_lexer": "ipython3",
      "version": "3.8.3"
    },
    "colab": {
      "name": "Numpy.ipynb",
      "provenance": [],
      "include_colab_link": true
    }
  },
  "cells": [
    {
      "cell_type": "markdown",
      "metadata": {
        "id": "view-in-github",
        "colab_type": "text"
      },
      "source": [
        "<a href=\"https://colab.research.google.com/github/AureohDev/Tech_Lead_Exos/blob/main/Numpy.ipynb\" target=\"_parent\"><img src=\"https://colab.research.google.com/assets/colab-badge.svg\" alt=\"Open In Colab\"/></a>"
      ]
    },
    {
      "cell_type": "markdown",
      "metadata": {
        "id": "72fLflRbthl4"
      },
      "source": [
        "# Numpy  \n",
        "\n",
        "_________________________________\n",
        "\n",
        "## Durée du cours  \n",
        "**1h**\n",
        "\n",
        "_________________________________\n",
        "\n",
        "## Contexte\n",
        "### Pré-requis\n",
        "- Connaissance de la syntaxe Python \n",
        "- Connaissance de la programmation orientée objet en Python \n",
        "- Mathématique niveau lycée \n",
        "- De la bonne humeur et de la motivation 🚀\n",
        "\n",
        "\n",
        "NumPy est une extension du langage de programmation Python, **destinée à manipuler des matrices ou tableaux multidimensionnels ainsi que des fonctions mathématiques opérant sur ces tableaux.**\n",
        "Plus précisément, cette bibliothèque logicielle libre et open source fournit de multiples fonctions permettant notamment de créer des vecteurs, matrices et polynômes.\n",
        "NumPy est la base de SciPy, un regroupement de bibliothèques Python autour du calcul scientifique. \n",
        "\n",
        "_________________________________\n",
        "\n",
        "## Sommaire \n",
        "* [Installer numpy](#install)\n",
        "* [La gestion des tableaux](#tab)\n",
        "* [Les opérations et fonctions principales de la librairie](#functions)\n",
        "* [Les statistiques de base](#stats)\n",
        "\n",
        "\n",
        "\n",
        "## <a id=#install>Installer numpy()</a>\n",
        "\n",
        "### Vérifier déjà que vous n'avez pas numpy avec `pip list` : \n",
        "Avant d'installer numpy, on peut vérifier si il est présent sur votre machine avec la commande suivante :\n",
        "```\n",
        "pip list \n",
        "```\n",
        "Si numpy ne s'affiche pas c'est qu'il n'est pas installé. \n",
        "\n",
        "### Installation avec `pip`\n",
        "\n",
        "Vous pouvez installer numpy de plusieurs manières. \n",
        "\n",
        "Manuellement depuis votre terminal lancer la commande suivante :  \n",
        "```bash \n",
        "pip install numpy\n",
        "```\n",
        "ou si vous êtes dans un notebook \n",
        "```python \n",
        "!pip install numpy \n",
        "```\n",
        "Vous pouvez vérifier votre installation en tapant dans votre notebook la ligne de commande : \n",
        "```python\n",
        "import numpy as np\n",
        "```\n",
        "\n",
        "Si la cellule s'execute et passe à la suivante c'est que numpy est bien présent sur votre machine. Dans le cas contraire vous allez avoir une erreur du type `Not Found`. "
      ]
    },
    {
      "cell_type": "code",
      "metadata": {
        "id": "O3BCxmUdthl5"
      },
      "source": [
        "import numpy as np "
      ],
      "execution_count": null,
      "outputs": []
    },
    {
      "cell_type": "markdown",
      "metadata": {
        "id": "kMyTBMYLthl9"
      },
      "source": [
        "## <a id=#tab>La gestion des tableaux avec numpy</a>"
      ]
    },
    {
      "cell_type": "code",
      "metadata": {
        "id": "U-0DWk_Xthl-",
        "outputId": "fd36e93b-4f92-458c-fa42-55622ee9db4a"
      },
      "source": [
        "a = np.array([1.7,2.8,3])\n",
        "a"
      ],
      "execution_count": null,
      "outputs": [
        {
          "output_type": "execute_result",
          "data": {
            "text/plain": [
              "array([1.7, 2.8, 3. ])"
            ]
          },
          "metadata": {
            "tags": []
          },
          "execution_count": 15
        }
      ]
    },
    {
      "cell_type": "code",
      "metadata": {
        "id": "QmEjGeiAthmH",
        "outputId": "c8825ff7-7462-46c3-aa7c-cd2c4e8f46aa"
      },
      "source": [
        "a.dtype"
      ],
      "execution_count": null,
      "outputs": [
        {
          "output_type": "execute_result",
          "data": {
            "text/plain": [
              "dtype('float64')"
            ]
          },
          "metadata": {
            "tags": []
          },
          "execution_count": 16
        }
      ]
    },
    {
      "cell_type": "code",
      "metadata": {
        "id": "z5h1uKoMthmN",
        "outputId": "97a3fe3e-dea1-45ac-c5a0-d6bbaf27327f"
      },
      "source": [
        "a = np.array([1,2.8,3,'s'])\n",
        "a"
      ],
      "execution_count": null,
      "outputs": [
        {
          "output_type": "execute_result",
          "data": {
            "text/plain": [
              "array(['1', '2.8', '3', 's'], dtype='<U32')"
            ]
          },
          "metadata": {
            "tags": []
          },
          "execution_count": 17
        }
      ]
    },
    {
      "cell_type": "code",
      "metadata": {
        "id": "bViFTOSPthmP",
        "outputId": "31a2cfe3-0dd7-418d-8ee1-020fa47d5861"
      },
      "source": [
        "a.dtype"
      ],
      "execution_count": null,
      "outputs": [
        {
          "output_type": "execute_result",
          "data": {
            "text/plain": [
              "dtype('<U32')"
            ]
          },
          "metadata": {
            "tags": []
          },
          "execution_count": 18
        }
      ]
    },
    {
      "cell_type": "markdown",
      "metadata": {
        "id": "MujrFEStthmS"
      },
      "source": [
        "Le caractère `U` est l'abréviation de *Unicode String* 🤓"
      ]
    },
    {
      "cell_type": "code",
      "metadata": {
        "id": "qj_DJtPhthmT",
        "outputId": "efbcd6d6-9960-47ac-f8ff-f6ee99f2a2cf"
      },
      "source": [
        "m = np.array([[1, 2], [3, 4]])\n",
        "m"
      ],
      "execution_count": null,
      "outputs": [
        {
          "output_type": "execute_result",
          "data": {
            "text/plain": [
              "array([[1, 2],\n",
              "       [3, 4]])"
            ]
          },
          "metadata": {
            "tags": []
          },
          "execution_count": 19
        }
      ]
    },
    {
      "cell_type": "code",
      "metadata": {
        "id": "dBcExUpsthmY",
        "outputId": "871214f4-c9e6-4941-834d-1dd23605700b"
      },
      "source": [
        "#array avec une dimension minimum \n",
        "m2 = np.array([1, 2, 3,4,5], ndmin = 2) \n",
        "m2"
      ],
      "execution_count": null,
      "outputs": [
        {
          "output_type": "execute_result",
          "data": {
            "text/plain": [
              "array([[1, 2, 3, 4, 5]])"
            ]
          },
          "metadata": {
            "tags": []
          },
          "execution_count": 20
        }
      ]
    },
    {
      "cell_type": "code",
      "metadata": {
        "id": "Vh3lYX0Dthmd",
        "outputId": "5e281e8a-72ca-4602-fa6c-d327f489e11c"
      },
      "source": [
        "#array[ligne][col]\n",
        "m[0][1]"
      ],
      "execution_count": null,
      "outputs": [
        {
          "output_type": "execute_result",
          "data": {
            "text/plain": [
              "2"
            ]
          },
          "metadata": {
            "tags": []
          },
          "execution_count": 21
        }
      ]
    },
    {
      "cell_type": "code",
      "metadata": {
        "id": "xRbZtkCothmf",
        "outputId": "5726e94b-0ec9-4879-93ec-625421207e72"
      },
      "source": [
        "#modif\n",
        "print (\"Avant {}\".format(m))\n",
        "m[0][1] = 9\n",
        "print (\"Après {}\".format(m))"
      ],
      "execution_count": null,
      "outputs": [
        {
          "output_type": "stream",
          "text": [
            "Avant [[1 2]\n",
            " [3 4]]\n",
            "Après [[1 9]\n",
            " [3 4]]\n"
          ],
          "name": "stdout"
        }
      ]
    },
    {
      "cell_type": "code",
      "metadata": {
        "id": "RNml1qXethmi",
        "outputId": "cc186e68-965d-4660-f77b-9abba5664a12"
      },
      "source": [
        "m.shape"
      ],
      "execution_count": null,
      "outputs": [
        {
          "output_type": "execute_result",
          "data": {
            "text/plain": [
              "(2, 2)"
            ]
          },
          "metadata": {
            "tags": []
          },
          "execution_count": 23
        }
      ]
    },
    {
      "cell_type": "code",
      "metadata": {
        "id": "wd16dKKRthml",
        "outputId": "44de66ab-a479-4a6d-bb13-b2e1002dd589"
      },
      "source": [
        "m2.shape = (5,1)\n",
        "m2"
      ],
      "execution_count": null,
      "outputs": [
        {
          "output_type": "execute_result",
          "data": {
            "text/plain": [
              "array([[1],\n",
              "       [2],\n",
              "       [3],\n",
              "       [4],\n",
              "       [5]])"
            ]
          },
          "metadata": {
            "tags": []
          },
          "execution_count": 24
        }
      ]
    },
    {
      "cell_type": "code",
      "metadata": {
        "id": "ifi6Hpajthmp",
        "outputId": "230a640d-9230-4b21-8233-f65d63bf903d"
      },
      "source": [
        "m2.reshape(1,5)"
      ],
      "execution_count": null,
      "outputs": [
        {
          "output_type": "execute_result",
          "data": {
            "text/plain": [
              "array([[1, 2, 3, 4, 5]])"
            ]
          },
          "metadata": {
            "tags": []
          },
          "execution_count": 25
        }
      ]
    },
    {
      "cell_type": "code",
      "metadata": {
        "id": "nbSWf5xqthmt",
        "outputId": "a56f7541-b02f-4f71-c7c8-14c2acf892bd"
      },
      "source": [
        "#3d\n",
        "c = np.arange(24).reshape(2,3,4); c"
      ],
      "execution_count": null,
      "outputs": [
        {
          "output_type": "execute_result",
          "data": {
            "text/plain": [
              "array([[[ 0,  1,  2,  3],\n",
              "        [ 4,  5,  6,  7],\n",
              "        [ 8,  9, 10, 11]],\n",
              "\n",
              "       [[12, 13, 14, 15],\n",
              "        [16, 17, 18, 19],\n",
              "        [20, 21, 22, 23]]])"
            ]
          },
          "metadata": {
            "tags": []
          },
          "execution_count": 26
        }
      ]
    },
    {
      "cell_type": "code",
      "metadata": {
        "id": "fKF30szqthmv",
        "outputId": "3f08a753-8da2-4be4-fc25-e79732caf779"
      },
      "source": [
        "#dimension de l'array\n",
        "c.ndim, m.ndim"
      ],
      "execution_count": null,
      "outputs": [
        {
          "output_type": "execute_result",
          "data": {
            "text/plain": [
              "(3, 2)"
            ]
          },
          "metadata": {
            "tags": []
          },
          "execution_count": 27
        }
      ]
    },
    {
      "cell_type": "markdown",
      "metadata": {
        "id": "OuhYZm3lthmy"
      },
      "source": [
        "### Sélection d'une partie d'un array \n",
        "\n",
        "Soit `ar` un array 2d tel que :\n",
        "```python\n",
        "ar = numpy.array([[1, 2, 3], [4, 5, 6], [7, 8, 9]])\n",
        "```\n",
        "alors : \n",
        "- `ar[1:3,0:2]` : récupère le sous-array des lignes 2 et 3, et des colonnes 1 et 2.\n",
        "- `ar[1,:]` : renvoie la 2ème ligne, mais l'array renvoyée n'a plus qu'une seule dimension \n",
        "- `ar[1:2,:]` : renvoie aussi la 2ème ligne, mais en conservant les 2 dimensions)\n",
        "- `ar[:,-1]` : renvoie la dernière colonne"
      ]
    },
    {
      "cell_type": "code",
      "metadata": {
        "id": "rOT12_L3thmy",
        "outputId": "9f64bd60-32d4-4979-a91a-e089b270b3a7"
      },
      "source": [
        "a = np.array([[1, 2, 3], [4, 5, 6]])\n",
        "a[0:2]"
      ],
      "execution_count": null,
      "outputs": [
        {
          "output_type": "execute_result",
          "data": {
            "text/plain": [
              "array([[1, 2, 3],\n",
              "       [4, 5, 6]])"
            ]
          },
          "metadata": {
            "tags": []
          },
          "execution_count": 28
        }
      ]
    },
    {
      "cell_type": "code",
      "metadata": {
        "id": "OGc6B_B-thm1",
        "outputId": "14ad712d-d174-4c83-ecfd-5dabe612c8e1"
      },
      "source": [
        "a[-1]"
      ],
      "execution_count": null,
      "outputs": [
        {
          "output_type": "execute_result",
          "data": {
            "text/plain": [
              "array([4, 5, 6])"
            ]
          },
          "metadata": {
            "tags": []
          },
          "execution_count": 29
        }
      ]
    },
    {
      "cell_type": "code",
      "metadata": {
        "id": "1J3G4UYdthm5",
        "outputId": "2b97d30b-b53c-41eb-beff-72b86e20969e"
      },
      "source": [
        "a[:]"
      ],
      "execution_count": null,
      "outputs": [
        {
          "output_type": "execute_result",
          "data": {
            "text/plain": [
              "array([[1, 2, 3],\n",
              "       [4, 5, 6]])"
            ]
          },
          "metadata": {
            "tags": []
          },
          "execution_count": 30
        }
      ]
    },
    {
      "cell_type": "code",
      "metadata": {
        "id": "Ul7RqLmHthm9",
        "outputId": "12b73bed-2088-437e-a315-825b3342a646"
      },
      "source": [
        "#sous-array 2d des 2 premières lignes et 2 premières colonne\n",
        "a[0:2,0:2] "
      ],
      "execution_count": null,
      "outputs": [
        {
          "output_type": "execute_result",
          "data": {
            "text/plain": [
              "array([[1, 2],\n",
              "       [4, 5]])"
            ]
          },
          "metadata": {
            "tags": []
          },
          "execution_count": 31
        }
      ]
    },
    {
      "cell_type": "code",
      "metadata": {
        "scrolled": true,
        "id": "xS3K7AdWthm_",
        "outputId": "36123e45-d886-4422-830c-e6702b3d14a7"
      },
      "source": [
        "#on peut filtrer par valeur \n",
        "a == 2"
      ],
      "execution_count": null,
      "outputs": [
        {
          "output_type": "execute_result",
          "data": {
            "text/plain": [
              "array([[False,  True, False],\n",
              "       [False, False, False]])"
            ]
          },
          "metadata": {
            "tags": []
          },
          "execution_count": 32
        }
      ]
    },
    {
      "cell_type": "markdown",
      "metadata": {
        "id": "rr-J-A1tthnC"
      },
      "source": [
        "### Opérations sur les tableaux \n",
        "\n",
        "⚠️ shape de vos tableaux ⚠️"
      ]
    },
    {
      "cell_type": "code",
      "metadata": {
        "id": "6xB9PZ2ithnC",
        "outputId": "42807dce-5e7d-4389-dccf-9bc13619e9c7"
      },
      "source": [
        "A = np.array([[1,1],[0,1]])\n",
        "B = np.array([[2,0],[3,4]])\n",
        "A,B"
      ],
      "execution_count": null,
      "outputs": [
        {
          "output_type": "execute_result",
          "data": {
            "text/plain": [
              "(array([[1, 1],\n",
              "        [0, 1]]),\n",
              " array([[2, 0],\n",
              "        [3, 4]]))"
            ]
          },
          "metadata": {
            "tags": []
          },
          "execution_count": 33
        }
      ]
    },
    {
      "cell_type": "code",
      "metadata": {
        "id": "yNcRjqCSthnG",
        "outputId": "9268a160-2b48-42d6-df99-962c567cc475"
      },
      "source": [
        "A+B"
      ],
      "execution_count": null,
      "outputs": [
        {
          "output_type": "execute_result",
          "data": {
            "text/plain": [
              "array([[3, 1],\n",
              "       [3, 5]])"
            ]
          },
          "metadata": {
            "tags": []
          },
          "execution_count": 34
        }
      ]
    },
    {
      "cell_type": "code",
      "metadata": {
        "id": "imAAqiRwthnJ",
        "outputId": "a18c5e96-5651-4ce6-bfe1-754b5b42de92"
      },
      "source": [
        "A-B"
      ],
      "execution_count": null,
      "outputs": [
        {
          "output_type": "execute_result",
          "data": {
            "text/plain": [
              "array([[-1,  1],\n",
              "       [-3, -3]])"
            ]
          },
          "metadata": {
            "tags": []
          },
          "execution_count": 35
        }
      ]
    },
    {
      "cell_type": "code",
      "metadata": {
        "id": "ytFn1QmWthnM",
        "outputId": "686e83ab-d997-487b-f0ac-31590891ed10"
      },
      "source": [
        "A*B"
      ],
      "execution_count": null,
      "outputs": [
        {
          "output_type": "execute_result",
          "data": {
            "text/plain": [
              "array([[2, 0],\n",
              "       [0, 4]])"
            ]
          },
          "metadata": {
            "tags": []
          },
          "execution_count": 36
        }
      ]
    },
    {
      "cell_type": "code",
      "metadata": {
        "id": "cQiXxXVOthnQ",
        "outputId": "fd9529d1-0b8c-4c6b-8506-58f48dba918a"
      },
      "source": [
        "A/B"
      ],
      "execution_count": null,
      "outputs": [
        {
          "output_type": "stream",
          "text": [
            "<ipython-input-37-5d618eb3152c>:1: RuntimeWarning: divide by zero encountered in true_divide\n",
            "  A/B\n"
          ],
          "name": "stderr"
        },
        {
          "output_type": "execute_result",
          "data": {
            "text/plain": [
              "array([[0.5 ,  inf],\n",
              "       [0.  , 0.25]])"
            ]
          },
          "metadata": {
            "tags": []
          },
          "execution_count": 37
        }
      ]
    },
    {
      "cell_type": "code",
      "metadata": {
        "id": "hfUjogHnthnS",
        "outputId": "81379984-2256-4bf8-a634-f308d4e15b8b"
      },
      "source": [
        "#produit matricielle\n",
        "A.dot(B)"
      ],
      "execution_count": null,
      "outputs": [
        {
          "output_type": "execute_result",
          "data": {
            "text/plain": [
              "array([[5, 4],\n",
              "       [3, 4]])"
            ]
          },
          "metadata": {
            "tags": []
          },
          "execution_count": 38
        }
      ]
    },
    {
      "cell_type": "markdown",
      "metadata": {
        "id": "bZMXx_t3thnV"
      },
      "source": [
        "### Les fonctions mathématiques de base \n",
        "La plupart des méthodes numpy s'opérant sur des tableaux, elles partagent souvent l'argument `axis` où `axis=1` fait référence aux lignes et `axis=0` aux colonnes. "
      ]
    },
    {
      "cell_type": "code",
      "metadata": {
        "id": "esq-q_gNthnV",
        "outputId": "f1488976-364f-4bde-e2af-c1113306eca3"
      },
      "source": [
        "#min et max \n",
        "a = np.array([1.7,2.8,3])\n",
        "a.min(), a.max()"
      ],
      "execution_count": null,
      "outputs": [
        {
          "output_type": "execute_result",
          "data": {
            "text/plain": [
              "(1.7, 3.0)"
            ]
          },
          "metadata": {
            "tags": []
          },
          "execution_count": 39
        }
      ]
    },
    {
      "cell_type": "code",
      "metadata": {
        "id": "F5l8Ld3Sthnb",
        "outputId": "2a8b3d93-059a-4e1e-925a-e9b3c74f1c03"
      },
      "source": [
        "a.argmax(),a.argmin()"
      ],
      "execution_count": null,
      "outputs": [
        {
          "output_type": "execute_result",
          "data": {
            "text/plain": [
              "(2, 0)"
            ]
          },
          "metadata": {
            "tags": []
          },
          "execution_count": 40
        }
      ]
    },
    {
      "cell_type": "code",
      "metadata": {
        "id": "sRrAG-2Pthne",
        "outputId": "d80f5f30-48e9-418d-e883-7e044f10d767"
      },
      "source": [
        "#moyenne \n",
        "a.mean()"
      ],
      "execution_count": null,
      "outputs": [
        {
          "output_type": "execute_result",
          "data": {
            "text/plain": [
              "2.5"
            ]
          },
          "metadata": {
            "tags": []
          },
          "execution_count": 41
        }
      ]
    },
    {
      "cell_type": "code",
      "metadata": {
        "id": "WVrIxBK_thni",
        "outputId": "a6611844-8cc2-41b8-e389-1a186fa7ad85"
      },
      "source": [
        "#somme\n",
        "b=np.array([[1, 2], [3, 4]])\n",
        "b.sum(axis=0)"
      ],
      "execution_count": null,
      "outputs": [
        {
          "output_type": "execute_result",
          "data": {
            "text/plain": [
              "array([4, 6])"
            ]
          },
          "metadata": {
            "tags": []
          },
          "execution_count": 42
        }
      ]
    },
    {
      "cell_type": "code",
      "metadata": {
        "id": "nlY90abCthnk",
        "outputId": "8a94763f-6954-422d-c399-aa3415855ad3"
      },
      "source": [
        "b.sum(axis=1)"
      ],
      "execution_count": null,
      "outputs": [
        {
          "output_type": "execute_result",
          "data": {
            "text/plain": [
              "array([3, 7])"
            ]
          },
          "metadata": {
            "tags": []
          },
          "execution_count": 43
        }
      ]
    },
    {
      "cell_type": "code",
      "metadata": {
        "id": "DWYyPM4bthnq",
        "outputId": "38489ba4-5669-4021-9635-39c3dde435c1"
      },
      "source": [
        "#somme cumulée\n",
        "np.array([1,2,3,4]).cumsum() "
      ],
      "execution_count": null,
      "outputs": [
        {
          "output_type": "execute_result",
          "data": {
            "text/plain": [
              "array([ 1,  3,  6, 10], dtype=int32)"
            ]
          },
          "metadata": {
            "tags": []
          },
          "execution_count": 44
        }
      ]
    },
    {
      "cell_type": "code",
      "metadata": {
        "id": "lr2tIructhnt",
        "outputId": "4d88befa-77bf-416d-c607-13dc04ab4efd"
      },
      "source": [
        "b.cumsum(axis=1)"
      ],
      "execution_count": null,
      "outputs": [
        {
          "output_type": "execute_result",
          "data": {
            "text/plain": [
              "array([[1, 3],\n",
              "       [3, 7]], dtype=int32)"
            ]
          },
          "metadata": {
            "tags": []
          },
          "execution_count": 45
        }
      ]
    },
    {
      "cell_type": "code",
      "metadata": {
        "id": "RtihTKwethnw",
        "outputId": "ddbc5c3e-da5a-4f14-9016-f45992dfa323"
      },
      "source": [
        "#position du max\n",
        "np.argmax(b,axis=1)"
      ],
      "execution_count": null,
      "outputs": [
        {
          "output_type": "execute_result",
          "data": {
            "text/plain": [
              "array([1, 1], dtype=int64)"
            ]
          },
          "metadata": {
            "tags": []
          },
          "execution_count": 46
        }
      ]
    },
    {
      "cell_type": "markdown",
      "metadata": {
        "id": "dND0PVk-thny"
      },
      "source": [
        "#### Plus de fonctions mathématiques \n",
        "- `np.exp`, `np.log` : exponentielle, logarithme (base e)\n",
        "- `np.log10` : logarithme en base 10\n",
        "- `np.sqrt` : racine carrée\n",
        "- `np.square` : carrés\n",
        "- `np.sin`, `np.cos` et `np.tan` : les fonctions trigonométriques classiques, avec un argument en radians\n",
        "- [Encore pleins de choses](https://docs.scipy.org/doc/numpy-1.13.0/reference/routines.math.html) 👀"
      ]
    },
    {
      "cell_type": "markdown",
      "metadata": {
        "id": "oQWEJjM4thny"
      },
      "source": [
        "## <a id=\"functions\">Les fonctions principales de la librairie </a>"
      ]
    },
    {
      "cell_type": "code",
      "metadata": {
        "id": "UhoX06aIthny",
        "outputId": "b5248541-bf20-45b9-8e93-984f48df86ec"
      },
      "source": [
        "np.arange(10)"
      ],
      "execution_count": null,
      "outputs": [
        {
          "output_type": "execute_result",
          "data": {
            "text/plain": [
              "array([0, 1, 2, 3, 4, 5, 6, 7, 8, 9])"
            ]
          },
          "metadata": {
            "tags": []
          },
          "execution_count": 47
        }
      ]
    },
    {
      "cell_type": "code",
      "metadata": {
        "id": "SEePGMtsthn1",
        "outputId": "6cc58095-5741-46f9-c243-af469885a0e1"
      },
      "source": [
        "np.arange( 0, 2, 0.3 )"
      ],
      "execution_count": null,
      "outputs": [
        {
          "output_type": "execute_result",
          "data": {
            "text/plain": [
              "array([0. , 0.3, 0.6, 0.9, 1.2, 1.5, 1.8])"
            ]
          },
          "metadata": {
            "tags": []
          },
          "execution_count": 48
        }
      ]
    },
    {
      "cell_type": "code",
      "metadata": {
        "scrolled": true,
        "id": "i4fawGiithn3",
        "outputId": "60dc6bc9-32e9-448f-f4ce-75f0e280be39"
      },
      "source": [
        "np.arange(10).reshape(5,2)"
      ],
      "execution_count": null,
      "outputs": [
        {
          "output_type": "execute_result",
          "data": {
            "text/plain": [
              "array([[0, 1],\n",
              "       [2, 3],\n",
              "       [4, 5],\n",
              "       [6, 7],\n",
              "       [8, 9]])"
            ]
          },
          "metadata": {
            "tags": []
          },
          "execution_count": 49
        }
      ]
    },
    {
      "cell_type": "code",
      "metadata": {
        "id": "vg_rmjE2thn7",
        "outputId": "6f4bf719-1447-4a29-bafe-ef0b37b9bda7"
      },
      "source": [
        "#permet de construire des array répétés :\n",
        "np.tile(7, 3)"
      ],
      "execution_count": null,
      "outputs": [
        {
          "output_type": "execute_result",
          "data": {
            "text/plain": [
              "array([7, 7, 7])"
            ]
          },
          "metadata": {
            "tags": []
          },
          "execution_count": 50
        }
      ]
    },
    {
      "cell_type": "code",
      "metadata": {
        "id": "LrXE_zTkthoA",
        "outputId": "aba78f36-7262-43da-eca6-a78abb19bed0"
      },
      "source": [
        "np.zeros((3,4))"
      ],
      "execution_count": null,
      "outputs": [
        {
          "output_type": "execute_result",
          "data": {
            "text/plain": [
              "array([[0., 0., 0., 0.],\n",
              "       [0., 0., 0., 0.],\n",
              "       [0., 0., 0., 0.]])"
            ]
          },
          "metadata": {
            "tags": []
          },
          "execution_count": 51
        }
      ]
    },
    {
      "cell_type": "code",
      "metadata": {
        "id": "25cvO4UnthoH",
        "outputId": "68361918-b89a-418d-c5c4-e9818e584839"
      },
      "source": [
        "np.ones((2,3,4), dtype='int8')"
      ],
      "execution_count": null,
      "outputs": [
        {
          "output_type": "execute_result",
          "data": {
            "text/plain": [
              "array([[[1, 1, 1, 1],\n",
              "        [1, 1, 1, 1],\n",
              "        [1, 1, 1, 1]],\n",
              "\n",
              "       [[1, 1, 1, 1],\n",
              "        [1, 1, 1, 1],\n",
              "        [1, 1, 1, 1]]], dtype=int8)"
            ]
          },
          "metadata": {
            "tags": []
          },
          "execution_count": 52
        }
      ]
    },
    {
      "cell_type": "code",
      "metadata": {
        "id": "Rr65WDVythoM",
        "outputId": "9cd1727a-9d53-4a31-a295-81ec23230605"
      },
      "source": [
        "#numpy.eye permet aussi de faire des diagonales autre que la diagonale principale \n",
        "np.eye(3, 3, 1)\n",
        "#avec numpy.eye(3, 3, -1), on aurait la sous-diagonale\n",
        "#avec numpy.eye(3, 3, 2), on aurait un 1 en haut à droite"
      ],
      "execution_count": null,
      "outputs": [
        {
          "output_type": "execute_result",
          "data": {
            "text/plain": [
              "array([[0., 1., 0.],\n",
              "       [0., 0., 1.],\n",
              "       [0., 0., 0.]])"
            ]
          },
          "metadata": {
            "tags": []
          },
          "execution_count": 53
        }
      ]
    },
    {
      "cell_type": "code",
      "metadata": {
        "id": "IbWsmFnvthoV",
        "outputId": "c83a173d-c1bf-44e4-f039-a0b867b4029d"
      },
      "source": [
        "np.diag(np.array([1, 4])) #crée une matrice diagonale avec la diagonale indiquée en array "
      ],
      "execution_count": null,
      "outputs": [
        {
          "output_type": "execute_result",
          "data": {
            "text/plain": [
              "array([[1, 0],\n",
              "       [0, 4]])"
            ]
          },
          "metadata": {
            "tags": []
          },
          "execution_count": 54
        }
      ]
    },
    {
      "cell_type": "code",
      "metadata": {
        "id": "uYgWrzGsthoX",
        "outputId": "c9dde234-5528-46d6-c735-d0759e3b8a7f"
      },
      "source": [
        "np.linspace(0, 2, 9)"
      ],
      "execution_count": null,
      "outputs": [
        {
          "output_type": "execute_result",
          "data": {
            "text/plain": [
              "array([0.  , 0.25, 0.5 , 0.75, 1.  , 1.25, 1.5 , 1.75, 2.  ])"
            ]
          },
          "metadata": {
            "tags": []
          },
          "execution_count": 55
        }
      ]
    },
    {
      "cell_type": "code",
      "metadata": {
        "id": "Xvz3r-Lnthoc",
        "outputId": "53b29ad4-2796-4561-8e90-9e4c35e933a8"
      },
      "source": [
        "x = np.linspace(0, 2*np.pi, 100)\n",
        "#exemple avec la fonction sinus\n",
        "f = lambda x : np.sin(x)\n",
        "f(x)"
      ],
      "execution_count": null,
      "outputs": [
        {
          "output_type": "execute_result",
          "data": {
            "text/plain": [
              "array([ 0.00000000e+00,  6.34239197e-02,  1.26592454e-01,  1.89251244e-01,\n",
              "        2.51147987e-01,  3.12033446e-01,  3.71662456e-01,  4.29794912e-01,\n",
              "        4.86196736e-01,  5.40640817e-01,  5.92907929e-01,  6.42787610e-01,\n",
              "        6.90079011e-01,  7.34591709e-01,  7.76146464e-01,  8.14575952e-01,\n",
              "        8.49725430e-01,  8.81453363e-01,  9.09631995e-01,  9.34147860e-01,\n",
              "        9.54902241e-01,  9.71811568e-01,  9.84807753e-01,  9.93838464e-01,\n",
              "        9.98867339e-01,  9.99874128e-01,  9.96854776e-01,  9.89821442e-01,\n",
              "        9.78802446e-01,  9.63842159e-01,  9.45000819e-01,  9.22354294e-01,\n",
              "        8.95993774e-01,  8.66025404e-01,  8.32569855e-01,  7.95761841e-01,\n",
              "        7.55749574e-01,  7.12694171e-01,  6.66769001e-01,  6.18158986e-01,\n",
              "        5.67059864e-01,  5.13677392e-01,  4.58226522e-01,  4.00930535e-01,\n",
              "        3.42020143e-01,  2.81732557e-01,  2.20310533e-01,  1.58001396e-01,\n",
              "        9.50560433e-02,  3.17279335e-02, -3.17279335e-02, -9.50560433e-02,\n",
              "       -1.58001396e-01, -2.20310533e-01, -2.81732557e-01, -3.42020143e-01,\n",
              "       -4.00930535e-01, -4.58226522e-01, -5.13677392e-01, -5.67059864e-01,\n",
              "       -6.18158986e-01, -6.66769001e-01, -7.12694171e-01, -7.55749574e-01,\n",
              "       -7.95761841e-01, -8.32569855e-01, -8.66025404e-01, -8.95993774e-01,\n",
              "       -9.22354294e-01, -9.45000819e-01, -9.63842159e-01, -9.78802446e-01,\n",
              "       -9.89821442e-01, -9.96854776e-01, -9.99874128e-01, -9.98867339e-01,\n",
              "       -9.93838464e-01, -9.84807753e-01, -9.71811568e-01, -9.54902241e-01,\n",
              "       -9.34147860e-01, -9.09631995e-01, -8.81453363e-01, -8.49725430e-01,\n",
              "       -8.14575952e-01, -7.76146464e-01, -7.34591709e-01, -6.90079011e-01,\n",
              "       -6.42787610e-01, -5.92907929e-01, -5.40640817e-01, -4.86196736e-01,\n",
              "       -4.29794912e-01, -3.71662456e-01, -3.12033446e-01, -2.51147987e-01,\n",
              "       -1.89251244e-01, -1.26592454e-01, -6.34239197e-02, -2.44929360e-16])"
            ]
          },
          "metadata": {
            "tags": []
          },
          "execution_count": 56
        }
      ]
    },
    {
      "cell_type": "markdown",
      "metadata": {
        "id": "Gwg1UeEpthoe"
      },
      "source": [
        "#### La copie et concaténation de tableaux avec `copy()` et `stack()`"
      ]
    },
    {
      "cell_type": "code",
      "metadata": {
        "id": "RXOwpOE9thog"
      },
      "source": [
        "#copy \n",
        "cop = x.copy()"
      ],
      "execution_count": null,
      "outputs": []
    },
    {
      "cell_type": "code",
      "metadata": {
        "id": "PweYc0BJthoh",
        "outputId": "ab378f4a-5948-4e7a-fdb2-7b7afb9d443f"
      },
      "source": [
        "#concatenation \n",
        "np.stack([x[0:10],x[-10:]])"
      ],
      "execution_count": null,
      "outputs": [
        {
          "output_type": "execute_result",
          "data": {
            "text/plain": [
              "array([[0.        , 0.06346652, 0.12693304, 0.19039955, 0.25386607,\n",
              "        0.31733259, 0.38079911, 0.44426563, 0.50773215, 0.57119866],\n",
              "       [5.71198664, 5.77545316, 5.83891968, 5.9023862 , 5.96585272,\n",
              "        6.02931923, 6.09278575, 6.15625227, 6.21971879, 6.28318531]])"
            ]
          },
          "metadata": {
            "tags": []
          },
          "execution_count": 58
        }
      ]
    },
    {
      "cell_type": "markdown",
      "metadata": {
        "id": "CsTnwRCSthoj"
      },
      "source": [
        "### La génération de nombre aléatoire \n",
        "\n",
        "La production de nombre aléatoire est un vaste sujet, je vous renvoie à l'excellent [article wikipedia](https://fr.wikipedia.org/wiki/Générateur_de_nombres_aléatoires) sur les générateurs de nombre aléatoire. On utilisera comme générateur de nombre aléatoire [numpy.random](https://docs.scipy.org/doc/numpy-1.15.0/reference/routines.random.html) 🤓\n"
      ]
    },
    {
      "cell_type": "code",
      "metadata": {
        "id": "-cAnzdWYthok",
        "outputId": "e7666893-ebd0-451d-9cf4-c0358e7262d9"
      },
      "source": [
        "rd = np.random\n",
        "#array 1d de 4 nombres d'une distribution gaussienne normalisée\n",
        "rd.rand(4)"
      ],
      "execution_count": null,
      "outputs": [
        {
          "output_type": "execute_result",
          "data": {
            "text/plain": [
              "array([0.61438786, 0.91253404, 0.13496974, 0.81508519])"
            ]
          },
          "metadata": {
            "tags": []
          },
          "execution_count": 59
        }
      ]
    },
    {
      "cell_type": "code",
      "metadata": {
        "id": "MEZozWWcthom",
        "outputId": "970d5569-de58-4f0e-f5dc-5a20944b237b"
      },
      "source": [
        "#array 2d de 4 x 2 nombres d'une distribution gaussienne standard\n",
        "rd.randn(4,2)"
      ],
      "execution_count": null,
      "outputs": [
        {
          "output_type": "execute_result",
          "data": {
            "text/plain": [
              "array([[ 0.0537792 ,  1.06549928],\n",
              "       [-1.76982395,  0.88402037],\n",
              "       [ 0.43927112,  0.25510008],\n",
              "       [-0.5763851 , -0.13300346]])"
            ]
          },
          "metadata": {
            "tags": []
          },
          "execution_count": 60
        }
      ]
    },
    {
      "cell_type": "code",
      "metadata": {
        "id": "E1yXRNOpthon",
        "outputId": "4d0e3833-b9e1-4356-95ff-7f0dd03a08dc"
      },
      "source": [
        "#array 1d de 10 nombres entiers entre 1 et 5, 5 exclus\n",
        "rd.randint(0,5,10)"
      ],
      "execution_count": null,
      "outputs": [
        {
          "output_type": "execute_result",
          "data": {
            "text/plain": [
              "array([2, 2, 0, 1, 2, 1, 1, 1, 2, 0])"
            ]
          },
          "metadata": {
            "tags": []
          },
          "execution_count": 61
        }
      ]
    },
    {
      "cell_type": "code",
      "metadata": {
        "id": "wmaeGJLIthoq",
        "outputId": "0c70891e-b7d3-4445-8c95-563d6f7c8f7b"
      },
      "source": [
        "#renvoie 4 valeurs aléatoires dans l'intervalle [0;1[ \n",
        "rd.ranf(4)"
      ],
      "execution_count": null,
      "outputs": [
        {
          "output_type": "execute_result",
          "data": {
            "text/plain": [
              "array([0.29876581, 0.54563206, 0.61221037, 0.83226819])"
            ]
          },
          "metadata": {
            "tags": []
          },
          "execution_count": 62
        }
      ]
    },
    {
      "cell_type": "markdown",
      "metadata": {
        "id": "qAnzP08rthow"
      },
      "source": [
        "## <a id=\"stats\">Les statistiques de base</a>\n",
        "\n",
        "La statistique est une branche des mathématiques qui consiste à étudier des phénomènes par la collecte de données, leur traitement, leur analyse, l'interprétation des résultats et leur présentation afin de rendre les données compréhensibles par tous. C'est à la fois une science, une méthode et un ensemble de techniques.\n",
        "Comme beaucoup de Sciences, elle possède une composante théorique ainsi qu'une composante appliquée. La composante théorique s'appuie sur la théorie des probabilités et forme avec cette dernière, les sciences de l'aléatoire. La statistique appliquée est utilisée dans presque tous les domaines aujourd'hui : ingénierie, management, économie, politique, biologie, informatique, etc. \n",
        "Définition de [wikipedia](https://fr.wikipedia.org/wiki/Statistique)\n",
        "\n",
        "**« Parmi les thèmes à propos desquels les statisticiens ne sont pas d'accord, se trouve la définition de leur science.»**\n",
        ", *Maurice Kendall* \n",
        "\n",
        "Avant de se lancer nous devons fixer quelques mots de vocabulaire. En effet, il est nécessaire de bien formaliser notre vocabulaire au début afin de ne pas se retrouver bloqué sur des \"*termes techniques*\".\n",
        "\n",
        "\n",
        "### Vocabulaire \n",
        "\n",
        "\n",
        "#### La population et les individus  \n",
        "La population est l’ensemble des individus (ou un individu est une unité statistique) auxquels on décide de sintériser. Sa taille, habituellement désignée par `N`, est grande, ou même infinie. Le choix de la population étudiée dépend du problème qui est à l’origine de la démarche statistique, et de la façon dont on décide de le traiter.\n",
        "Définition de [wikipedia](https://fr.wikipedia.org/wiki/Population).\n",
        "\n",
        "\n",
        "#### Statistique   \n",
        "Une statistique est un nombre, un chiffre calculé à partir d’une population dans l'optique de rendre compte d'un certain aspect de cette même population est une statistique. La moyenne et la variance sont des statistiques. \n",
        "\n",
        "\n",
        "#### Les variables \n",
        "\n",
        "Dans les mathématiques supérieures et en logique, une variable est un symbole représentant, a priori, un objet indéterminé. On peut cependant ajouter des conditions sur cet objet, tel que l'ensemble ou la collection le contenant. On peut alors utiliser une variable pour marquer un rôle dans un prédicat, une formule ou un algorithme, ou bien résoudre des équations et d'autres problèmes. En statistique une variable peut aussi représenter une qualité. Elle peut être quantitative ou qualitative.\n",
        "Définition de [wikipedia](https://fr.wikipedia.org/wiki/Variable_(mathématiques)).\n",
        "\n",
        "* Une variable **quantitative** est une variable Ce lien renvoie vers une page d'homonymie qui reflète une notion de grandeur, c'est-à-dire si les valeurs qu'elle peut prendre sont des nombres. Une grandeur quantitative est souvent exprimée avec une unité de mesure qui sert de référence. Définition de [wikipedia](https://fr.wikipedia.org/wiki/Variable_quantitative).\n",
        "\n",
        "* Une variable **qualitative**, une variable catégorielle, ou bien un facteur est une variable qui prend pour valeur des modalités, des catégories ou bien des niveaux, par opposition aux variables quantitatives qui mesurent sur chaque individu une quantité. Définition de [wikipedia](https://fr.wikipedia.org/wiki/Variable_catégorielle).\n",
        "\n",
        "\n",
        "#### Médiane \n",
        "En théorie des probabilités et en statistiques, la médiane d'un ensemble de valeurs (échantillon, population, distribution de probabilités) est une valeur x qui permet de couper l'ensemble des valeurs en deux parties égales : mettant d'un côté une moitié des valeurs, qui sont toutes inférieures ou égales à x et de l'autre côté l'autre moitié des valeurs, qui sont toutes supérieures ou égales à x (s'il y a un nombre impair de valeurs, la valeur centrale sera mise des deux côtés). Définition de [wikipedia](https://fr.wikipedia.org/wiki/Médiane_(statistiques)).\n",
        "\n",
        "#### Quantiles\n",
        "En statistiques et en théorie des probabilités, les quantiles sont les valeurs qui divisent un jeu de données en intervalles contenant le même nombre de données. Définition de [wikipedia](https://fr.wikipedia.org/wiki/Quantile).\n",
        "\n",
        "\n",
        "#### La variance $V(X)$ et sa racine carrée, l’écart-type $\\sigma(X)$ \n",
        "En statistique et en théorie des probabilités, la variance est une mesure de la dispersion des valeurs d'un échantillon ou d'une distribution de probabilité. L’écart-type est sa racine carrée, il est souvent noté $\\sigma$ *(la lettre grec sigma)*. Ce sont des statistiques de dispersion. On appelle $\\sigma(X)$ la variance du vecteur $X=(x_1,...,x_i,...x_n)$ elle s'écrit de la façon suivante : \n",
        "\n",
        "$${\\sigma(X)}=\\frac1n\\sum_{i=1}^n(x_i-m)^2$$\n",
        "\n",
        "Définition de [wikipedia](https://fr.wikipedia.org/wiki/Variance_(mathématiques)).\n",
        "Elle se calcule avec la fonction `std(X)`.\n",
        "\n",
        "\n",
        "#### Espérance mathématique\n",
        "En théorie des probabilités, l'espérance mathématique d'une variable aléatoire réelle est, intuitivement, la valeur que l'on s'attend à trouver, en moyenne, si l'on répète un grand nombre de fois la même expérience aléatoire. Elle se note pour une variable X : $$\\operatorname {E}(X)$$\n",
        "\n",
        "Définition de [wikipedia](https://fr.wikipedia.org/wiki/Espérance_mathématique). \n",
        "Elle se calcule avec la fonction `mean(X)`.\n",
        "\n",
        "\n",
        "#### La covariance \n",
        "La covariance entre deux variables $X$ et $Y$ est un nombre (une statistique) permettant de quantifier leurs écarts conjoints par rapport à leurs espérances respectives. Elle s'écrit $\\operatorname {cov}(X,Y)$\n",
        "\n",
        "$$\\operatorname {cov}(X,Y)\\equiv \\operatorname {E}[(X-\\operatorname {E}[X])\\,(Y-\\operatorname {E}[Y])]$$\n",
        "\n",
        "Définition de [wikipedia](https://fr.wikipedia.org/wiki/Covariance).\n",
        "Elle se calcule avec la fonction `cov(X,Y)`.\n",
        "\n",
        "#### La corrélation \n",
        "En probabilités et en statistique, la corrélation entre plusieurs variables aléatoires ou statistiques est une notion de liaison qui contredit leur indépendance.\n",
        "\n",
        "Elle s'écrit tel que : \n",
        "\n",
        "$$cor(X, X) = \\frac{cov(X, Y)}{\\sigma(X)\\sigma(X)}$$\n",
        "\n",
        "Définition de [wikipedia](https://fr.wikipedia.org/wiki/Corrélation_(statistiques)).\n",
        "Elle se calcule avec la fonction `correlate(X,Y)`. "
      ]
    },
    {
      "cell_type": "markdown",
      "metadata": {
        "id": "zxsB2Bkathox"
      },
      "source": [
        "## Ressources en +\n",
        "\n",
        "- La [documentation officielle](https://docs.scipy.org/doc/numpy-1.13.0/reference/) \n",
        "- Le cours très complet des écoles [EPFL-ENAC](https://enacit.epfl.ch/cours/python/scientifique/numpy.html)\n",
        "- Portail wikipedia des mathématiques [ici](https://fr.wikipedia.org/wiki/Portail:Mathématiques) \n",
        "- Résumé synthétique wiki sur les statistiques de base avec Numpy [ici](https://fr.wikibooks.org/wiki/Python_pour_le_calcul_scientifique/Statistiques) "
      ]
    },
    {
      "cell_type": "code",
      "metadata": {
        "id": "3SjgBYbLthox"
      },
      "source": [
        ""
      ],
      "execution_count": null,
      "outputs": []
    }
  ]
}