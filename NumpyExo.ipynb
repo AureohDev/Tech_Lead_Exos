{
  "nbformat": 4,
  "nbformat_minor": 0,
  "metadata": {
    "kernelspec": {
      "display_name": "Python 3",
      "language": "python",
      "name": "python3"
    },
    "language_info": {
      "codemirror_mode": {
        "name": "ipython",
        "version": 3
      },
      "file_extension": ".py",
      "mimetype": "text/x-python",
      "name": "python",
      "nbconvert_exporter": "python",
      "pygments_lexer": "ipython3",
      "version": "3.8.3"
    },
    "colab": {
      "name": "NumpyExo.ipynb",
      "provenance": [],
      "include_colab_link": true
    }
  },
  "cells": [
    {
      "cell_type": "markdown",
      "metadata": {
        "id": "view-in-github",
        "colab_type": "text"
      },
      "source": [
        "<a href=\"https://colab.research.google.com/github/AureohDev/Tech_Lead_Exos/blob/main/NumpyExo.ipynb\" target=\"_parent\"><img src=\"https://colab.research.google.com/assets/colab-badge.svg\" alt=\"Open In Colab\"/></a>"
      ]
    },
    {
      "cell_type": "markdown",
      "metadata": {
        "id": "PvlyyWx9tyLB"
      },
      "source": [
        "# Numpy exercices pratiques\n",
        "Ce notebook à pour objectif de vous faire pratiquer numpy dans toute sa généralité. \n",
        "Vous avez donc une liste de questions à faire ! Il ne faut pas hésiter à faire des recherches sur google ainsi que voir la [documentation officielle](https://docs.scipy.org/doc/numpy-1.13.0/reference/). "
      ]
    },
    {
      "cell_type": "markdown",
      "metadata": {
        "id": "rtSrmHUxtyLC"
      },
      "source": [
        "#### Q1 : Importer le package numpy "
      ]
    },
    {
      "cell_type": "code",
      "metadata": {
        "id": "pT7YYrZHtyLD"
      },
      "source": [
        ""
      ],
      "execution_count": null,
      "outputs": []
    },
    {
      "cell_type": "markdown",
      "metadata": {
        "id": "yCK8Mn5ttyLG"
      },
      "source": [
        "#### Q2 : Afficher la version de numpy et la configuration "
      ]
    },
    {
      "cell_type": "code",
      "metadata": {
        "id": "_GceWlVvtyLH"
      },
      "source": [
        ""
      ],
      "execution_count": null,
      "outputs": []
    },
    {
      "cell_type": "markdown",
      "metadata": {
        "id": "-3zjoqu5tyLJ"
      },
      "source": [
        "#### Q3 : Créer un vecteur nul de taille 10"
      ]
    },
    {
      "cell_type": "code",
      "metadata": {
        "id": "O7uEx0gEtyLK"
      },
      "source": [
        ""
      ],
      "execution_count": null,
      "outputs": []
    },
    {
      "cell_type": "markdown",
      "metadata": {
        "id": "XJf-tY5htyLN"
      },
      "source": [
        "#### Q4 : Créer un vecteur null de taille 10 et affecter la valeur 1 à la 4ème place (index 4) du vecteur"
      ]
    },
    {
      "cell_type": "code",
      "metadata": {
        "id": "m-jP_n8DtyLO"
      },
      "source": [
        ""
      ],
      "execution_count": null,
      "outputs": []
    },
    {
      "cell_type": "markdown",
      "metadata": {
        "id": "E9XCHxpftyLQ"
      },
      "source": [
        "#### Q5 : Créer un vecteur Z de 40 valeurs allant de 10 à 50 "
      ]
    },
    {
      "cell_type": "code",
      "metadata": {
        "id": "JsVsTLyetyLR"
      },
      "source": [
        ""
      ],
      "execution_count": null,
      "outputs": []
    },
    {
      "cell_type": "markdown",
      "metadata": {
        "id": "b9bdwDhgtyLT"
      },
      "source": [
        "#### Q6 : Inverser Z (le premier élément devient donc le dernier)"
      ]
    },
    {
      "cell_type": "code",
      "metadata": {
        "id": "g5hFyINmtyLU"
      },
      "source": [
        ""
      ],
      "execution_count": null,
      "outputs": []
    },
    {
      "cell_type": "markdown",
      "metadata": {
        "id": "DJ7GfQ7ZtyLW"
      },
      "source": [
        "#### Q7 : Créer une matrice 3x3 avec des valeurs comprise entre 0 et 8 "
      ]
    },
    {
      "cell_type": "code",
      "metadata": {
        "id": "G-ZfBnSmtyLX"
      },
      "source": [
        ""
      ],
      "execution_count": null,
      "outputs": []
    },
    {
      "cell_type": "markdown",
      "metadata": {
        "id": "lmyfwbSYtyLZ"
      },
      "source": [
        "#### Q8 : Créer une matrice identié 3x3 "
      ]
    },
    {
      "cell_type": "code",
      "metadata": {
        "id": "0Ug4go24tyLb"
      },
      "source": [
        ""
      ],
      "execution_count": null,
      "outputs": []
    },
    {
      "cell_type": "markdown",
      "metadata": {
        "id": "eYajgvcttyLe"
      },
      "source": [
        "#### Q9 : Créer une matrice 3x3x3 avec des valeurs random "
      ]
    },
    {
      "cell_type": "code",
      "metadata": {
        "id": "BId6W1DmtyLf"
      },
      "source": [
        ""
      ],
      "execution_count": null,
      "outputs": []
    },
    {
      "cell_type": "markdown",
      "metadata": {
        "id": "xLengvKOtyLi"
      },
      "source": [
        "#### Q10 : Créer une matrice 10x10 avec des valeurs random et afficher le minimum et maximum de cette matrice"
      ]
    },
    {
      "cell_type": "code",
      "metadata": {
        "id": "gZT8DuNktyLj"
      },
      "source": [
        ""
      ],
      "execution_count": null,
      "outputs": []
    },
    {
      "cell_type": "markdown",
      "metadata": {
        "id": "DlbMYRvNtyLl"
      },
      "source": [
        "#### Q11 : Créer une matrice 5x5 avec les valeurs 1,2,3,4 en dessous de la diagonale "
      ]
    },
    {
      "cell_type": "code",
      "metadata": {
        "id": "GzXI-bNstyLl"
      },
      "source": [
        ""
      ],
      "execution_count": null,
      "outputs": []
    },
    {
      "cell_type": "markdown",
      "metadata": {
        "id": "AVXhYuj8tyLo"
      },
      "source": [
        "#### Q12 : Créer une liste random de taille 5 et donner la somme de ses éléments  "
      ]
    },
    {
      "cell_type": "code",
      "metadata": {
        "id": "RV8hwFfwtyLo"
      },
      "source": [
        ""
      ],
      "execution_count": null,
      "outputs": []
    },
    {
      "cell_type": "markdown",
      "metadata": {
        "id": "aCsWIiiXtyLr"
      },
      "source": [
        "#### Q13 : Créer une liste random de taille 5 et donner la moyenne de ses éléments"
      ]
    },
    {
      "cell_type": "code",
      "metadata": {
        "id": "6rXTw-kftyLs"
      },
      "source": [
        ""
      ],
      "execution_count": null,
      "outputs": []
    },
    {
      "cell_type": "markdown",
      "metadata": {
        "id": "g8F3HMGXtyLu"
      },
      "source": [
        "#### Q14 : En utilisant une fonction, donner la taille de la liste suivante :\n",
        "```python \n",
        "l = [x for x in range(11)]\n",
        "```"
      ]
    },
    {
      "cell_type": "code",
      "metadata": {
        "id": "tGN2RZwVtyLv"
      },
      "source": [
        ""
      ],
      "execution_count": null,
      "outputs": []
    },
    {
      "cell_type": "markdown",
      "metadata": {
        "id": "RSvgDld6tyLx"
      },
      "source": [
        "#### Q15 : Créer un tableau de taille 10 avec des valeurs comprises entre 0 et 1 EXCLUS "
      ]
    },
    {
      "cell_type": "code",
      "metadata": {
        "id": "vKts--JrtyLx"
      },
      "source": [
        ""
      ],
      "execution_count": null,
      "outputs": []
    },
    {
      "cell_type": "markdown",
      "metadata": {
        "id": "au0nThe4tyL1"
      },
      "source": [
        "#### Q16 : Soit deux tableau A et B de dimension 1 et de taille 5, créer A et B et afficher True si A et B sont égaux False sinon"
      ]
    },
    {
      "cell_type": "code",
      "metadata": {
        "id": "KJCY4FUktyL1"
      },
      "source": [
        ""
      ],
      "execution_count": null,
      "outputs": []
    },
    {
      "cell_type": "markdown",
      "metadata": {
        "id": "SIWb3HKutyL3"
      },
      "source": [
        "#### Q17 : Convertir un tableau de float32 de dimension 1 et de taille 10 en un tableau de meme taille et dimension mais de type int32"
      ]
    },
    {
      "cell_type": "code",
      "metadata": {
        "id": "nj1dbfcotyL3"
      },
      "source": [
        ""
      ],
      "execution_count": null,
      "outputs": []
    },
    {
      "cell_type": "markdown",
      "metadata": {
        "id": "8A_J7vxFtyL5"
      },
      "source": [
        "#### Q18 : Normaliser une matrice random 5x5 \n",
        "La normalisation d'un nombre X consiste à lui retirer sa moyenne et a diviser le tout par son écart type "
      ]
    },
    {
      "cell_type": "code",
      "metadata": {
        "id": "wwOg6q-atyL6"
      },
      "source": [
        ""
      ],
      "execution_count": null,
      "outputs": []
    },
    {
      "cell_type": "markdown",
      "metadata": {
        "id": "UPMvSiB8tyL9"
      },
      "source": [
        "#### Q19 : Créer une matrice random `M` 2x2 et donner sa transposer \n",
        "L'opération de transposition dans une matrice consiste à échanger les lignes et le colonnes. "
      ]
    },
    {
      "cell_type": "code",
      "metadata": {
        "id": "Bv-BkFSOtyL-"
      },
      "source": [
        ""
      ],
      "execution_count": null,
      "outputs": []
    },
    {
      "cell_type": "markdown",
      "metadata": {
        "id": "-DSBwsCGtyMC"
      },
      "source": [
        "#### Q20 : Écrire un petit script qui remplace un élément au hasard dans une matrice de dimension NxN"
      ]
    },
    {
      "cell_type": "code",
      "metadata": {
        "id": "ZDGeNXEAtyMD"
      },
      "source": [
        ""
      ],
      "execution_count": null,
      "outputs": []
    },
    {
      "cell_type": "markdown",
      "metadata": {
        "id": "jjY2zUaTtyMG"
      },
      "source": [
        "#### Q21 : Considérons une matrice de dimension (5,5,3), écrire un script qui multiplie cette matrice par une matrice de dimension (5,5)"
      ]
    },
    {
      "cell_type": "code",
      "metadata": {
        "id": "BSv8xYpntyMG"
      },
      "source": [
        ""
      ],
      "execution_count": null,
      "outputs": []
    }
  ]
}