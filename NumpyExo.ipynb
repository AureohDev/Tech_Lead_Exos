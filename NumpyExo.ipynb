{
  "nbformat": 4,
  "nbformat_minor": 0,
  "metadata": {
    "kernelspec": {
      "display_name": "Python 3",
      "language": "python",
      "name": "python3"
    },
    "language_info": {
      "codemirror_mode": {
        "name": "ipython",
        "version": 3
      },
      "file_extension": ".py",
      "mimetype": "text/x-python",
      "name": "python",
      "nbconvert_exporter": "python",
      "pygments_lexer": "ipython3",
      "version": "3.8.3"
    },
    "colab": {
      "name": "NumpyExo.ipynb",
      "provenance": [],
      "include_colab_link": true
    }
  },
  "cells": [
    {
      "cell_type": "markdown",
      "metadata": {
        "id": "view-in-github",
        "colab_type": "text"
      },
      "source": [
        "<a href=\"https://colab.research.google.com/github/AureohDev/Tech_Lead_Exos/blob/main/NumpyExo.ipynb\" target=\"_parent\"><img src=\"https://colab.research.google.com/assets/colab-badge.svg\" alt=\"Open In Colab\"/></a>"
      ]
    },
    {
      "cell_type": "markdown",
      "metadata": {
        "id": "PvlyyWx9tyLB"
      },
      "source": [
        "# Numpy exercices pratiques\n",
        "Ce notebook à pour objectif de vous faire pratiquer numpy dans toute sa généralité. \n",
        "Vous avez donc une liste de questions à faire ! Il ne faut pas hésiter à faire des recherches sur google ainsi que voir la [documentation officielle](https://docs.scipy.org/doc/numpy-1.13.0/reference/). "
      ]
    },
    {
      "cell_type": "markdown",
      "metadata": {
        "id": "rtSrmHUxtyLC"
      },
      "source": [
        "#### Q1 : Importer le package numpy "
      ]
    },
    {
      "cell_type": "code",
      "metadata": {
        "id": "pT7YYrZHtyLD"
      },
      "source": [
        "import numpy as np"
      ],
      "execution_count": null,
      "outputs": []
    },
    {
      "cell_type": "markdown",
      "metadata": {
        "id": "yCK8Mn5ttyLG"
      },
      "source": [
        "#### Q2 : Afficher la version de numpy et la configuration "
      ]
    },
    {
      "cell_type": "code",
      "metadata": {
        "id": "_GceWlVvtyLH",
        "outputId": "7769c9cb-d105-45ed-e5c2-6f412e8013f5",
        "colab": {
          "base_uri": "https://localhost:8080/",
          "height": 35
        }
      },
      "source": [
        "import numpy as np\n",
        "\n",
        "np.version.version"
      ],
      "execution_count": null,
      "outputs": [
        {
          "output_type": "execute_result",
          "data": {
            "application/vnd.google.colaboratory.intrinsic+json": {
              "type": "string"
            },
            "text/plain": [
              "'1.18.5'"
            ]
          },
          "metadata": {
            "tags": []
          },
          "execution_count": 3
        }
      ]
    },
    {
      "cell_type": "markdown",
      "metadata": {
        "id": "-3zjoqu5tyLJ"
      },
      "source": [
        "#### Q3 : Créer un vecteur nul de taille 10"
      ]
    },
    {
      "cell_type": "code",
      "metadata": {
        "id": "O7uEx0gEtyLK",
        "outputId": "68af055d-d4de-4130-ae9c-0a22530a21f9",
        "colab": {
          "base_uri": "https://localhost:8080/",
          "height": 34
        }
      },
      "source": [
        "import numpy as np\n",
        "\n",
        "np.zeros(10)"
      ],
      "execution_count": null,
      "outputs": [
        {
          "output_type": "execute_result",
          "data": {
            "text/plain": [
              "array([0., 0., 0., 0., 0., 0., 0., 0., 0., 0.])"
            ]
          },
          "metadata": {
            "tags": []
          },
          "execution_count": 4
        }
      ]
    },
    {
      "cell_type": "markdown",
      "metadata": {
        "id": "XJf-tY5htyLN"
      },
      "source": [
        "#### Q4 : Créer un vecteur null de taille 10 et affecter la valeur 1 à la 4ème place (index 4) du vecteur"
      ]
    },
    {
      "cell_type": "code",
      "metadata": {
        "id": "m-jP_n8DtyLO",
        "outputId": "52a3de08-21bb-4006-a13f-3180061166b4",
        "colab": {
          "base_uri": "https://localhost:8080/",
          "height": 34
        }
      },
      "source": [
        "import numpy as np\n",
        "\n",
        "vecteur = np.zeros(10)\n",
        "vecteur[4] = 1\n",
        "print(vecteur)"
      ],
      "execution_count": null,
      "outputs": [
        {
          "output_type": "stream",
          "text": [
            "[0. 0. 0. 1. 0. 0. 0. 0. 0. 0.]\n"
          ],
          "name": "stdout"
        }
      ]
    },
    {
      "cell_type": "markdown",
      "metadata": {
        "id": "E9XCHxpftyLQ"
      },
      "source": [
        "#### Q5 : Créer un vecteur Z de 40 valeurs allant de 10 à 50 "
      ]
    },
    {
      "cell_type": "code",
      "metadata": {
        "id": "JsVsTLyetyLR",
        "outputId": "fe20a583-7ad2-491b-b9af-b4d6127784f0",
        "colab": {
          "base_uri": "https://localhost:8080/",
          "height": 51
        }
      },
      "source": [
        "z = np.arange(10,51)\n",
        "print(z)"
      ],
      "execution_count": null,
      "outputs": [
        {
          "output_type": "stream",
          "text": [
            "[10 11 12 13 14 15 16 17 18 19 20 21 22 23 24 25 26 27 28 29 30 31 32 33\n",
            " 34 35 36 37 38 39 40 41 42 43 44 45 46 47 48 49 50]\n"
          ],
          "name": "stdout"
        }
      ]
    },
    {
      "cell_type": "markdown",
      "metadata": {
        "id": "b9bdwDhgtyLT"
      },
      "source": [
        "#### Q6 : Inverser Z (le premier élément devient donc le dernier)"
      ]
    },
    {
      "cell_type": "code",
      "metadata": {
        "id": "g5hFyINmtyLU",
        "outputId": "7ec80108-4db0-410e-cc96-3994d1ce913e",
        "colab": {
          "base_uri": "https://localhost:8080/",
          "height": 68
        }
      },
      "source": [
        "np.flip(z)"
      ],
      "execution_count": null,
      "outputs": [
        {
          "output_type": "execute_result",
          "data": {
            "text/plain": [
              "array([50, 49, 48, 47, 46, 45, 44, 43, 42, 41, 40, 39, 38, 37, 36, 35, 34,\n",
              "       33, 32, 31, 30, 29, 28, 27, 26, 25, 24, 23, 22, 21, 20, 19, 18, 17,\n",
              "       16, 15, 14, 13, 12, 11, 10])"
            ]
          },
          "metadata": {
            "tags": []
          },
          "execution_count": 21
        }
      ]
    },
    {
      "cell_type": "markdown",
      "metadata": {
        "id": "DJ7GfQ7ZtyLW"
      },
      "source": [
        "#### Q7 : Créer une matrice 3x3 avec des valeurs comprise entre 0 et 8 "
      ]
    },
    {
      "cell_type": "code",
      "metadata": {
        "id": "G-ZfBnSmtyLX",
        "outputId": "2efdcd67-7b88-4484-b5d6-f0a964a5b080",
        "colab": {
          "base_uri": "https://localhost:8080/",
          "height": 68
        }
      },
      "source": [
        "np.arange(9).reshape(3,3)"
      ],
      "execution_count": null,
      "outputs": [
        {
          "output_type": "execute_result",
          "data": {
            "text/plain": [
              "array([[0, 1, 2],\n",
              "       [3, 4, 5],\n",
              "       [6, 7, 8]])"
            ]
          },
          "metadata": {
            "tags": []
          },
          "execution_count": 22
        }
      ]
    },
    {
      "cell_type": "markdown",
      "metadata": {
        "id": "lmyfwbSYtyLZ"
      },
      "source": [
        "#### Q8 : Créer une matrice identié 3x3 "
      ]
    },
    {
      "cell_type": "code",
      "metadata": {
        "id": "0Ug4go24tyLb",
        "outputId": "87281dcd-e753-4f00-8ace-eb0043065ba2",
        "colab": {
          "base_uri": "https://localhost:8080/",
          "height": 68
        }
      },
      "source": [
        "np.eye(3)"
      ],
      "execution_count": null,
      "outputs": [
        {
          "output_type": "execute_result",
          "data": {
            "text/plain": [
              "array([[1., 0., 0.],\n",
              "       [0., 1., 0.],\n",
              "       [0., 0., 1.]])"
            ]
          },
          "metadata": {
            "tags": []
          },
          "execution_count": 23
        }
      ]
    },
    {
      "cell_type": "markdown",
      "metadata": {
        "id": "eYajgvcttyLe"
      },
      "source": [
        "#### Q9 : Créer une matrice 3x3x3 avec des valeurs random "
      ]
    },
    {
      "cell_type": "code",
      "metadata": {
        "id": "BId6W1DmtyLf",
        "outputId": "6f616c19-8472-40ca-d894-86178c303ac4",
        "colab": {
          "base_uri": "https://localhost:8080/",
          "height": 204
        }
      },
      "source": [
        "np.random.rand(3,3,3)"
      ],
      "execution_count": null,
      "outputs": [
        {
          "output_type": "execute_result",
          "data": {
            "text/plain": [
              "array([[[0.59138765, 0.46129841, 0.13418757],\n",
              "        [0.84455498, 0.37601916, 0.83043261],\n",
              "        [0.58979856, 0.77107387, 0.80081792]],\n",
              "\n",
              "       [[0.4835318 , 0.97868575, 0.92722321],\n",
              "        [0.1759344 , 0.69962934, 0.11995874],\n",
              "        [0.33960515, 0.13805484, 0.94583186]],\n",
              "\n",
              "       [[0.07140042, 0.17742296, 0.52259635],\n",
              "        [0.97959239, 0.13630952, 0.96925233],\n",
              "        [0.21557405, 0.23154138, 0.86620416]]])"
            ]
          },
          "metadata": {
            "tags": []
          },
          "execution_count": 24
        }
      ]
    },
    {
      "cell_type": "markdown",
      "metadata": {
        "id": "xLengvKOtyLi"
      },
      "source": [
        "#### Q10 : Créer une matrice 10x10 avec des valeurs random et afficher le minimum et maximum de cette matrice"
      ]
    },
    {
      "cell_type": "code",
      "metadata": {
        "id": "gZT8DuNktyLj",
        "outputId": "a970f536-cd5c-4275-87c2-28901afea0ad",
        "colab": {
          "base_uri": "https://localhost:8080/",
          "height": 34
        }
      },
      "source": [
        "matrice = np.random.rand(10,10)\n",
        "matrice.min(), matrice.max()"
      ],
      "execution_count": null,
      "outputs": [
        {
          "output_type": "execute_result",
          "data": {
            "text/plain": [
              "(0.008437021710715142, 0.9919675595526289)"
            ]
          },
          "metadata": {
            "tags": []
          },
          "execution_count": 26
        }
      ]
    },
    {
      "cell_type": "markdown",
      "metadata": {
        "id": "DlbMYRvNtyLl"
      },
      "source": [
        "#### Q11 : Créer une matrice 5x5 avec les valeurs 1,2,3,4 en dessous de la diagonale "
      ]
    },
    {
      "cell_type": "code",
      "metadata": {
        "id": "GzXI-bNstyLl"
      },
      "source": [
        ""
      ],
      "execution_count": null,
      "outputs": []
    },
    {
      "cell_type": "markdown",
      "metadata": {
        "id": "AVXhYuj8tyLo"
      },
      "source": [
        "#### Q12 : Créer une liste random de taille 5 et donner la somme de ses éléments  "
      ]
    },
    {
      "cell_type": "code",
      "metadata": {
        "id": "RV8hwFfwtyLo"
      },
      "source": [
        ""
      ],
      "execution_count": null,
      "outputs": []
    },
    {
      "cell_type": "markdown",
      "metadata": {
        "id": "aCsWIiiXtyLr"
      },
      "source": [
        "#### Q13 : Créer une liste random de taille 5 et donner la moyenne de ses éléments"
      ]
    },
    {
      "cell_type": "code",
      "metadata": {
        "id": "6rXTw-kftyLs"
      },
      "source": [
        ""
      ],
      "execution_count": null,
      "outputs": []
    },
    {
      "cell_type": "markdown",
      "metadata": {
        "id": "g8F3HMGXtyLu"
      },
      "source": [
        "#### Q14 : En utilisant une fonction, donner la taille de la liste suivante :\n",
        "```python \n",
        "l = [x for x in range(11)]\n",
        "```"
      ]
    },
    {
      "cell_type": "code",
      "metadata": {
        "id": "tGN2RZwVtyLv"
      },
      "source": [
        ""
      ],
      "execution_count": null,
      "outputs": []
    },
    {
      "cell_type": "markdown",
      "metadata": {
        "id": "RSvgDld6tyLx"
      },
      "source": [
        "#### Q15 : Créer un tableau de taille 10 avec des valeurs comprises entre 0 et 1 EXCLUS "
      ]
    },
    {
      "cell_type": "code",
      "metadata": {
        "id": "vKts--JrtyLx"
      },
      "source": [
        ""
      ],
      "execution_count": null,
      "outputs": []
    },
    {
      "cell_type": "markdown",
      "metadata": {
        "id": "au0nThe4tyL1"
      },
      "source": [
        "#### Q16 : Soit deux tableau A et B de dimension 1 et de taille 5, créer A et B et afficher True si A et B sont égaux False sinon"
      ]
    },
    {
      "cell_type": "code",
      "metadata": {
        "id": "KJCY4FUktyL1"
      },
      "source": [
        ""
      ],
      "execution_count": null,
      "outputs": []
    },
    {
      "cell_type": "markdown",
      "metadata": {
        "id": "SIWb3HKutyL3"
      },
      "source": [
        "#### Q17 : Convertir un tableau de float32 de dimension 1 et de taille 10 en un tableau de meme taille et dimension mais de type int32"
      ]
    },
    {
      "cell_type": "code",
      "metadata": {
        "id": "nj1dbfcotyL3"
      },
      "source": [
        ""
      ],
      "execution_count": null,
      "outputs": []
    },
    {
      "cell_type": "markdown",
      "metadata": {
        "id": "8A_J7vxFtyL5"
      },
      "source": [
        "#### Q18 : Normaliser une matrice random 5x5 \n",
        "La normalisation d'un nombre X consiste à lui retirer sa moyenne et a diviser le tout par son écart type "
      ]
    },
    {
      "cell_type": "code",
      "metadata": {
        "id": "wwOg6q-atyL6"
      },
      "source": [
        ""
      ],
      "execution_count": null,
      "outputs": []
    },
    {
      "cell_type": "markdown",
      "metadata": {
        "id": "UPMvSiB8tyL9"
      },
      "source": [
        "#### Q19 : Créer une matrice random `M` 2x2 et donner sa transposer \n",
        "L'opération de transposition dans une matrice consiste à échanger les lignes et le colonnes. "
      ]
    },
    {
      "cell_type": "code",
      "metadata": {
        "id": "Bv-BkFSOtyL-"
      },
      "source": [
        ""
      ],
      "execution_count": null,
      "outputs": []
    },
    {
      "cell_type": "markdown",
      "metadata": {
        "id": "-DSBwsCGtyMC"
      },
      "source": [
        "#### Q20 : Écrire un petit script qui remplace un élément au hasard dans une matrice de dimension NxN"
      ]
    },
    {
      "cell_type": "code",
      "metadata": {
        "id": "ZDGeNXEAtyMD"
      },
      "source": [
        ""
      ],
      "execution_count": null,
      "outputs": []
    },
    {
      "cell_type": "markdown",
      "metadata": {
        "id": "jjY2zUaTtyMG"
      },
      "source": [
        "#### Q21 : Considérons une matrice de dimension (5,5,3), écrire un script qui multiplie cette matrice par une matrice de dimension (5,5)"
      ]
    },
    {
      "cell_type": "code",
      "metadata": {
        "id": "BSv8xYpntyMG"
      },
      "source": [
        ""
      ],
      "execution_count": null,
      "outputs": []
    }
  ]
}