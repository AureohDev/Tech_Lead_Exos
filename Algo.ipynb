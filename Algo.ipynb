{
  "nbformat": 4,
  "nbformat_minor": 0,
  "metadata": {
    "colab": {
      "name": "Algo.ipynb",
      "provenance": [],
      "collapsed_sections": [],
      "authorship_tag": "ABX9TyMMaGewVYGhXIrqS79COizp",
      "include_colab_link": true
    },
    "kernelspec": {
      "name": "python3",
      "display_name": "Python 3"
    }
  },
  "cells": [
    {
      "cell_type": "markdown",
      "metadata": {
        "id": "view-in-github",
        "colab_type": "text"
      },
      "source": [
        "<a href=\"https://colab.research.google.com/github/AureohDev/Tech_Lead_Exos/blob/main/Algo.ipynb\" target=\"_parent\"><img src=\"https://colab.research.google.com/assets/colab-badge.svg\" alt=\"Open In Colab\"/></a>"
      ]
    },
    {
      "cell_type": "markdown",
      "metadata": {
        "id": "LF2xdI23Vpin"
      },
      "source": [
        "# Exercices Algorithmique\n",
        "\n",
        "## I. Bases \n",
        "\n",
        "### 1. Simple échange\n",
        "\n",
        "Ecrire un algorithme permettant d’´echanger les valeurs dedeux variables A et\n",
        "B.\n",
        "\n",
        "pseudo-code :\n",
        "\n",
        ">On demande la valeur de A.  \n",
        "On demande la valeur de B.   \n",
        "On initialise C. \n",
        "\n",
        ">C prends la valeur de A.    \n",
        "A prends la valeur de B.  \n",
        "B prends la valeur de C.  \n",
        "\n",
        ">On affiche la valeur de A.       \n",
        "On affiche la valeur de B.\n"
      ]
    },
    {
      "cell_type": "code",
      "metadata": {
        "id": "CPjXzt31W7yf"
      },
      "source": [
        "A = input('Valeur de A : ')\n",
        "B = input('Valeur de B : ')\n",
        "C = ''\n",
        "\n",
        "C = A\n",
        "A = B\n",
        "B = C\n",
        "\n",
        "print('A = '+A)\n",
        "print('B = '+B)"
      ],
      "execution_count": null,
      "outputs": []
    },
    {
      "cell_type": "markdown",
      "metadata": {
        "id": "Lu9X1xWg3EhC"
      },
      "source": [
        "### 2. Le carré\n",
        "\n",
        "Ecrire un programme qui demande un nombre à l’utilisateur, puis qui calcule et affiche le carré de ce nombre.\n",
        "\n",
        "pseudo-code :\n",
        "\n",
        ">On demande la valeur de X.   \n",
        "On multiplie la valeur de X par cette même valeur.   \n",
        "On affiche le résultat (valeur de X).\n"
      ]
    },
    {
      "cell_type": "code",
      "metadata": {
        "id": "p_TaECOl6Ast"
      },
      "source": [
        "X = input('Valeur de X : ')\n",
        "X = int(X)\n",
        "\n",
        "X = X * X\n",
        "\n",
        "print('X = '+ str(X))"
      ],
      "execution_count": null,
      "outputs": []
    },
    {
      "cell_type": "markdown",
      "metadata": {
        "id": "Z677S5VV_JaG"
      },
      "source": [
        "### 3. La condition\n",
        "\n",
        "Ecrire un algorithme qui demande un nombre à l’utilisateur, et l’informe ensuite si ce nombre est positif ou négatif (on laisse de côté le cas où le nombre vaut zéro).\n",
        "\n",
        "pseudo-code :\n",
        "\n",
        "> On demande la valeur de X.      \n",
        "Si la valeur de X est supérieur ou égale à 0. \n",
        "\n",
        ">> On affiche \"X est positif\".  \n",
        "\n",
        "> Sinon\n",
        "\n",
        ">> On a affiche \"X est négatif\".\n",
        "\n"
      ]
    },
    {
      "cell_type": "code",
      "metadata": {
        "id": "8BW69NOIGhJD"
      },
      "source": [
        "X = input('Valeur de X : ')\n",
        "X = int(X)\n",
        "\n",
        "if X >= 0 :\n",
        "  print('X est positif')\n",
        "else :\n",
        "  print('X est négatif')"
      ],
      "execution_count": null,
      "outputs": []
    },
    {
      "cell_type": "markdown",
      "metadata": {
        "id": "KZze6hIeOvX8"
      },
      "source": [
        "### 4. Le produit\n",
        "\n",
        "Ecrire un algorithme qui demande deux nombres à l’utilisateur et l’informe en suite si leur produit est négatif ou positif (on laisse de côté le cas où le produitest nul). Attention toute fois : on ne doit pas calculer le produit des deux nombres.\n",
        "\n",
        "pseudo-code :\n",
        "\n",
        "> On demande la valeur de A.  \n",
        "On demande la valeur de B.  \n",
        "Si la valeur de A ou B égale 0 : \n",
        "\n",
        ">> On affiche \"Le produit est positif\".\n",
        "\n",
        "> Sinon :\n",
        "\n",
        ">> Si signe de A différent de signe de B:\n",
        "\n",
        ">>> On affiche \"Le produit est négatif\".\n",
        "\n",
        ">> Sinon :\n",
        "\n",
        ">>> On affiche \"Le produit est positif\"."
      ]
    },
    {
      "cell_type": "code",
      "metadata": {
        "id": "78mDR2LyTdh7"
      },
      "source": [
        "A = input('Valeur de A : ')\n",
        "B = input('Valeur de B : ')\n",
        "A = int(A)\n",
        "B = int(B)\n",
        "\n",
        "if A == 0 or B == 0 :\n",
        "  print('Le produit est positif')\n",
        "else :\n",
        "  if (A > 0 and B < 0) or (A < 0 and B > 0) :\n",
        "    print('Le produit est négatif')\n",
        "  else :\n",
        "    print('Le produit est positif')"
      ],
      "execution_count": null,
      "outputs": []
    },
    {
      "cell_type": "markdown",
      "metadata": {
        "id": "kwyWuWfGYdU5"
      },
      "source": [
        "### 5. Calcul\n",
        "\n",
        "Ecrire un algorithme qui demande un nombre de départ, et qui ensuite affiche les dix nombres suivants. Par exemple, si l’utilisateur entre le nombre 17, le programme affichera les nombres de 18 à 27.\n",
        "\n",
        "pseudo-code:\n",
        "\n",
        "> On demande la valeur de N.  \n",
        "On instancie i = 0.  \n",
        "Tant que i < 10 :\n",
        ">> On Affiche N + 1."
      ]
    },
    {
      "cell_type": "code",
      "metadata": {
        "id": "Jt4BriGCbE00"
      },
      "source": [
        "N = input('Valeur de N : ')\n",
        "N = int(N)\n",
        "i = 0\n",
        "\n",
        "while i < 10:\n",
        "  i += 1\n",
        "  print(str(N+i))\n"
      ],
      "execution_count": null,
      "outputs": []
    },
    {
      "cell_type": "markdown",
      "metadata": {
        "id": "yKOGQ4IEdhdD"
      },
      "source": [
        "### 6. Additivité\n",
        "\n",
        "Ecrire un algorithme qui demande un nombre de départ, et qui calcule la somme des entiers jusqu'à ce nombre. Par exemple, si l’on entre 5, le programme doit calculer : 1 + 2 + 3 + 4 + 5 = 15.\n",
        "\n",
        "pseudo-code:\n",
        "\n",
        "> On demande la valeur de N.  \n",
        "On instancie i = 1.  \n",
        "On instancie j = 0.  \n",
        "Tant que i <= N :\n",
        "\n",
        ">> On ajoute a j la valeur de i.\n",
        "\n",
        "> Affiche la valeur de j. "
      ]
    },
    {
      "cell_type": "code",
      "metadata": {
        "id": "teBzn12XhNOt"
      },
      "source": [
        "N = input('Valeur de N : ')\n",
        "N = int(N)\n",
        "i = 0\n",
        "j = 0\n",
        "\n",
        "while i <= N :\n",
        "  j = j + i\n",
        "  i += 1 \n",
        "print('La somme est de '+str(j))"
      ],
      "execution_count": null,
      "outputs": []
    },
    {
      "cell_type": "markdown",
      "metadata": {
        "id": "Q9F6jA0GS8Sm"
      },
      "source": [
        "## II. Les Tableaux\n",
        "\n",
        "### 1. La somme\n",
        "\n",
        "Ecrire un algorithme calculant la somme des valeurs d’un tableau (on suppose bien sur que le tableau à été préalablement saisi).\n",
        "\n",
        "pseudo-code :\n",
        "\n",
        "> On instancie N avec une valeur aléatoire comprise entre 1 et 10.  \n",
        "On instancie un tableau de taille N avec des valeurs aléatoires comprisent entre 1 et 20.  \n",
        "On instancie i = 0.  \n",
        "On instancie j = 0.  \n",
        "Tant que i < taile du tableau A :\n",
        "\n",
        ">> j = j + valeur de A à l'index i.  \n",
        "On incrémente i.\n",
        "\n",
        "> (Debug) On affiche le tableau A.  \n",
        "On affiche la somme du tableau A.\n"
      ]
    },
    {
      "cell_type": "code",
      "metadata": {
        "id": "9N3Y1mIqWbbc"
      },
      "source": [
        "from random import randint\n",
        "\n",
        "N = randint(1,10)\n",
        "A = [randint(1,20) for _ in range(N)]\n",
        "i = 0\n",
        "j = 0\n",
        "\n",
        "while i < len(A) :\n",
        "  j = j + A[i]\n",
        "  i += 1\n",
        "\n",
        "print(A)\n",
        "print('La somme du tableau est '+str(j))\n"
      ],
      "execution_count": null,
      "outputs": []
    },
    {
      "cell_type": "markdown",
      "metadata": {
        "id": "DUugJRglYu6f"
      },
      "source": [
        "### 2. La somme : retour\n",
        "\n",
        "Ecrire un algorithme constituant un tableau, à partir de deux tableaux de même longueur préalablement saisis. Le nouveau tableau sera la somme des éléments des deux tableaux de départ.\n",
        "\n",
        "pseudo-code:\n",
        "\n",
        "> On instancie N avec une valeur aléatoire comprise entre 1 et 10.  \n",
        "On instancie deux tableaux A et B de taille N avec des valeurs aléatoires comprisent entre 1 et 20.  \n",
        "On instancie un tableau vide C.  \n",
        "On instancie i = 0.  \n",
        "Tant que i < N :\n",
        "\n",
        ">> On ajoute au tableau C valeur de A à l'index i + valeur de B à l'index i.  \n",
        "On incrémente i.\n",
        "\n",
        "> (Debug) On affiche A.  \n",
        "(Debug) On affiche B.  \n",
        "On affiche C.\n"
      ]
    },
    {
      "cell_type": "code",
      "metadata": {
        "id": "IbmtmYkbcsHk"
      },
      "source": [
        "from random import randint\n",
        "\n",
        "N = randint(1,10)\n",
        "A = [randint(1,20) for _ in range(N)]\n",
        "B = [randint(1,20) for _ in range(N)]\n",
        "C = []\n",
        "i = 0\n",
        "\n",
        "while i < N :\n",
        "  C.append(A[i] + B[i])\n",
        "  i += 1\n",
        "\n",
        "print(A)\n",
        "print(B)\n",
        "print(C)"
      ],
      "execution_count": null,
      "outputs": []
    },
    {
      "cell_type": "markdown",
      "metadata": {
        "id": "JSXcnJm-SndH"
      },
      "source": [
        "### 3. FacProduct\n",
        "\n",
        "Toujours à partir de deux tableaux précédemment saisis, écrire un algorithme qui calcule le \"FacProduct\" des deux tableaux. Pour calculer le \"FacProduct\", il faut multiplier chaque élément du tableau1 par chaque élément du tableau2, et\n",
        "additionner le tout.\n",
        "\n",
        "pseudo-code :\n",
        "\n",
        "> On instancie N avec une valeur aléatoire comprise entre 1 et 10.  \n",
        "On instancie deux tableaux A et B de taille N avec des valeurs aléatoires comprisent entre 1 et 20.  \n",
        "On instancie i = 0.  \n",
        "On instancie j = 0.  \n",
        "Tant que i < N :\n",
        "\n",
        ">> Pour chaque élément e du tableau B :\n",
        "\n",
        ">>> j = j + (valeur de A d'index i multiplié par valeur de e).  \n",
        "\n",
        ">> On incrémente i.\n",
        "\n",
        "> (Debug) On affiche A.  \n",
        "(Debug) On affiche B.  \n",
        "On affiche le FacProduct des tableaux A et B."
      ]
    },
    {
      "cell_type": "code",
      "metadata": {
        "id": "V3yTyUV6WP2C"
      },
      "source": [
        "from random import randint\n",
        "\n",
        "N = randint(1,10)\n",
        "A = [randint(1,10) for _ in range(N)]\n",
        "B = [randint(1,10) for _ in range(N)]\n",
        "i = 0\n",
        "j = 0\n",
        "\n",
        "while i < N :\n",
        "  for e in B :\n",
        "    j = j + (A[i] * e)\n",
        "  i += 1\n",
        "\n",
        "print(A)\n",
        "print(B)\n",
        "print('La FacProduct est de '+str(j))\n"
      ],
      "execution_count": null,
      "outputs": []
    },
    {
      "cell_type": "markdown",
      "metadata": {
        "id": "R3Duiek1YlhO"
      },
      "source": [
        "### 4. Le plus grand\n",
        "\n",
        "Ecrire un algorithme permettant à l’utilisateur de saisir un nombre déterminé de valeurs. Le programme, une fois la saisie terminée, renvoie la plus grande valeur en précisant quelle position elle occupe dans le tableau.\n",
        "\n",
        "pseudo-code :\n",
        "\n",
        "> On instancie un tableau A.  \n",
        "On instancie i = 0.   \n",
        "Tant que i < 5 :\n",
        "\n",
        ">> On Demande et insère une valeur dans A.  \n",
        "On incrément i.\n",
        "\n",
        ">(Debug) On affiche A.  \n",
        "On instancie MAX = valeur de A à l'index 0.  \n",
        "On instancie POS_MAX = 0.  \n",
        "Pour chaque éléments e de A :  \n",
        "\n",
        ">> Si e > MAX :\n",
        "\n",
        ">>> MAX = valeur de e.  \n",
        "POS_MAX = Position de e.\n",
        "\n",
        "> On Affiche le maximum et sa position dans le tableau A."
      ]
    },
    {
      "cell_type": "code",
      "metadata": {
        "id": "vXfF7KpbipYm"
      },
      "source": [
        "A = []\n",
        "i = 1\n",
        "\n",
        "while i < 6 :\n",
        "  A.append(int(input('Entrez une valeur '+str(i)+' : ')))\n",
        "  i += 1\n",
        "\n",
        "print(A)\n",
        "MAX = A[0]\n",
        "POS_MAX = 0\n",
        "for e in A :\n",
        "  if e > MAX:\n",
        "    MAX = e\n",
        "    POS_MAX = A.index(e)\n",
        "\n",
        "print(\"La valeur Max est \"+str(MAX)+\" d'index \"+str(POS_MAX))\n"
      ],
      "execution_count": null,
      "outputs": []
    },
    {
      "cell_type": "markdown",
      "metadata": {
        "id": "G_tbjL444mjB"
      },
      "source": [
        "## III. Maths\n",
        "\n",
        "### 1. Le temps d'arrêt\n",
        "\n",
        "On note $H_n$ la somme $H_n = \\sum_{k = 1}^n \\frac{1}{k}$.  \n",
        "\n",
        "On admet que $H_n$ tend vers $+∞$. Ecrire un algorithme qui détermine le plus petit entier $n$ tel que ($H_n$) dépasse un réel $α$ donnée.\n",
        "\n",
        "pseudo-code :\n",
        "\n",
        "> On demande la valeur de ALPHA.  \n",
        "On instancie i = 1.   \n",
        "On instancie j = 0.   \n",
        "Tant que j inférieur à ALPHA :  \n",
        "\n",
        ">> j = j + (1 / i)   \n",
        "On incrémente i.\n",
        "\n",
        "On affiche la valeur de i.\n"
      ]
    },
    {
      "cell_type": "code",
      "metadata": {
        "id": "2WhgAlhv7Pjo",
        "outputId": "5f249b8a-9490-491d-a39e-bec05298b616",
        "colab": {
          "base_uri": "https://localhost:8080/",
          "height": 53
        }
      },
      "source": [
        "ALPHA = input('Valeur de Alpha : ')\n",
        "ALPHA = float(ALPHA)\n",
        "i = 1\n",
        "j = 0\n",
        "\n",
        "while j < ALPHA :\n",
        "  j = j + (1 / i)\n",
        "  i += 1\n",
        "\n",
        "print('Le plus petit entier n est '+str(i))\n",
        "\n"
      ],
      "execution_count": null,
      "outputs": [
        {
          "output_type": "stream",
          "text": [
            "Valeur de Alpha : 10\n",
            "Le plus petit entier n est 12368\n"
          ],
          "name": "stdout"
        }
      ]
    },
    {
      "cell_type": "markdown",
      "metadata": {
        "id": "0yPkzN23-b8v"
      },
      "source": [
        "### 2. Petite equation\n",
        "\n",
        "On considère l'équation $x^{2} - 2y^{2} = 1$, d'inconnues $x,y \\: \\epsilon \\: N^*$ (les entiers). Ecrire un algorithme permettant de déterminer toutes les solutions de cette équation pour lesquelles $y \\leq 100$  &  $x \\leq 100$\n",
        "\n",
        "pseudo-code :\n",
        "\n",
        "> On instancie X = 1.  \n",
        "On instancie Y = 1.  \n",
        "Tant que y est inférieur à 100 :\n",
        ">> Tant que x est inférieur à 100 :\n",
        ">>> Si l'équation est résolu avec les valeurs x et y :\n",
        ">>>> On affiche valeur de x et y.\n",
        "\n",
        "\n"
      ]
    },
    {
      "cell_type": "code",
      "metadata": {
        "id": "9DCTfNIpEkB8",
        "outputId": "4c80d086-15c6-4f75-d62e-4191a0505734",
        "colab": {
          "base_uri": "https://localhost:8080/",
          "height": 89
        }
      },
      "source": [
        "x = 1\n",
        "y = 1\n",
        "\n",
        "for y in range(1,101) :\n",
        "  for x in range(1,101) :\n",
        "    if (x*x) - (2*(y*y)) == 1 :\n",
        "      print('x = '+str(x)+' y = '+str(y))\n",
        "\n",
        "\n"
      ],
      "execution_count": null,
      "outputs": [
        {
          "output_type": "stream",
          "text": [
            "x = 1 y = 0\n",
            "x = 3 y = 2\n",
            "x = 17 y = 12\n",
            "x = 99 y = 70\n"
          ],
          "name": "stdout"
        }
      ]
    },
    {
      "cell_type": "markdown",
      "metadata": {
        "id": "HPKNz-yNUNQ8"
      },
      "source": [
        "### 3. Le classico classique\n",
        "\n",
        "Saisir 3 entiers $a,b,c$ et déterminer dans $R$ les racines de l'équation \n",
        "\n",
        "$ax^2+bx+c=0$\n",
        "\n",
        "pseudo-code :\n",
        "\n",
        ">On demande la valeur de a.  \n",
        "On demande la valeur de b.  \n",
        "On demande la valeur de c.  \n",
        "On calcule le discriminant.  \n",
        "Si le discriminant égal 0 :  \n",
        "\n",
        ">>Une solution qui vaux -b/2a\n",
        "\n",
        ">Sinon :\n",
        "\n",
        ">> Si discriminant supérieur à 0 :\n",
        "\n",
        ">>>la premiere solution vaux (-b - racine(discriminant))/(2a).  \n",
        "La seconde solution vaux (-b +racine(discriminant))/(2a).\n",
        "\n",
        ">> Sinon :\n",
        "\n",
        ">>> Aucune solution."
      ]
    },
    {
      "cell_type": "code",
      "metadata": {
        "id": "XNg3fszjWC8l",
        "outputId": "5dac461c-08e7-4425-cca7-a12fad3f3018",
        "colab": {
          "base_uri": "https://localhost:8080/",
          "height": 89
        }
      },
      "source": [
        "from math import *\n",
        "\n",
        "a = input('a = ')\n",
        "b = input('b = ')\n",
        "c = input('c = ')\n",
        "\n",
        "a = int(a)\n",
        "b = int(b)\n",
        "c = int(c)\n",
        "\n",
        "discriminant = (b*b) - 4*(a*c)\n",
        "\n",
        "if discriminant == 0 :\n",
        "  x0 = (-b)/(2*a)\n",
        "  print('x0 = '+str(x0))\n",
        "else :\n",
        "  if discriminant > 0 :\n",
        "    x1 = (-b -sqrt(discriminant))/(2*a)\n",
        "    x2 = (-b + sqrt(discriminant))/(2*a)\n",
        "    print('x1 = '+str(x1)+' x2= '+str(x2))\n",
        "  else :\n",
        "    print(\"l'equation n'as pas de solution réelles\")\n"
      ],
      "execution_count": null,
      "outputs": [
        {
          "output_type": "stream",
          "text": [
            "a = 1\n",
            "b = 2\n",
            "c = 0\n",
            "x1 = -2.0 x2= 0.0\n"
          ],
          "name": "stdout"
        }
      ]
    },
    {
      "cell_type": "markdown",
      "metadata": {
        "id": "fpGX9FO2uHpS"
      },
      "source": [
        "### 4. Le retour : polynome 2\n",
        "\n",
        "Faite de même dans $C$\n",
        "\n",
        "pseudo-code :\n",
        "\n",
        "pseudo-code :\n",
        "\n",
        ">On demande la valeur de a.  \n",
        "On demande la valeur de b.  \n",
        "On demande la valeur de c.  \n",
        "On calcule le discriminant.  \n",
        "Si le discriminant égal 0 :  \n",
        "\n",
        ">>Une solution qui vaux -b/2a\n",
        "\n",
        ">Sinon :\n",
        "\n",
        ">> Si discriminant supérieur à 0 :\n",
        "\n",
        ">>>la premiere solution vaux (-b - racine(discriminant))/(2a).  \n",
        "La seconde solution vaux (-b +racine(discriminant))/(2a).\n",
        "\n",
        ">> Sinon :\n",
        "\n",
        ">>>la premiere solution vaux (-b - racinecomplexe(discriminant))/(2a).  \n",
        "La seconde solution vaux (-b + racinecomplexe(discriminant))/(2a).\n"
      ]
    },
    {
      "cell_type": "code",
      "metadata": {
        "id": "y5zFXF6_zzyG",
        "outputId": "8478e449-87b0-49f1-9ca0-feda530cd36c",
        "colab": {
          "base_uri": "https://localhost:8080/",
          "height": 89
        }
      },
      "source": [
        "from math import *\n",
        "import cmath\n",
        "\n",
        "a = input('a = ')\n",
        "b = input('b = ')\n",
        "c = input('c = ')\n",
        "\n",
        "a = int(a)\n",
        "b = int(b)\n",
        "c = int(c)\n",
        "\n",
        "discriminant = (b*b) - 4*(a*c)\n",
        "\n",
        "if discriminant == 0 :\n",
        "  x0 = (-b)/(2*a)\n",
        "  print('x0 = '+str(x0))\n",
        "else :\n",
        "  if discriminant > 0 :\n",
        "    x1 = (-b - sqrt(discriminant))/(2*a)\n",
        "    x2 = (-b + sqrt(discriminant))/(2*a)\n",
        "    print('x1 = '+str(x1)+' x2= '+str(x2))\n",
        "  else :\n",
        "    x1 = (-b - cmath.sqrt(discriminant))/(2*a)\n",
        "    x2 = (-b + cmath.sqrt(discriminant))/(2*a)\n",
        "    print('complexe x1 = '+str(x1)+' complexe x2= '+str(x2))"
      ],
      "execution_count": null,
      "outputs": [
        {
          "output_type": "stream",
          "text": [
            "a = 10\n",
            "b = 1\n",
            "c = 45\n",
            "complexe x1 = (-0.05-2.1207310060448497j) complexe x2= (-0.05+2.1207310060448497j)\n"
          ],
          "name": "stdout"
        }
      ]
    },
    {
      "cell_type": "markdown",
      "metadata": {
        "id": "D0C07nWT1xli"
      },
      "source": [
        "### 5. Factorielle\n",
        "\n",
        "Ecrire un algorithme qui demande un nombre de départ, et qui calcule sa factorielle. On rappel qu'on calcul factorielle $n$ tel que : $n! = \\prod_{1in}i = $ 1 x 2 x 3 x ... x ($n$ - 1) x $n$.\n",
        "\n",
        "pseudo-code :\n",
        "\n",
        "> On demande X.  \n",
        "On instancie FACT = 1.  \n",
        "Pour chaque itérations comprisent entre 1 et X+1 :\n",
        "\n",
        ">> FACT = FACT multiplie par la valeur de l'itération.\n",
        "\n",
        "> On affiche le produit factoriel trouvé.\n",
        "\n",
        "\n",
        "\n",
        "\n"
      ]
    },
    {
      "cell_type": "code",
      "metadata": {
        "id": "vh_CKkpT71nA",
        "outputId": "663b7366-a137-4aac-9c8a-2704b27371a4",
        "colab": {
          "base_uri": "https://localhost:8080/"
        }
      },
      "source": [
        "X = int(input('Valeur de X = '))\n",
        "\n",
        "FACT = 1\n",
        "  \n",
        "for i in range(1,X+1): \n",
        "    FACT = FACT * i \n",
        "\n",
        "print('Le produit factoriel est de '+str(fact))"
      ],
      "execution_count": null,
      "outputs": [
        {
          "output_type": "stream",
          "text": [
            "Valeur de X = 10\n",
            "Le produit factoriel est de 3628800\n"
          ],
          "name": "stdout"
        }
      ]
    },
    {
      "cell_type": "markdown",
      "metadata": {
        "id": "_x4Qn9VR9enS"
      },
      "source": [
        "### 6. Toujours plus de maths\n",
        "\n",
        "Soit $f : [0,1] \\rightarrow R $ une fonction croissante. Pour $n \\geq 1$ on pose :\n",
        "\n",
        "$U_n = \\frac{1}{n} \\sum_{k=0}^{n-1}f(k/n)$ et $V_n = \\frac{1}{n} \\sum_{k=1}^{n}f(k/n) $. \n",
        "\n",
        "1- Démontrer que, pour tout $n \\geq 1$, on a $U_n \\leq \\int_0^1 f(x)dx \\leq V_n $   \n",
        "On admet que ($U_n$) et ($V_n$) convergent vers $\\int_0^1 f(x)dx$.\n",
        "\n",
        "2- Écrire un algorithme donnant une valeur approchée de $\\int_0^1 e^{-x^{2}}dx$ à la centième près.\n",
        "\n"
      ]
    },
    {
      "cell_type": "code",
      "metadata": {
        "id": "LaWbnvqTBLxc"
      },
      "source": [
        ""
      ],
      "execution_count": null,
      "outputs": []
    },
    {
      "cell_type": "code",
      "metadata": {
        "id": "lEhI-T3aBMMn"
      },
      "source": [
        ""
      ],
      "execution_count": null,
      "outputs": []
    },
    {
      "cell_type": "markdown",
      "metadata": {
        "id": "dEttUN1QBM8k"
      },
      "source": [
        "## IV. Suite Algorithmes\n",
        "\n",
        "### 1. Coefficients binomiaux\n",
        "\n",
        "Définir un algorithme qui permet de saisir 2 entiers, et calcule la relation suivante :\n",
        "\n",
        "$\\binom{n}{k} = C_k^n = \\frac{n!}{k!(n-k)!}$\n",
        "\n",
        "pseudo-code :\n",
        "\n",
        "> On demande la valeur de n.  \n",
        "On demande la valeur de k.  \n",
        "On calcule factoriel(n) divisé par ( factoriel(k) que multiplie factoriel(n - k).\n",
        "On affiche ce résultat."
      ]
    },
    {
      "cell_type": "code",
      "metadata": {
        "id": "UWuBOwbFC1x9",
        "outputId": "0b3be717-beed-4e96-fa7f-c46dfa49f4be",
        "colab": {
          "base_uri": "https://localhost:8080/"
        }
      },
      "source": [
        "from math import *\n",
        "\n",
        "n = input('valeur de n = ')\n",
        "k = input('valeur de k = ')\n",
        "n = int(n)\n",
        "k = int(k)\n",
        "\n",
        "Resultat = factorial(n) / (factorial(k)* factorial(n - k))\n",
        "print(Resultat)"
      ],
      "execution_count": null,
      "outputs": [
        {
          "output_type": "stream",
          "text": [
            "valeur de n = 3\n",
            "valeur de k = 2\n",
            "3.0\n"
          ],
          "name": "stdout"
        }
      ]
    },
    {
      "cell_type": "markdown",
      "metadata": {
        "id": "esvbrpkxES3Q"
      },
      "source": [
        "### 2. Saisie de Matrice\n",
        "\n",
        "1 - Écrire une fonction qui demande à l'utilisateur la taille d'une matrice.  \n",
        "2 - Permettre la saisie des valeurs dans la matrice (ligne par ligne).  \n",
        "3 - Afficher la matrice saisie.  \n",
        "\n",
        "pseudo-code :\n",
        "\n",
        "> On Instancie un tableau vide.   \n",
        "On demande le nombre de lignes.  \n",
        "On demande le nombre de colonnes.  \n",
        "On transforme le tableau vide en matrice.  \n",
        "Tant que j est inférieur au nombre de colonnes :  \n",
        "\n",
        ">> Tant que i est inférieur au nombre de lignes :  \n",
        "\n",
        ">>> On demande une valeur aux coordonnées i et j dans la matrice.\n",
        "\n",
        "> On affiche la matrice."
      ]
    },
    {
      "cell_type": "code",
      "metadata": {
        "id": "ZeO_taC_FxnD",
        "outputId": "9a4c01f6-f63d-4062-ea94-15b8ee8e30cb",
        "colab": {
          "base_uri": "https://localhost:8080/"
        }
      },
      "source": [
        "import numpy as np\n",
        "\n",
        "matrice = []\n",
        "rows = int(input(\"Lignes : \"))\n",
        "columns = int(input(\"Colonnes : \"))\n",
        "matrice = np.zeros((rows,columns))\n",
        "\n",
        "for j in range(0, columns):\n",
        "  for i in range(0,rows):\n",
        "    matrice[i,j] = input(\"Valeur de coordonnées \"+str(i)+\";\"+str(j)+\": \")\n",
        "\n",
        "print(matrice)\n"
      ],
      "execution_count": null,
      "outputs": [
        {
          "output_type": "stream",
          "text": [
            "Lignes : 2\n",
            "Colonnes : 2\n",
            "Valeur de coordonnées 0;0: 1\n",
            "Valeur de coordonnées 1;0: 2\n",
            "Valeur de coordonnées 0;1: 3\n",
            "Valeur de coordonnées 1;1: 3\n",
            "[[1. 3.]\n",
            " [2. 3.]]\n"
          ],
          "name": "stdout"
        }
      ]
    },
    {
      "cell_type": "markdown",
      "metadata": {
        "id": "_6LDBhXRGyp1"
      },
      "source": [
        "### 3. Multiplication matricielle\n",
        "\n",
        "1 - Écrire un algorithme qui demande la saisie de 2 matrices A et B.  \n",
        "2 - Vérifier au préalable que les dimensions sont compatibles.  \n",
        "3 - Faire la multiplication matricielle entre A et B tel que :\n",
        "\n",
        "$C_{ij} = \\sum_{k=1}^{m} a_{ik}*b_{kj}$\n",
        "\n",
        "4 - Afficher la matrice de son résultat.\n",
        "\n",
        "pseudo-code : \n",
        "\n",
        "> On Demande de remplir une première matrice.\n",
        "On demande de remplir une deuxième matrice.\n",
        "On calcule la multiplication matricielle.\n",
        "On affiche la nouvelle matrice.\n"
      ]
    },
    {
      "cell_type": "code",
      "metadata": {
        "id": "wOOLqfeMSw7p",
        "outputId": "8f048618-a64d-4569-ea1b-1a3a7d18c673",
        "colab": {
          "base_uri": "https://localhost:8080/",
          "height": 289
        }
      },
      "source": [
        "import numpy as np\n",
        "\n",
        "print('1ere Matrice : ')\n",
        "\n",
        "matrice1 = []\n",
        "rows = int(input(\"Lignes : \"))\n",
        "columns = int(input(\"Colonnes : \"))\n",
        "matrice1 = np.zeros((rows,columns))\n",
        "\n",
        "for j in range(0, columns):\n",
        "  for i in range(0,rows):\n",
        "    matrice1[i,j] = input(\"Valeur de coordonnées \"+str(i)+\";\"+str(j)+\": \")\n",
        "\n",
        "\n",
        "print('2ème Matrice : ')\n",
        "\n",
        "matrice2 = []\n",
        "rows = int(input(\"Lignes : \"))\n",
        "columns = int(input(\"Colonnes : \"))\n",
        "matrice2 = np.zeros((rows,columns))\n",
        "\n",
        "for j in range(0, columns):\n",
        "  for i in range(0,rows):\n",
        "    matrice2[i,j] = input(\"Valeur de coordonnées \"+str(i)+\";\"+str(j)+\": \")\n",
        "\n",
        "print(np.dot(matrice1, matrice2))"
      ],
      "execution_count": 1,
      "outputs": [
        {
          "output_type": "stream",
          "text": [
            "1ere Matrice : \n",
            "Lignes : 2\n",
            "Colonnes : 2\n",
            "Valeur de coordonnées 0;0: 1\n",
            "Valeur de coordonnées 1;0: 2\n",
            "Valeur de coordonnées 0;1: 3\n",
            "Valeur de coordonnées 1;1: 4\n",
            "2ème Matrice : \n",
            "Lignes : 2\n",
            "Colonnes : 2\n",
            "Valeur de coordonnées 0;0: 5\n",
            "Valeur de coordonnées 1;0: 6\n",
            "Valeur de coordonnées 0;1: 7\n",
            "Valeur de coordonnées 1;1: 8\n",
            "[[23. 31.]\n",
            " [34. 46.]]\n"
          ],
          "name": "stdout"
        }
      ]
    }
  ]
}