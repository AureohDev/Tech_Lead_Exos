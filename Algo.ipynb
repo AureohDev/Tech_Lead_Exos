{
  "nbformat": 4,
  "nbformat_minor": 0,
  "metadata": {
    "colab": {
      "name": "Algo.ipynb",
      "provenance": [],
      "authorship_tag": "ABX9TyMNyQ8sdeK8Vp6ibvoE9FRQ",
      "include_colab_link": true
    },
    "kernelspec": {
      "name": "python3",
      "display_name": "Python 3"
    }
  },
  "cells": [
    {
      "cell_type": "markdown",
      "metadata": {
        "id": "view-in-github",
        "colab_type": "text"
      },
      "source": [
        "<a href=\"https://colab.research.google.com/github/AureohDev/Tech_Lead_Exos/blob/main/Algo.ipynb\" target=\"_parent\"><img src=\"https://colab.research.google.com/assets/colab-badge.svg\" alt=\"Open In Colab\"/></a>"
      ]
    },
    {
      "cell_type": "markdown",
      "metadata": {
        "id": "LF2xdI23Vpin"
      },
      "source": [
        "# Exercices Algorithmique\n",
        "\n",
        "## I. Bases \n",
        "\n",
        "### 1. Simple échange\n",
        "\n",
        "Ecrire un algorithme permettant d’´echanger les valeurs dedeux variables A et\n",
        "B.\n",
        "\n",
        "pseudo-code :\n",
        "\n",
        ">On demande la valeur de A.  \n",
        "On demande la valeur de B.   \n",
        "On initialise C. \n",
        "\n",
        ">C prends la valeur de A.    \n",
        "A prends la valeur de B.  \n",
        "B prends la valeur de C.  \n",
        "\n",
        ">On affiche la valeur de A.       \n",
        "On affiche la valeur de B.\n"
      ]
    },
    {
      "cell_type": "code",
      "metadata": {
        "id": "CPjXzt31W7yf"
      },
      "source": [
        "A = input('Valeur de A : ')\n",
        "B = input('Valeur de B : ')\n",
        "C = ''\n",
        "\n",
        "C = A\n",
        "A = B\n",
        "B = C\n",
        "\n",
        "print('A = '+A)\n",
        "print('B = '+B)"
      ],
      "execution_count": null,
      "outputs": []
    },
    {
      "cell_type": "markdown",
      "metadata": {
        "id": "Lu9X1xWg3EhC"
      },
      "source": [
        "### 2. Le carré\n",
        "\n",
        "Ecrire un programme qui demande un nombre à l’utilisateur, puis qui calcule et affiche le carré de ce nombre.\n",
        "\n",
        "pseudo-code :\n",
        "\n",
        ">On demande la valeur de X.   \n",
        "On multiplie la valeur de X par cette même valeur.   \n",
        "On affiche le résultat (valeur de X).\n"
      ]
    },
    {
      "cell_type": "code",
      "metadata": {
        "id": "p_TaECOl6Ast"
      },
      "source": [
        "X = input('Valeur de X : ')\n",
        "X = int(X)\n",
        "\n",
        "X = X * X\n",
        "\n",
        "print('X = '+ str(X))"
      ],
      "execution_count": null,
      "outputs": []
    },
    {
      "cell_type": "markdown",
      "metadata": {
        "id": "Z677S5VV_JaG"
      },
      "source": [
        "### 3. La condition\n",
        "\n",
        "Ecrire un algorithme qui demande un nombre à l’utilisateur, et l’informe ensuite si ce nombre est positif ou négatif (on laisse de côté le cas où le nombre vaut zéro).\n",
        "\n",
        "pseudo-code :\n",
        "\n",
        "> On demande la valeur de X.      \n",
        "Si la valeur de X est supérieur ou égale à 0. \n",
        "\n",
        ">> On affiche \"X est positif\".  \n",
        "\n",
        "> Sinon\n",
        "\n",
        ">> On a affiche \"X est négatif\".\n",
        "\n"
      ]
    },
    {
      "cell_type": "code",
      "metadata": {
        "id": "8BW69NOIGhJD"
      },
      "source": [
        "X = input('Valeur de X : ')\n",
        "X = int(X)\n",
        "\n",
        "if X >= 0 :\n",
        "  print('X est positif')\n",
        "else :\n",
        "  print('X est négatif')"
      ],
      "execution_count": null,
      "outputs": []
    },
    {
      "cell_type": "markdown",
      "metadata": {
        "id": "KZze6hIeOvX8"
      },
      "source": [
        "### 4. Le produit\n",
        "\n",
        "Ecrire un algorithme qui demande deux nombres à l’utilisateur et l’informe en suite si leur produit est négatif ou positif (on laisse de côté le cas où le produitest nul). Attention toute fois : on ne doit pas calculer le produit des deux nombres.\n",
        "\n",
        "pseudo-code :\n",
        "\n",
        "> On demande la valeur de A.  \n",
        "On demande la valeur de B.  \n",
        "Si la valeur de A ou B égale 0 : \n",
        "\n",
        ">> On affiche \"Le produit est positif\".\n",
        "\n",
        "> Sinon :\n",
        "\n",
        ">> Si signe de A différent de signe de B:\n",
        "\n",
        ">>> On affiche \"Le produit est négatif\".\n",
        "\n",
        ">> Sinon :\n",
        "\n",
        ">>> On affiche \"Le produit est positif\"."
      ]
    },
    {
      "cell_type": "code",
      "metadata": {
        "id": "78mDR2LyTdh7"
      },
      "source": [
        "A = input('Valeur de A : ')\n",
        "B = input('Valeur de B : ')\n",
        "A = int(A)\n",
        "B = int(B)\n",
        "\n",
        "if A == 0 or B == 0 :\n",
        "  print('Le produit est positif')\n",
        "else :\n",
        "  if (A > 0 and B < 0) or (A < 0 and B > 0) :\n",
        "    print('Le produit est négatif')\n",
        "  else :\n",
        "    print('Le produit est positif')"
      ],
      "execution_count": null,
      "outputs": []
    },
    {
      "cell_type": "markdown",
      "metadata": {
        "id": "kwyWuWfGYdU5"
      },
      "source": [
        "### 5. Calcul\n",
        "\n",
        "Ecrire un algorithme qui demande un nombre de départ, et qui ensuite affiche les dix nombres suivants. Par exemple, si l’utilisateur entre le nombre 17, le programme affichera les nombres de 18 à 27.\n",
        "\n",
        "pseudo-code:\n",
        "\n",
        "> On demande la valeur de N.  \n",
        "On instancie i = 0.  \n",
        "Tant que i < 10 :\n",
        ">> On Affiche N + 1."
      ]
    },
    {
      "cell_type": "code",
      "metadata": {
        "id": "Jt4BriGCbE00",
        "outputId": "3f341501-c266-448a-dfa3-c50f27df67c9",
        "colab": {
          "base_uri": "https://localhost:8080/"
        }
      },
      "source": [
        "N = input('Valeur de N : ')\n",
        "N = int(N)\n",
        "i = 0\n",
        "\n",
        "while i < 10:\n",
        "  i += 1\n",
        "  print(str(N+i))\n"
      ],
      "execution_count": 31,
      "outputs": [
        {
          "output_type": "stream",
          "text": [
            "Valeur de N : 10\n",
            "11\n",
            "12\n",
            "13\n",
            "14\n",
            "15\n",
            "16\n",
            "17\n",
            "18\n",
            "19\n",
            "20\n"
          ],
          "name": "stdout"
        }
      ]
    },
    {
      "cell_type": "markdown",
      "metadata": {
        "id": "yKOGQ4IEdhdD"
      },
      "source": [
        "### 6. Additivité\n",
        "\n",
        "Ecrire un algorithme qui demande un nombre de départ, et qui calcule la somme des entiers jusqu'à ce nombre. Par exemple, si l’on entre 5, le programme doit calculer : 1 + 2 + 3 + 4 + 5 = 15.\n",
        "\n",
        "pseudo-code:\n",
        "\n",
        "> On demande la valeur de N.  \n",
        "On instancie i = 1.  \n",
        "On instancie j = 0.  \n",
        "Tant que i <= N :\n",
        "\n",
        ">> On ajoute a j la valeur de i.\n",
        "\n",
        "> Affiche la valeur de j. "
      ]
    },
    {
      "cell_type": "code",
      "metadata": {
        "id": "teBzn12XhNOt",
        "outputId": "623c4ea0-8867-474d-8132-808c92202562",
        "colab": {
          "base_uri": "https://localhost:8080/"
        }
      },
      "source": [
        "N = input('Valeur de N : ')\n",
        "N = int(N)\n",
        "i = 0\n",
        "j = 0\n",
        "\n",
        "while i <= N :\n",
        "  j = j + i\n",
        "  i += 1 \n",
        "print('La somme est de '+str(j))"
      ],
      "execution_count": 36,
      "outputs": [
        {
          "output_type": "stream",
          "text": [
            "Valeur de N : 5\n",
            "La somme est de 15\n"
          ],
          "name": "stdout"
        }
      ]
    }
  ]
}