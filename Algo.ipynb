{
  "nbformat": 4,
  "nbformat_minor": 0,
  "metadata": {
    "colab": {
      "name": "Algo.ipynb",
      "provenance": [],
      "collapsed_sections": [],
      "authorship_tag": "ABX9TyNrOFdrwiyaUdRRpm+M2lUZ",
      "include_colab_link": true
    },
    "kernelspec": {
      "name": "python3",
      "display_name": "Python 3"
    }
  },
  "cells": [
    {
      "cell_type": "markdown",
      "metadata": {
        "id": "view-in-github",
        "colab_type": "text"
      },
      "source": [
        "<a href=\"https://colab.research.google.com/github/AureohDev/Tech_Lead_Exos/blob/main/Algo.ipynb\" target=\"_parent\"><img src=\"https://colab.research.google.com/assets/colab-badge.svg\" alt=\"Open In Colab\"/></a>"
      ]
    },
    {
      "cell_type": "markdown",
      "metadata": {
        "id": "LF2xdI23Vpin"
      },
      "source": [
        "# Exercices Algorithmique\n",
        "\n",
        "## I. Bases \n",
        "\n",
        "### 1. Simple échange\n",
        "\n",
        "Ecrire un algorithme permettant d’´echanger les valeurs dedeux variables A et\n",
        "B.\n",
        "\n",
        "pseudo-code :\n",
        "\n",
        ">On demande la valeur de A.  \n",
        "On demande la valeur de B.   \n",
        "On initialise C. \n",
        "\n",
        ">C prends la valeur de A.    \n",
        "A prends la valeur de B.  \n",
        "B prends la valeur de C.  \n",
        "\n",
        ">On affiche la valeur de A.       \n",
        "On affiche la valeur de B.\n"
      ]
    },
    {
      "cell_type": "code",
      "metadata": {
        "id": "CPjXzt31W7yf"
      },
      "source": [
        "A = input('Valeur de A : ')\n",
        "B = input('Valeur de B : ')\n",
        "C = ''\n",
        "\n",
        "C = A\n",
        "A = B\n",
        "B = C\n",
        "\n",
        "print('A = '+A)\n",
        "print('B = '+B)"
      ],
      "execution_count": null,
      "outputs": []
    },
    {
      "cell_type": "markdown",
      "metadata": {
        "id": "Lu9X1xWg3EhC"
      },
      "source": [
        "### 2. Le carré\n",
        "\n",
        "Ecrire un programme qui demande un nombre à l’utilisateur, puis qui calcule et affiche le carré de ce nombre.\n",
        "\n",
        "pseudo-code :\n",
        "\n",
        ">On demande la valeur de X.   \n",
        "On multiplie la valeur de X par cette même valeur.   \n",
        "On affiche le résultat (valeur de X).\n"
      ]
    },
    {
      "cell_type": "code",
      "metadata": {
        "id": "p_TaECOl6Ast"
      },
      "source": [
        "X = input('Valeur de X : ')\n",
        "X = int(X)\n",
        "\n",
        "X = X * X\n",
        "\n",
        "print('X = '+ str(X))"
      ],
      "execution_count": null,
      "outputs": []
    },
    {
      "cell_type": "markdown",
      "metadata": {
        "id": "Z677S5VV_JaG"
      },
      "source": [
        "### 3. La condition\n",
        "\n",
        "Ecrire un algorithme qui demande un nombre à l’utilisateur, et l’informe ensuite si ce nombre est positif ou négatif (on laisse de côté le cas où le nombre vaut zéro).\n",
        "\n",
        "pseudo-code :\n",
        "\n",
        "> On demande la valeur de X.      \n",
        "Si la valeur de X est supérieur ou égale à 0. \n",
        "\n",
        ">> On affiche \"X est positif\".  \n",
        "\n",
        "> Sinon\n",
        "\n",
        ">> On a affiche \"X est négatif\".\n",
        "\n"
      ]
    },
    {
      "cell_type": "code",
      "metadata": {
        "id": "8BW69NOIGhJD"
      },
      "source": [
        "X = input('Valeur de X : ')\n",
        "X = int(X)\n",
        "\n",
        "if X >= 0 :\n",
        "  print('X est positif')\n",
        "else :\n",
        "  print('X est négatif')"
      ],
      "execution_count": null,
      "outputs": []
    },
    {
      "cell_type": "markdown",
      "metadata": {
        "id": "KZze6hIeOvX8"
      },
      "source": [
        "### 4. Le produit\n",
        "\n",
        "Ecrire un algorithme qui demande deux nombres à l’utilisateur et l’informe en suite si leur produit est négatif ou positif (on laisse de côté le cas où le produitest nul). Attention toute fois : on ne doit pas calculer le produit des deux nombres.\n",
        "\n",
        "pseudo-code :\n",
        "\n",
        "> On demande la valeur de A.  \n",
        "On demande la valeur de B.  \n",
        "Si la valeur de A ou B égale 0 : \n",
        "\n",
        ">> On affiche \"Le produit est positif\".\n",
        "\n",
        "> Sinon :\n",
        "\n",
        ">> Si signe de A différent de signe de B:\n",
        "\n",
        ">>> On affiche \"Le produit est négatif\".\n",
        "\n",
        ">> Sinon :\n",
        "\n",
        ">>> On affiche \"Le produit est positif\"."
      ]
    },
    {
      "cell_type": "code",
      "metadata": {
        "id": "78mDR2LyTdh7"
      },
      "source": [
        "A = input('Valeur de A : ')\n",
        "B = input('Valeur de B : ')\n",
        "A = int(A)\n",
        "B = int(B)\n",
        "\n",
        "if A == 0 or B == 0 :\n",
        "  print('Le produit est positif')\n",
        "else :\n",
        "  if (A > 0 and B < 0) or (A < 0 and B > 0) :\n",
        "    print('Le produit est négatif')\n",
        "  else :\n",
        "    print('Le produit est positif')"
      ],
      "execution_count": null,
      "outputs": []
    },
    {
      "cell_type": "markdown",
      "metadata": {
        "id": "kwyWuWfGYdU5"
      },
      "source": [
        "### 5. Calcul\n",
        "\n",
        "Ecrire un algorithme qui demande un nombre de départ, et qui ensuite affiche les dix nombres suivants. Par exemple, si l’utilisateur entre le nombre 17, le programme affichera les nombres de 18 à 27.\n",
        "\n",
        "pseudo-code:\n",
        "\n",
        "> On demande la valeur de N.  \n",
        "On instancie i = 0.  \n",
        "Tant que i < 10 :\n",
        ">> On Affiche N + 1."
      ]
    },
    {
      "cell_type": "code",
      "metadata": {
        "id": "Jt4BriGCbE00"
      },
      "source": [
        "N = input('Valeur de N : ')\n",
        "N = int(N)\n",
        "i = 0\n",
        "\n",
        "while i < 10:\n",
        "  i += 1\n",
        "  print(str(N+i))\n"
      ],
      "execution_count": null,
      "outputs": []
    },
    {
      "cell_type": "markdown",
      "metadata": {
        "id": "yKOGQ4IEdhdD"
      },
      "source": [
        "### 6. Additivité\n",
        "\n",
        "Ecrire un algorithme qui demande un nombre de départ, et qui calcule la somme des entiers jusqu'à ce nombre. Par exemple, si l’on entre 5, le programme doit calculer : 1 + 2 + 3 + 4 + 5 = 15.\n",
        "\n",
        "pseudo-code:\n",
        "\n",
        "> On demande la valeur de N.  \n",
        "On instancie i = 1.  \n",
        "On instancie j = 0.  \n",
        "Tant que i <= N :\n",
        "\n",
        ">> On ajoute a j la valeur de i.\n",
        "\n",
        "> Affiche la valeur de j. "
      ]
    },
    {
      "cell_type": "code",
      "metadata": {
        "id": "teBzn12XhNOt"
      },
      "source": [
        "N = input('Valeur de N : ')\n",
        "N = int(N)\n",
        "i = 0\n",
        "j = 0\n",
        "\n",
        "while i <= N :\n",
        "  j = j + i\n",
        "  i += 1 \n",
        "print('La somme est de '+str(j))"
      ],
      "execution_count": null,
      "outputs": []
    },
    {
      "cell_type": "markdown",
      "metadata": {
        "id": "Q9F6jA0GS8Sm"
      },
      "source": [
        "## II. Les Tableaux\n",
        "\n",
        "### 1. La somme\n",
        "\n",
        "Ecrire un algorithme calculant la somme des valeurs d’un tableau (on suppose bien sur que le tableau à été préalablement saisi).\n",
        "\n",
        "pseudo-code :\n",
        "\n",
        "> On instancie N avec une valeur aléatoire comprise entre 1 et 10.  \n",
        "On instancie un tableau de taille N avec des valeurs aléatoires comprisent entre 1 et 20.  \n",
        "On instancie i = 0.  \n",
        "On instancie j = 0.  \n",
        "Tant que i < taile du tableau A :\n",
        "\n",
        ">> j = j + valeur de A à l'index i.  \n",
        "On incrémente i.\n",
        "\n",
        "> (Debug) On affiche le tableau A.  \n",
        "On affiche la somme du tableau A.\n"
      ]
    },
    {
      "cell_type": "code",
      "metadata": {
        "id": "9N3Y1mIqWbbc"
      },
      "source": [
        "from random import randint\n",
        "\n",
        "N = randint(1,10)\n",
        "A = [randint(1,20) for _ in range(N)]\n",
        "i = 0\n",
        "j = 0\n",
        "\n",
        "while i < len(A) :\n",
        "  j = j + A[i]\n",
        "  i += 1\n",
        "\n",
        "print(A)\n",
        "print('La somme du tableau est '+str(j))\n"
      ],
      "execution_count": null,
      "outputs": []
    },
    {
      "cell_type": "markdown",
      "metadata": {
        "id": "DUugJRglYu6f"
      },
      "source": [
        "### 2. La somme : retour\n",
        "\n",
        "Ecrire un algorithme constituant un tableau, à partir de deux tableaux de même longueur préalablement saisis. Le nouveau tableau sera la somme des éléments des deux tableaux de départ.\n",
        "\n",
        "pseudo-code:\n",
        "\n",
        "> On instancie N avec une valeur aléatoire comprise entre 1 et 10.  \n",
        "On instancie deux tableaux A et B de taille N avec des valeurs aléatoires comprisent entre 1 et 20.  \n",
        "On instancie un tableau vide C.  \n",
        "On instancie i = 0.  \n",
        "Tant que i < N :\n",
        "\n",
        ">> On ajoute au tableau C valeur de A à l'index i + valeur de B à l'index i.  \n",
        "On incrémente i.\n",
        "\n",
        "> (Debug) On affiche A.  \n",
        "(Debug) On affiche B.  \n",
        "On affiche C.\n"
      ]
    },
    {
      "cell_type": "code",
      "metadata": {
        "id": "IbmtmYkbcsHk"
      },
      "source": [
        "from random import randint\n",
        "\n",
        "N = randint(1,10)\n",
        "A = [randint(1,20) for _ in range(N)]\n",
        "B = [randint(1,20) for _ in range(N)]\n",
        "C = []\n",
        "i = 0\n",
        "\n",
        "while i < N :\n",
        "  C.append(A[i] + B[i])\n",
        "  i += 1\n",
        "\n",
        "print(A)\n",
        "print(B)\n",
        "print(C)"
      ],
      "execution_count": null,
      "outputs": []
    },
    {
      "cell_type": "markdown",
      "metadata": {
        "id": "JSXcnJm-SndH"
      },
      "source": [
        "### 3. FacProduct\n",
        "\n",
        "Toujours à partir de deux tableaux précédemment saisis, écrire un algorithme qui calcule le \"FacProduct\" des deux tableaux. Pour calculer le \"FacProduct\", il faut multiplier chaque élément du tableau1 par chaque élément du tableau2, et\n",
        "additionner le tout.\n",
        "\n",
        "pseudo-code :\n",
        "\n",
        "> On instancie N avec une valeur aléatoire comprise entre 1 et 10.  \n",
        "On instancie deux tableaux A et B de taille N avec des valeurs aléatoires comprisent entre 1 et 20.  \n",
        "On instancie i = 0.  \n",
        "On instancie j = 0.  \n",
        "Tant que i < N :\n",
        "\n",
        ">> Pour chaque élément e du tableau B :\n",
        "\n",
        ">>> j = j + (valeur de A d'index i multiplié par valeur de e).  \n",
        "\n",
        ">> On incrémente i.\n",
        "\n",
        "> (Debug) On affiche A.  \n",
        "(Debug) On affiche B.  \n",
        "On affiche le FacProduct des tableaux A et B."
      ]
    },
    {
      "cell_type": "code",
      "metadata": {
        "id": "V3yTyUV6WP2C"
      },
      "source": [
        "from random import randint\n",
        "\n",
        "N = randint(1,10)\n",
        "A = [randint(1,10) for _ in range(N)]\n",
        "B = [randint(1,10) for _ in range(N)]\n",
        "i = 0\n",
        "j = 0\n",
        "\n",
        "while i < N :\n",
        "  for e in B :\n",
        "    j = j + (A[i] * e)\n",
        "  i += 1\n",
        "\n",
        "print(A)\n",
        "print(B)\n",
        "print('La FacProduct est de '+str(j))\n"
      ],
      "execution_count": null,
      "outputs": []
    },
    {
      "cell_type": "markdown",
      "metadata": {
        "id": "R3Duiek1YlhO"
      },
      "source": [
        "### 4. Le plus grand\n",
        "\n",
        "Ecrire un algorithme permettant à l’utilisateur de saisir un nombre déterminé de valeurs. Le programme, une fois la saisie terminée, renvoie la plus grande valeur en précisant quelle position elle occupe dans le tableau.\n",
        "\n",
        "pseudo-code :\n",
        "\n",
        "> On instancie un tableau A.  \n",
        "On instancie i = 0.   \n",
        "Tant que i < 5 :\n",
        "\n",
        ">> On Demande et insère une valeur dans A.  \n",
        "On incrément i.\n",
        "\n",
        ">(Debug) On affiche A.  \n",
        "On instancie MAX = valeur de A à l'index 0.  \n",
        "On instancie POS_MAX = 0.  \n",
        "Pour chaque éléments e de A :  \n",
        "\n",
        ">> Si e > MAX :\n",
        "\n",
        ">>> MAX = valeur de e.  \n",
        "POS_MAX = Position de e.\n",
        "\n",
        "> On Affiche le maximum et sa position dans le tableau A."
      ]
    },
    {
      "cell_type": "code",
      "metadata": {
        "id": "vXfF7KpbipYm"
      },
      "source": [
        "A = []\n",
        "i = 1\n",
        "\n",
        "while i < 6 :\n",
        "  A.append(int(input('Entrez une valeur '+str(i)+' : ')))\n",
        "  i += 1\n",
        "\n",
        "print(A)\n",
        "MAX = A[0]\n",
        "POS_MAX = 0\n",
        "for e in A :\n",
        "  if e > MAX:\n",
        "    MAX = e\n",
        "    POS_MAX = A.index(e)\n",
        "\n",
        "print(\"La valeur Max est \"+str(MAX)+\" d'index \"+str(POS_MAX))\n"
      ],
      "execution_count": null,
      "outputs": []
    }
  ]
}