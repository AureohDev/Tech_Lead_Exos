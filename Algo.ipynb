{
  "nbformat": 4,
  "nbformat_minor": 0,
  "metadata": {
    "colab": {
      "name": "Algo.ipynb",
      "provenance": [],
      "authorship_tag": "ABX9TyNLf26wIdJy1CMmnhHEGKtA",
      "include_colab_link": true
    },
    "kernelspec": {
      "name": "python3",
      "display_name": "Python 3"
    }
  },
  "cells": [
    {
      "cell_type": "markdown",
      "metadata": {
        "id": "view-in-github",
        "colab_type": "text"
      },
      "source": [
        "<a href=\"https://colab.research.google.com/github/AureohDev/Tech_Lead_Exos/blob/main/Algo.ipynb\" target=\"_parent\"><img src=\"https://colab.research.google.com/assets/colab-badge.svg\" alt=\"Open In Colab\"/></a>"
      ]
    },
    {
      "cell_type": "markdown",
      "metadata": {
        "id": "LF2xdI23Vpin"
      },
      "source": [
        "# Exercices Algorithmique\n",
        "\n",
        "## 1. Bases \n",
        "\n",
        "### a. Simple échange\n",
        "\n",
        "Ecrire un algorithme permettant d’´echanger les valeurs dedeux variables A et\n",
        "B."
      ]
    },
    {
      "cell_type": "code",
      "metadata": {
        "id": "CPjXzt31W7yf"
      },
      "source": [
        "A = input('Valeur de A : ')\n",
        "B = input('Valeur de B : ')\n",
        "\n",
        "C = A\n",
        "A = B\n",
        "B = C\n",
        "\n",
        "print('A = '+A)\n",
        "print('B = '+B)"
      ],
      "execution_count": null,
      "outputs": []
    }
  ]
}